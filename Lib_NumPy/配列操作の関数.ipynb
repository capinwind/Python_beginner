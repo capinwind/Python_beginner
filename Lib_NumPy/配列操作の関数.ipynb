{
 "cells": [
  {
   "cell_type": "markdown",
   "metadata": {},
   "source": [
    "# 配列操作関数リスト"
   ]
  },
  {
   "cell_type": "markdown",
   "metadata": {},
   "source": [
    "* Sort     ソート\n",
    "* argsort  インデックスソート  \n",
    "* ravel    配列をフラット（一次元）にする\n",
    "* flatten  配列をフラット（一次元）にしたコピーを返す\n",
    "* delete   削除\n",
    "* insert   挿入\n",
    "* append   追加\n",
    "* tile     パターンを繰り返す\n",
    "* vstack   二次元配列（行列）を垂直方向（0軸）に沿って貼り合わせる\n",
    "* hastack  二次元配列（行列）を水平方向（1軸）に沿って貼り合わせる\n",
    "* copy     配列をコピー\n",
    "* alen     0軸方向の長さを返す\n",
    "\n",
    "\n",
    "\n"
   ]
  },
  {
   "cell_type": "code",
   "execution_count": 17,
   "metadata": {},
   "outputs": [
    {
     "name": "stdout",
     "output_type": "stream",
     "text": [
      "a = \n",
      " [[  0  -1  -2  -3]\n",
      " [ -4  -5  -6  -7]\n",
      " [ -8  -9 -10 -11]]\n",
      "sa = \n",
      " [[ -3  -2  -1   0]\n",
      " [ -7  -6  -5  -4]\n",
      " [-11 -10  -9  -8]]\n",
      "sa_axis0 = \n",
      " [[ -8  -9 -10 -11]\n",
      " [ -4  -5  -6  -7]\n",
      " [  0  -1  -2  -3]]\n",
      "sa_axis1 = \n",
      " [[ -3  -2  -1   0]\n",
      " [ -7  -6  -5  -4]\n",
      " [-11 -10  -9  -8]]\n"
     ]
    }
   ],
   "source": [
    "import numpy as np\n",
    "\n",
    "a = -np.arange(12).reshape(3,4); print('a = \\n', a)\n",
    "\n",
    "sa = np.sort(a); print('sa = \\n', sa)\n",
    "sa1 = np.sort(a, axis = 0); print('sa_axis0 = \\n', sa1)\n",
    "sa2 = np.sort(a, axis = 1); print('sa_axis1 = \\n', sa2)"
   ]
  },
  {
   "cell_type": "code",
   "execution_count": 18,
   "metadata": {},
   "outputs": [
    {
     "name": "stdout",
     "output_type": "stream",
     "text": [
      "a = \n",
      " [[  0  -1  -2  -3]\n",
      " [ -4  -5  -6  -7]\n",
      " [ -8  -9 -10 -11]]\n",
      "b = \n",
      " [[  0  -1  -2  -3]\n",
      " [ -4  -6  -5  -7]\n",
      " [ -8  -9 -10 -11]]\n",
      "sb = \n",
      " [[ -3  -2  -1   0]\n",
      " [ -7  -6  -5  -4]\n",
      " [-11 -10  -9  -8]]\n",
      "sb_axis0 = \n",
      " [[ -8  -9 -10 -11]\n",
      " [ -4  -6  -5  -7]\n",
      " [  0  -1  -2  -3]]\n",
      "sb_axis1 = \n",
      " [[ -3  -2  -1   0]\n",
      " [ -7  -6  -5  -4]\n",
      " [-11 -10  -9  -8]]\n"
     ]
    }
   ],
   "source": [
    "a = -np.arange(12).reshape(3,4); print('a = \\n', a)\n",
    "\n",
    "a[1,1], a[1,2] = a[1,2], a[1,1]  # 行列それぞれ独立してソートしているよう\n",
    "b = a; print('b = \\n', b)\n",
    "\n",
    "sb = np.sort(b); print('sb = \\n', sb)\n",
    "sb1 = np.sort(b, axis = 0); print('sb_axis0 = \\n', sb1)\n",
    "sb2 = np.sort(b, axis = 1); print('sb_axis1 = \\n', sb2)"
   ]
  },
  {
   "cell_type": "markdown",
   "metadata": {},
   "source": [
    "argsort: 配列aをソートしたときのインデックス配列を返す。"
   ]
  },
  {
   "cell_type": "code",
   "execution_count": 26,
   "metadata": {},
   "outputs": [
    {
     "name": "stdout",
     "output_type": "stream",
     "text": [
      "a = \n",
      " [-0.00569679  1.4803106   0.27674516  0.24454502  0.66651908  0.71734438\n",
      "  0.63023192  0.02595962 -1.72611863  0.49422948]\n",
      "b = \n",
      " [8 0 7 3 2 9 6 4 5 1]\n",
      "a[b] = \n",
      " [-1.72611863 -0.00569679  0.02595962  0.24454502  0.27674516  0.49422948\n",
      "  0.63023192  0.66651908  0.71734438  1.4803106 ]\n",
      "c= \n",
      " [[-0.08233887  0.32828826 -1.47874716 -1.93568677]\n",
      " [ 0.99878306  0.75178979 -0.54869733 -1.07728085]\n",
      " [ 1.58087053 -1.32851181 -0.02052937  0.58472426]]\n",
      "np.argsort(c) = \n",
      " [[3 2 0 1]\n",
      " [3 2 1 0]\n",
      " [1 2 3 0]]\n"
     ]
    }
   ],
   "source": [
    "import numpy.random as random\n",
    "a = random.randn(10)\n",
    "c = random.randn(3,4)\n",
    "b = np.argsort(a)\n",
    "print('a = \\n', a)\n",
    "print('b = \\n', b)\n",
    "print('a[b] = \\n', a[b])\n",
    "\n",
    "print('c= \\n', c)\n",
    "print('np.argsort(c) = \\n', np.argsort(c))\n",
    "d= np.argsort(c)\n",
    "# print('c[d] = \\n', c[d]) 二次元配列は簡単にIndexでソートできない"
   ]
  },
  {
   "cell_type": "markdown",
   "metadata": {},
   "source": [
    "#### ravel & flatten & reshape(-1)\n",
    "\n",
    "* flatten      遅い。フラットな配列のコピーを返すから時間かかる\n",
    "* ravel　　　　速い。見方(view)を変えているだけで、もとの配列を書き換えると影響されてしまう\n",
    "* reshape(-1)　やや速い。見方(view)を変えているだけで、もとの配列を書き換えると影響されてしまう"
   ]
  },
  {
   "cell_type": "code",
   "execution_count": 31,
   "metadata": {
    "scrolled": true
   },
   "outputs": [
    {
     "name": "stdout",
     "output_type": "stream",
     "text": [
      "a = \n",
      " [[ 0  1  2  3]\n",
      " [ 4  5  6  7]\n",
      " [ 8  9 10 11]]\n",
      "b1_flattern = \n",
      " [ 0  1  2  3  4  5  6  7  8  9 10 11]\n",
      "b2_ravel = \n",
      " [100   1   2   3   4   5   6   7   8   9  10  11]\n",
      "b3_reshape = \n",
      " [100   1   2   3   4   5   6   7   8   9  10  11]\n"
     ]
    }
   ],
   "source": [
    "a = np.arange(12).reshape(3,4); print('a = \\n', a)\n",
    "\n",
    "b1 = a.flatten()\n",
    "b2 = a.ravel()\n",
    "b3 = a.reshape(-1)\n",
    "\n",
    "a[0,0] = 100\n",
    "\n",
    "print('b1_flattern = \\n', b1)\n",
    "print('b2_ravel = \\n', b2)\n",
    "print('b3_reshape = \\n', b3)"
   ]
  },
  {
   "cell_type": "code",
   "execution_count": 33,
   "metadata": {},
   "outputs": [
    {
     "name": "stdout",
     "output_type": "stream",
     "text": [
      "36.5 ms ± 2.3 ms per loop (mean ± std. dev. of 7 runs, 100 loops each)\n",
      "483 ns ± 27.6 ns per loop (mean ± std. dev. of 7 runs, 100 loops each)\n",
      "1.59 µs ± 23.6 ns per loop (mean ± std. dev. of 7 runs, 100 loops each)\n"
     ]
    }
   ],
   "source": [
    "#実行時間の確認\n",
    "\n",
    "a = random.randn(3000,3000)\n",
    "%timeit -n 100 b1 = a.flatten()  #34.8 ms ± 2.16 ms\n",
    "%timeit -n 100 b2 = a.ravel()    #277 ns ± 19.9 ns\n",
    "%timeit -n 100 b3 = a.reshape(-1)  #801 ns ± 25.7 ns"
   ]
  },
  {
   "cell_type": "markdown",
   "metadata": {},
   "source": [
    "#### delete: \n",
    "    \n",
    "delete(arr, obj, axis)\n",
    "* arr:   対象配列を指定\n",
    "* obj:   削除する場所のインデックスかそれらのシーケンス；またはスライス表記が入り、\n",
    "* axis:  軸を指定"
   ]
  },
  {
   "cell_type": "code",
   "execution_count": 46,
   "metadata": {},
   "outputs": [
    {
     "name": "stdout",
     "output_type": "stream",
     "text": [
      "a= \n",
      " [[ 1  2  3  4  5  6]\n",
      " [ 7  8  9 10 11 12]\n",
      " [13 14 15 16 17 18]\n",
      " [19 20 21 22 23 24]\n",
      " [25 26 27 28 29 30]\n",
      " [31 32 33 34 35 36]]\n",
      "特定な要素を削除\n",
      "[ 1  3  4  5  6  7  8  9 10 11 12 13 14 15 16 17 18 19 20 21 22 23 24 25\n",
      " 26 27 28 29 30 31 32 33 34 35 36]\n",
      "指定の行を削除\n",
      "[[ 1  2  3  4  5  6]\n",
      " [13 14 15 16 17 18]\n",
      " [19 20 21 22 23 24]\n",
      " [25 26 27 28 29 30]\n",
      " [31 32 33 34 35 36]]\n",
      "指定の列を削除\n",
      "[[ 1  3  4  5  6]\n",
      " [ 7  9 10 11 12]\n",
      " [13 15 16 17 18]\n",
      " [19 21 22 23 24]\n",
      " [25 27 28 29 30]\n",
      " [31 33 34 35 36]]\n",
      "複雑条件の削除\n",
      "[[ 2  4  6]\n",
      " [ 8 10 12]\n",
      " [14 16 18]\n",
      " [20 22 24]\n",
      " [26 28 30]\n",
      " [32 34 36]]\n",
      "複雑条件の削除２\n",
      "[[ 7  8  9 10 11 12]\n",
      " [19 20 21 22 23 24]\n",
      " [31 32 33 34 35 36]]\n",
      "slice(0, None, 2)\n"
     ]
    }
   ],
   "source": [
    "#a = np.array([[i + k*1j for k in range(4)] for i in range(3)]); print('a= \\n',a)\n",
    "a = np.arange(1,37).reshape(6,6); print('a= \\n',a)\n",
    "\n",
    "print('特定な要素を削除')\n",
    "print(np.delete(a,1)) # delete no.10 element　要素指定したら、配列が展開される\n",
    "print('指定の行を削除')\n",
    "print(np.delete(a,1,0)) #delete row no.1\n",
    "print('指定の列を削除')\n",
    "print(np.delete(a,1,1)) #delete column no.1\n",
    "print('複雑条件の削除')\n",
    "print(np.delete(a,np.s_[0::2],1)) #第0列目から2列ごとに取り除く\n",
    "print('複雑条件の削除２')\n",
    "print(np.delete(a,np.s_[0::2],0)) #第0行目から2行ごとに取り除く\n",
    "\n",
    "\n",
    "print(np.s_[0::2])  \n",
    "#slice(0, None, 2)"
   ]
  },
  {
   "cell_type": "markdown",
   "metadata": {},
   "source": [
    "#### insert: 配列に新たに値を挿入する関数である\n",
    "\n",
    "insert(arr, obj, values, axis)\n",
    "\n",
    "* 軸指定しなかった場合、配列はフラットFlatになる\n",
    "* 挿入はして場所の**前**に挿入される"
   ]
  },
  {
   "cell_type": "code",
   "execution_count": 56,
   "metadata": {},
   "outputs": [
    {
     "name": "stdout",
     "output_type": "stream",
     "text": [
      "a= \n",
      " [[ 1  2  3  4]\n",
      " [ 5  6  7  8]\n",
      " [ 9 10 11 12]]\n",
      "5番目の要素(0start)の前に100を挿入する\n",
      "[  1   2   3   4   5 100   6   7   8   9  10  11  12]\n",
      "3列目の要素をコピーして、列0の前に挿入する\n",
      "[[ 4  1  2  3  4]\n",
      " [ 8  5  6  7  8]\n",
      " [12  9 10 11 12]]\n",
      "3列目の要素をコピーして、列1の前に挿入する\n",
      "[[ 1  4  2  3  4]\n",
      " [ 5  8  6  7  8]\n",
      " [ 9 12 10 11 12]]\n"
     ]
    }
   ],
   "source": [
    "a = a = np.arange(1,13).reshape(3,4); print('a= \\n',a)\n",
    "print('5番目の要素(0start)の前に100を挿入する')\n",
    "print(np.insert(a,5,100))\n",
    "print('3列目の要素をコピーして、列0の前に挿入する')\n",
    "print(np.insert(a,0,a[:,3],axis=1))\n",
    "print('3列目の要素をコピーして、列1の前に挿入する')\n",
    "print(np.insert(a,1,a[:,3],axis=1))"
   ]
  },
  {
   "cell_type": "markdown",
   "metadata": {},
   "source": [
    "#### append:　要素を配列の**最後**に加える関数\n",
    "append(arr, values, axis)\n",
    "* 軸を与えられなかった場合、arrとvalueはともにフラットにされる"
   ]
  },
  {
   "cell_type": "markdown",
   "metadata": {},
   "source": [
    "#### tile, hstack, vstack\n",
    "小さな2次元配列を繰り返し使い、より大きな配列を作るメソッド\n",
    "* tile(a, reps)　配列aをrepsの型だけ繰り返す\n",
    "* hstack(tup)　配列のタプルtup成分をそれぞれ水平方向に結合する\n",
    "* vstack(tup)　配列のタプルtup成分をそれぞれ垂直方向に結合する"
   ]
  },
  {
   "cell_type": "code",
   "execution_count": 60,
   "metadata": {},
   "outputs": [
    {
     "name": "stdout",
     "output_type": "stream",
     "text": [
      "a= \n",
      " [[0 1]\n",
      " [2 3]]\n",
      "2*2の行列を2*6に三回コピーする\n",
      "tiled a = \n",
      " [[0 1 0 1 0 1]\n",
      " [2 3 2 3 2 3]]\n",
      "2*2の行列を(2,1)(4*2)の配置でコピーする\n",
      "tiled a = \n",
      " [[0 1]\n",
      " [2 3]\n",
      " [0 1]\n",
      " [2 3]]\n"
     ]
    }
   ],
   "source": [
    "a = a = np.arange(4).reshape(2,2); print('a= \\n',a)\n",
    "print('2*2の行列を2*6に三回コピーする')\n",
    "print('tiled a = \\n', np.tile(a,3))\n",
    "print('2*2の行列を(2,1)(4*2)の配置でコピーする')\n",
    "print('tiled a = \\n', np.tile(a,(2,1)))"
   ]
  },
  {
   "cell_type": "code",
   "execution_count": 66,
   "metadata": {},
   "outputs": [
    {
     "name": "stdout",
     "output_type": "stream",
     "text": [
      "b= \n",
      " [[1. 0.]\n",
      " [0. 1.]]\n",
      "b.T= \n",
      " [[1. 0.]\n",
      " [0. 1.]]\n",
      "配列aとbを水平につなぐ\n",
      "[[0. 1. 1. 0.]\n",
      " [2. 3. 0. 1.]]\n",
      "配列aとbを垂直につなぐ\n",
      "[[0. 1.]\n",
      " [2. 3.]\n",
      " [1. 0.]\n",
      " [0. 1.]]\n"
     ]
    }
   ],
   "source": [
    "b = np.identity(2); print('b= \\n',b)\n",
    "print('b.T= \\n',b.T)\n",
    "print('配列aとbを水平につなぐ')\n",
    "print(np.hstack((a,b)))\n",
    "print('配列aとbを垂直につなぐ')\n",
    "print(np.vstack((a,b)))\n",
    "#print(np.vstack((a.T,b.T)))"
   ]
  },
  {
   "cell_type": "markdown",
   "metadata": {},
   "source": [
    "#### copy & alen\n",
    "copy(a, order) \n",
    "* order　メモリーレイアウトのオプション；既定値はKであり、できるだけオリジナルのaに従う意味\n",
    "\n",
    "alen   引数として与えられた配列の0軸方向の長さを返す"
   ]
  },
  {
   "cell_type": "code",
   "execution_count": 69,
   "metadata": {},
   "outputs": [
    {
     "name": "stdout",
     "output_type": "stream",
     "text": [
      "True\n",
      "False\n",
      "2\n"
     ]
    }
   ],
   "source": [
    "a = np.arange(10)\n",
    "b = a\n",
    "c = np.copy(a)\n",
    "\n",
    "a[0] = -100\n",
    "\n",
    "print(a[0] == b[0]) #True\n",
    "print(a[0] == c[0]) #False\n",
    "\n",
    "a.shape = (2,5)\n",
    "print(np.alen(a)) # 2 行数"
   ]
  }
 ],
 "metadata": {
  "kernelspec": {
   "display_name": "Python 3",
   "language": "python",
   "name": "python3"
  },
  "language_info": {
   "codemirror_mode": {
    "name": "ipython",
    "version": 3
   },
   "file_extension": ".py",
   "mimetype": "text/x-python",
   "name": "python",
   "nbconvert_exporter": "python",
   "pygments_lexer": "ipython3",
   "version": "3.7.7"
  }
 },
 "nbformat": 4,
 "nbformat_minor": 4
}
