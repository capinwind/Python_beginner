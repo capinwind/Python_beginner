{
 "cells": [
  {
   "cell_type": "code",
   "execution_count": 3,
   "metadata": {},
   "outputs": [],
   "source": [
    "# -*- coding: utf-8 -*-\n",
    "import numpy as np"
   ]
  },
  {
   "cell_type": "markdown",
   "metadata": {},
   "source": [
    "# 配列種類\n",
    "array       リストやタプルを配列に変換\n",
    "zeros       ０配列；引数として配列の型をタプルで渡す\n",
    "zeros_like  ０配列；引数の配列と同じ型の配列を返す\n",
    "ones\n",
    "onee_like\n",
    "full\n",
    "full_like\n",
    "empty       値を初期化せず指定の型の配列を返す\n",
    "arange      等間隔の数からなる１次元配列を生成\n",
    "linspace    等間隔の数からなる１次元配列を生成\n",
    "logspace    成分の対数が等間隔になる１次元配列\n",
    "meshgrid    碁盤の目状の２次元座標を軸ごとに分けて返す\n",
    "identity    単位行列に対応する配列を返す、引数は行列の次数\n",
    "eye         単位行列に対応する配列を返す；引数は行列の行数ｍと列数ｎ\n",
    "diag        １次元のリストやタプルや配列からそれらが対角に並ぶ２次元配列を返す\n",
    "tri         対角とそれ以下の部分が全て１で、他が０である行列を返す\n",
    "vander      Vandermonde行列を返す"
   ]
  },
  {
   "cell_type": "code",
   "execution_count": 2,
   "metadata": {},
   "outputs": [
    {
     "name": "stdout",
     "output_type": "stream",
     "text": [
      "z1 =  [0. 0. 0.]\n",
      "z2 =  [[0. 0. 0.]\n",
      " [0. 0. 0.]]\n",
      "z3 =  [[0 0 0]\n",
      " [0 0 0]\n",
      " [0 0 0]]\n"
     ]
    }
   ],
   "source": [
    "z1 = np.zeros(3,);                  print('z1 = ', z1)\n",
    "z2 = np.zeros((2,3));               print('z2 = ', z2)\n",
    "L = [[1.0,2,3],[4,5,6],[7,8,9]]\n",
    "z3 = np.zeros_like(L, dtype = int); print('z3 = ',z3)"
   ]
  },
  {
   "cell_type": "code",
   "execution_count": 3,
   "metadata": {},
   "outputs": [
    {
     "name": "stdout",
     "output_type": "stream",
     "text": [
      "a=  [[1. 2. 3.]\n",
      " [4. 5. 6.]\n",
      " [7. 8. 9.]]\n",
      "b=  [[4607182418800017408 4611686018427387904 4613937818241073152]\n",
      " [4616189618054758400 4617315517961601024 4618441417868443648]\n",
      " [4619567317775286272 4620693217682128896 4621256167635550208]]\n"
     ]
    }
   ],
   "source": [
    "a = np.empty((3,3));                print('a= ',a)\n",
    "b = np.empty((3,3), dtype=int);     print('b= ',b)"
   ]
  },
  {
   "cell_type": "code",
   "execution_count": 4,
   "metadata": {},
   "outputs": [
    {
     "name": "stdout",
     "output_type": "stream",
     "text": [
      "11.9 µs ± 540 ns per loop (mean ± std. dev. of 7 runs, 100000 loops each)\n",
      "376 ms ± 134 ms per loop (mean ± std. dev. of 7 runs, 1 loop each)\n",
      "12.8 µs ± 718 ns per loop (mean ± std. dev. of 7 runs, 100000 loops each)\n"
     ]
    }
   ],
   "source": [
    "# only work in ipython; ones cost more time\n",
    "\n",
    "N=10000\n",
    "%timeit np.zeros((N,N))     \n",
    "%timeit np.ones((N,N))     #cost more than 10000 times \n",
    "%timeit np.empty((N,N))"
   ]
  },
  {
   "cell_type": "markdown",
   "metadata": {},
   "source": [
    "### array(range(n))とarange(n)の比較\n",
    "\n",
    "-arangeはlinspaceと同じ、等間隔配列を生成する関数\n",
    "\n",
    "-そのため、引数が正整数一つのとき、array(range(n))と同じ結果を得る \n",
    "\n",
    "-arange(n)が約80倍速い"
   ]
  },
  {
   "cell_type": "code",
   "execution_count": 5,
   "metadata": {},
   "outputs": [
    {
     "name": "stdout",
     "output_type": "stream",
     "text": [
      "[0 1 2 3 4 5 6 7 8 9]\n",
      "[0 1 2 3 4 5 6 7 8 9]\n",
      "216 ms ± 24.4 ms per loop (mean ± std. dev. of 7 runs, 1 loop each)\n",
      "2.65 ms ± 120 µs per loop (mean ± std. dev. of 7 runs, 100 loops each)\n"
     ]
    }
   ],
   "source": [
    "print(np.array(range(10)))\n",
    "print(np.arange(10))\n",
    "\n",
    "n = 1000000\n",
    "%timeit a = np.array(range(n))\n",
    "%timeit b = np.arange(n)"
   ]
  },
  {
   "cell_type": "markdown",
   "metadata": {},
   "source": [
    "### comparison of arange and linspace "
   ]
  },
  {
   "cell_type": "code",
   "execution_count": 6,
   "metadata": {},
   "outputs": [
    {
     "name": "stdout",
     "output_type": "stream",
     "text": [
      "<class 'numpy.float64'>\n",
      "<class 'numpy.float64'>\n"
     ]
    }
   ],
   "source": [
    "p = np.pi\n",
    "\n",
    "#arange(start, stop, step, dtype)\n",
    "#linspace(start, stop, num)\n",
    "\n",
    "a = np.arange(-p,p,p/6) \n",
    "b = np.linspace(-p,p,13)\n",
    "#print(a)\n",
    "#print(b)\n",
    "\n",
    "print(type(a[0]))\n",
    "print(type(b[0]))  #同じF64なのに、なぜか表示が違う\n",
    "\n",
    "#print(np.arange(-p,p,p/6))    \n",
    "#print(np.linspace(-p,p,13))"
   ]
  },
  {
   "cell_type": "markdown",
   "metadata": {},
   "source": [
    "### Logspace(start, stop, num=50, endpoint=True, base=10.0, dtype=None)\n",
    "※引数：6つ\n",
    "※返り値：baseのstart乗からbaseのend乗までの数値を、baseを底とする対数をとると、num個に均等に配置された数の配列を返す\n",
    "※Endpoint：最後の値であるbaseのstop乗を場外するかどうか\n",
    "\n",
    "※arangeやlinspaceは等差数列\n",
    "※logspaceは等比数列を生成\n",
    "\n",
    "※例："
   ]
  },
  {
   "cell_type": "code",
   "execution_count": 7,
   "metadata": {},
   "outputs": [
    {
     "name": "stdout",
     "output_type": "stream",
     "text": [
      "a =  [1.000000e+00 5.000000e-01 2.500000e-01 1.250000e-01 6.250000e-02\n",
      " 3.125000e-02 1.562500e-02 7.812500e-03 3.906250e-03 1.953125e-03\n",
      " 9.765625e-04]\n",
      "log2(a) =  [  0.  -1.  -2.  -3.  -4.  -5.  -6.  -7.  -8.  -9. -10.]\n"
     ]
    }
   ],
   "source": [
    "a = np.logspace(0,10,11,base=0.5)\n",
    "print('a = ', a)\n",
    "print('log2(a) = ', np.log2(a))"
   ]
  },
  {
   "cell_type": "code",
   "execution_count": 5,
   "metadata": {},
   "outputs": [
    {
     "name": "stdout",
     "output_type": "stream",
     "text": [
      "X=  [[1. 2. 3.]\n",
      " [1. 2. 3.]\n",
      " [1. 2. 3.]\n",
      " [1. 2. 3.]\n",
      " [1. 2. 3.]]\n",
      "Y=  [[-1. -1. -1.]\n",
      " [ 0.  0.  0.]\n",
      " [ 1.  1.  1.]\n",
      " [ 2.  2.  2.]\n",
      " [ 3.  3.  3.]]\n"
     ]
    }
   ],
   "source": [
    "#Meshgrid\n",
    "\n",
    "x=np.linspace(1,3,3)\n",
    "y=np.linspace(-1,3,5)\n",
    "\n",
    "X,Y = np.meshgrid(x,y) ; print ('X= ', X); print ('Y= ', Y)"
   ]
  },
  {
   "cell_type": "code",
   "execution_count": 8,
   "metadata": {},
   "outputs": [
    {
     "name": "stdout",
     "output_type": "stream",
     "text": [
      "[[1. 0. 0. 0. 0.]\n",
      " [0. 1. 0. 0. 0.]\n",
      " [0. 0. 1. 0. 0.]\n",
      " [0. 0. 0. 1. 0.]\n",
      " [0. 0. 0. 0. 1.]]\n",
      "[[0. 0. 1. 0. 0. 0.]\n",
      " [0. 0. 0. 1. 0. 0.]\n",
      " [0. 0. 0. 0. 1. 0.]\n",
      " [0. 0. 0. 0. 0. 1.]]\n",
      "[[1. 0. 0. 0. 0. 0.]\n",
      " [0. 1. 0. 0. 0. 0.]\n",
      " [0. 0. 1. 0. 0. 0.]\n",
      " [0. 0. 0. 1. 0. 0.]]\n",
      "[[0. 0. 0.]\n",
      " [1. 0. 0.]\n",
      " [0. 1. 0.]\n",
      " [0. 0. 1.]\n",
      " [0. 0. 0.]\n",
      " [0. 0. 0.]]\n"
     ]
    }
   ],
   "source": [
    "# Identity & Eye\n",
    "\n",
    "print(np.identity(5))\n",
    "print(np.eye(4,6,2))\n",
    "print(np.eye(4,6,0))\n",
    "print(np.eye(6,3,-1))"
   ]
  },
  {
   "cell_type": "code",
   "execution_count": 14,
   "metadata": {},
   "outputs": [
    {
     "name": "stdout",
     "output_type": "stream",
     "text": [
      "a=  [[ 1  2  3]\n",
      " [ 4  5  6]\n",
      " [ 7  8  9]\n",
      " [10 11 12]]\n",
      "b=  [[1 0 0 0]\n",
      " [0 2 0 0]\n",
      " [0 0 3 0]\n",
      " [0 0 0 4]]\n",
      "c=  [1 5 9]\n",
      "d=  [[1. 0. 0.]\n",
      " [1. 1. 0.]\n",
      " [1. 1. 1.]]\n",
      "e=  [[1. 0. 0. 0. 0.]\n",
      " [1. 1. 0. 0. 0.]\n",
      " [1. 1. 1. 0. 0.]\n",
      " [1. 1. 1. 1. 0.]]\n"
     ]
    }
   ],
   "source": [
    "#diag(一次元のリストやタプル) \n",
    "#tri（m,n）:対角上０対角下１\n",
    "\n",
    "a = np.arange(1,13).reshape((4,3)); print('a= ', a)\n",
    "b = np.diag([1,2,3,4]); print('b= ', b)\n",
    "c = np.diag(a); print('c= ', c)\n",
    "d = np.tri(3); print('d= ', d)\n",
    "e = np.tri(4,5); print('e= ', e)"
   ]
  },
  {
   "cell_type": "code",
   "execution_count": 17,
   "metadata": {},
   "outputs": [
    {
     "name": "stdout",
     "output_type": "stream",
     "text": [
      "v1 = \n",
      " [[  1   1   1   1]\n",
      " [  8   4   2   1]\n",
      " [ 27   9   3   1]\n",
      " [125  25   5   1]]\n",
      "v2 = \n",
      " [[  1   1   1   1]\n",
      " [  1   2   4   8]\n",
      " [  1   3   9  27]\n",
      " [  1   5  25 125]]\n",
      "v3 = \n",
      " [[1 1]\n",
      " [1 2]\n",
      " [1 3]\n",
      " [1 5]]\n",
      "v4 = \n",
      " [[ 1  1  1]\n",
      " [ 1  2  4]\n",
      " [ 1  3  9]\n",
      " [ 1  5 25]]\n"
     ]
    }
   ],
   "source": [
    "#Vandermonde\n",
    "#np.vander(x, N=None, increasing=False)\n",
    "\n",
    "x = np.array([1,2,3,5])\n",
    "v1 = np.vander(x); print('v1 = \\n', v1)\n",
    "v2 = np.vander(x, increasing=True); print('v2 = \\n', v2)\n",
    "v3 = np.vander(x, 2, increasing=True); print('v3 = \\n', v3)\n",
    "v4 = np.vander(x, 3, increasing=True); print('v4 = \\n', v4)"
   ]
  }
 ],
 "metadata": {
  "file_extension": ".py",
  "kernelspec": {
   "display_name": "Python 3",
   "language": "python",
   "name": "python3"
  },
  "language_info": {
   "codemirror_mode": {
    "name": "ipython",
    "version": 3
   },
   "file_extension": ".py",
   "mimetype": "text/x-python",
   "name": "python",
   "nbconvert_exporter": "python",
   "pygments_lexer": "ipython3",
   "version": "3.7.6"
  },
  "mimetype": "text/x-python",
  "name": "python",
  "npconvert_exporter": "python",
  "pygments_lexer": "ipython3",
  "version": 3
 },
 "nbformat": 4,
 "nbformat_minor": 2
}
