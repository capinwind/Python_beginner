{
 "cells": [
  {
   "cell_type": "markdown",
   "metadata": {},
   "source": [
    "# 配列の中身を判定する関数"
   ]
  },
  {
   "cell_type": "markdown",
   "metadata": {},
   "source": [
    "* all　　成分が全てTrueならTrueを返す\n",
    "* any　　成分のどれがTrueならTrueを返す\n",
    "* array_equal　配列が等しければTrueを返す\n",
    "* allclose　　配列の成分が全て近い数値かどうかを判断する\n",
    "* unique　　　重複する成分の除去\n",
    "* nonzero　　 非ゼロ成分を取り出す"
   ]
  },
  {
   "cell_type": "markdown",
   "metadata": {},
   "source": [
    "#### all, any, array_equal, allclose"
   ]
  },
  {
   "cell_type": "code",
   "execution_count": 9,
   "metadata": {},
   "outputs": [
    {
     "name": "stdout",
     "output_type": "stream",
     "text": [
      "a=  [ 0.  2.  4.  6.  8. 10. 12. 14. 16. 18.]\n",
      "True\n",
      "False\n",
      "True\n"
     ]
    }
   ],
   "source": [
    "import numpy as np\n",
    "\n",
    "a = np.linspace(0,18,10); print('a= ',a)\n",
    "print(np.all(a%2==0)) #True\n",
    "print(np.any(a<0)) #False\n",
    "print(np.any(a<=0)) #True"
   ]
  },
  {
   "cell_type": "code",
   "execution_count": 13,
   "metadata": {},
   "outputs": [
    {
     "name": "stdout",
     "output_type": "stream",
     "text": [
      "A= \n",
      " [[1. 0. 0.]\n",
      " [1. 1. 0.]\n",
      " [1. 1. 1.]]\n",
      "B= \n",
      " [[ 1.  0.  0.]\n",
      " [-1.  1.  0.]\n",
      " [ 0. -1.  1.]]\n",
      "C= \n",
      " [[1. 0. 0.]\n",
      " [0. 1. 0.]\n",
      " [0. 0. 1.]]\n",
      "True\n",
      "True\n"
     ]
    }
   ],
   "source": [
    "A = np.tri(3,3); print('A= \\n',A)\n",
    "B = np.linalg.inv(A); print('B= \\n',B) #BにAの逆行列を計算する\n",
    "C = np.dot(A,B); print('C= \\n',C)\n",
    "print(np.array_equal(C, np.identity(3))) #True\n",
    "print(np.allclose(C, np.identity(3))) #True"
   ]
  },
  {
   "cell_type": "markdown",
   "metadata": {},
   "source": [
    "#### allclose(a,b,rtol=1.e-5,atol=1.e-8)\n",
    "\n",
    "|a'-b'| <= (atol + rtol * b')\n",
    "* atol: 絶対誤差\n",
    "* rtol: 相対誤差"
   ]
  },
  {
   "cell_type": "code",
   "execution_count": 23,
   "metadata": {},
   "outputs": [
    {
     "name": "stdout",
     "output_type": "stream",
     "text": [
      "False\n",
      "False\n",
      "True\n"
     ]
    }
   ],
   "source": [
    "print(np.allclose(C, np.identity(3)-0.01,rtol=1.e-5,atol=1.e-8)) #False\n",
    "print(np.allclose(C, np.identity(3)-1.e-7,rtol=1.e-5,atol=1.e-8)) #False\n",
    "print(np.allclose(C, np.identity(3)-1.e-8,rtol=1.e-5,atol=1.e-8)) #True"
   ]
  }
 ],
 "metadata": {
  "kernelspec": {
   "display_name": "Python 3",
   "language": "python",
   "name": "python3"
  },
  "language_info": {
   "codemirror_mode": {
    "name": "ipython",
    "version": 3
   },
   "file_extension": ".py",
   "mimetype": "text/x-python",
   "name": "python",
   "nbconvert_exporter": "python",
   "pygments_lexer": "ipython3",
   "version": "3.7.7"
  }
 },
 "nbformat": 4,
 "nbformat_minor": 4
}
