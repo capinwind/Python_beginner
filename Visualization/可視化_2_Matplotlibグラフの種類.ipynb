{
 "cells": [
  {
   "cell_type": "code",
   "execution_count": 2,
   "metadata": {},
   "outputs": [],
   "source": [
    "import matplotlib.pyplot as plt\n",
    "import numpy as np\n",
    "from matplotlib import rcParams\n",
    "rcParams['font.family'] = 'sans-serif'\n",
    "rcParams['font.sans-serif'] = ['Hiragino Maru Gothic Pro', \n",
    "                               'Yu Gothic', 'Meirio', 'Takao', \n",
    "                               'IPAexGothic', 'IPAPGothic', \n",
    "                               'VL PGothic', 'Noto Sans CJK JP']"
   ]
  },
  {
   "cell_type": "markdown",
   "metadata": {},
   "source": [
    "# いろいろなグラフ\n",
    "\n",
    "* 散布図 Scatter plot\n",
    "* ヒストグラム Histogram\n",
    "* 棒グラフ bar Graph\n",
    "* 箱ひげ図　box plot\n",
    "* 円グラフ pie chart\n",
    "* 塗りつぶし fill \n",
    "* 画像 image"
   ]
  },
  {
   "cell_type": "code",
   "execution_count": 10,
   "metadata": {},
   "outputs": [
    {
     "data": {
      "text/plain": [
       "[<matplotlib.lines.Line2D at 0x7f3d87bea290>]"
      ]
     },
     "execution_count": 10,
     "metadata": {},
     "output_type": "execute_result"
    },
    {
     "data": {
      "image/png": "[encoded data removed]",
      "text/plain": [
       "<Figure size 432x288 with 1 Axes>"
      ]
     },
     "metadata": {
      "needs_background": "light"
     },
     "output_type": "display_data"
    }
   ],
   "source": [
    "x = np.random.rand(100)\n",
    "y = np.random.rand(100)\n",
    "plt.plot(x,y,'o')"
   ]
  },
  {
   "cell_type": "code",
   "execution_count": 19,
   "metadata": {},
   "outputs": [
    {
     "data": {
      "text/plain": [
       "(array([5249., 6334., 7018., 7704., 8010., 7944., 7695., 6927., 6120.,\n",
       "        5224.]),\n",
       " array([40., 42., 44., 46., 48., 50., 52., 54., 56., 58., 60.]),\n",
       " <a list of 10 Patch objects>)"
      ]
     },
     "execution_count": 19,
     "metadata": {},
     "output_type": "execute_result"
    },
    {
     "data": {
      "image/png": "[encoded data removed]",
      "text/plain": [
       "<Figure size 432x288 with 2 Axes>"
      ]
     },
     "metadata": {
      "needs_background": "light"
     },
     "output_type": "display_data"
    }
   ],
   "source": [
    "y = np.random.randn(100000)*10 + 50;\n",
    "plt.subplot(121)\n",
    "plt.hist(y, #引数１：値\n",
    "         bins = 60, #引数２：　箱の数\n",
    "         range = (20,80)) #引数３：横軸のレンジ\n",
    "plt.subplot(122)\n",
    "plt.hist(y, bins = 10, range = (40,60))"
   ]
  },
  {
   "cell_type": "code",
   "execution_count": 21,
   "metadata": {},
   "outputs": [
    {
     "data": {
      "text/plain": [
       "([<matplotlib.axis.XTick at 0x7f3d865f8110>,\n",
       "  <matplotlib.axis.XTick at 0x7f3d865f7490>,\n",
       "  <matplotlib.axis.XTick at 0x7f3d865f7750>,\n",
       "  <matplotlib.axis.XTick at 0x7f3d865b7590>,\n",
       "  <matplotlib.axis.XTick at 0x7f3d865b7b90>,\n",
       "  <matplotlib.axis.XTick at 0x7f3d865bd290>,\n",
       "  <matplotlib.axis.XTick at 0x7f3d865bd890>,\n",
       "  <matplotlib.axis.XTick at 0x7f3d865bded0>,\n",
       "  <matplotlib.axis.XTick at 0x7f3d865c4550>,\n",
       "  <matplotlib.axis.XTick at 0x7f3d865c4b90>,\n",
       "  <matplotlib.axis.XTick at 0x7f3d865c4c50>],\n",
       " <a list of 11 Text xticklabel objects>)"
      ]
     },
     "execution_count": 21,
     "metadata": {},
     "output_type": "execute_result"
    },
    {
     "data": {
      "image/png": "[encoded data removed]",
      "text/plain": [
       "<Figure size 432x288 with 1 Axes>"
      ]
     },
     "metadata": {
      "needs_background": "light"
     },
     "output_type": "display_data"
    }
   ],
   "source": [
    "n = 11\n",
    "\n",
    "x= np.arange(n)\n",
    "y= np.random.randint(100,120,n)\n",
    "plt.bar(x,y,align='center',color='green')  #align: edge or center\n",
    "plt.xticks(np.arange(n), [str(2010+i) for i in range(n)])"
   ]
  },
  {
   "cell_type": "code",
   "execution_count": 36,
   "metadata": {},
   "outputs": [
    {
     "data": {
      "text/plain": [
       "{'whiskers': [<matplotlib.lines.Line2D at 0x7f3d8598bdd0>,\n",
       "  <matplotlib.lines.Line2D at 0x7f3d859eb0d0>,\n",
       "  <matplotlib.lines.Line2D at 0x7f3d859a8d10>,\n",
       "  <matplotlib.lines.Line2D at 0x7f3d859b1cd0>,\n",
       "  <matplotlib.lines.Line2D at 0x7f3d8594d4d0>,\n",
       "  <matplotlib.lines.Line2D at 0x7f3d8594d9d0>],\n",
       " 'caps': [<matplotlib.lines.Line2D at 0x7f3d859a8790>,\n",
       "  <matplotlib.lines.Line2D at 0x7f3d859a8c90>,\n",
       "  <matplotlib.lines.Line2D at 0x7f3d859bab50>,\n",
       "  <matplotlib.lines.Line2D at 0x7f3d859b11d0>,\n",
       "  <matplotlib.lines.Line2D at 0x7f3d8594da90>,\n",
       "  <matplotlib.lines.Line2D at 0x7f3d85956510>],\n",
       " 'boxes': [<matplotlib.lines.Line2D at 0x7f3d859a4090>,\n",
       "  <matplotlib.lines.Line2D at 0x7f3d859b1c50>,\n",
       "  <matplotlib.lines.Line2D at 0x7f3d859c3f90>],\n",
       " 'medians': [<matplotlib.lines.Line2D at 0x7f3d859a4d50>,\n",
       "  <matplotlib.lines.Line2D at 0x7f3d859c3590>,\n",
       "  <matplotlib.lines.Line2D at 0x7f3d85956990>],\n",
       " 'fliers': [<matplotlib.lines.Line2D at 0x7f3d859b1710>,\n",
       "  <matplotlib.lines.Line2D at 0x7f3d859c3a90>,\n",
       "  <matplotlib.lines.Line2D at 0x7f3d85956e90>],\n",
       " 'means': []}"
      ]
     },
     "execution_count": 36,
     "metadata": {},
     "output_type": "execute_result"
    },
    {
     "data": {
      "image/png": "[encoded data removed]",
      "text/plain": [
       "<Figure size 432x288 with 2 Axes>"
      ]
     },
     "metadata": {
      "needs_background": "light"
     },
     "output_type": "display_data"
    }
   ],
   "source": [
    "#箱ひげ図\n",
    "plt.subplot(121)\n",
    "np.random.seed(1)\n",
    "y1 = np.random.randn(200).reshape(-1,2);\n",
    "plt.boxplot(y1)\n",
    "plt.subplot(122)\n",
    "np.random.seed(10)\n",
    "y2 = np.random.randn(600).reshape(-1,3);\n",
    "plt.boxplot(y2)\n"
   ]
  },
  {
   "cell_type": "code",
   "execution_count": 41,
   "metadata": {},
   "outputs": [
    {
     "name": "stdout",
     "output_type": "stream",
     "text": [
      "円グラフ\n"
     ]
    },
    {
     "data": {
      "text/plain": [
       "([<matplotlib.patches.Wedge at 0x7f3d85762890>,\n",
       "  <matplotlib.patches.Wedge at 0x7f3d85762f50>,\n",
       "  <matplotlib.patches.Wedge at 0x7f3d85770750>,\n",
       "  <matplotlib.patches.Wedge at 0x7f3d85770f50>],\n",
       " [Text(0.7053422663930613, 0.9708204196655013, 'O'),\n",
       "  Text(-1.0999999999999954, -1.0298943258065002e-07, 'B'),\n",
       "  Text(0.37082053215910016, -1.1412677744198518, 'AB'),\n",
       "  Text(1.1412678698963048, -0.37082023831278643, 'A')],\n",
       " [Text(0.41144965539595235, 0.5663119114715424, '30.0'),\n",
       "  Text(-0.5999999999999974, -5.6176054134900006e-08, '40.0'),\n",
       "  Text(0.2163119770928084, -0.6657395350782469, '20.0'),\n",
       "  Text(0.6657395907728443, -0.21631180568245875, '10.0')])"
      ]
     },
     "execution_count": 41,
     "metadata": {},
     "output_type": "execute_result"
    },
    {
     "data": {
      "image/png": "[encoded data removed]",
      "text/plain": [
       "<Figure size 432x288 with 2 Axes>"
      ]
     },
     "metadata": {},
     "output_type": "display_data"
    }
   ],
   "source": [
    "print('円グラフ')\n",
    "plt.axis('equal')\n",
    "plt.subplot(121)\n",
    "plt.pie([3,4,2,1],                               #値\n",
    "       explode = (0,0.1,0,0),                    #扇をずらす\n",
    "       startangle = 90,                          #表示開始角度\n",
    "       shadow = True,                            #影\n",
    "       autopct = lambda x: '{:.1f}'.format(x),   #割合表示フォーマット\n",
    "        labels = {'O', 'A', 'B', 'AB'} )         #ラベル指定\n",
    "plt.subplot(122)\n",
    "plt.pie([3,4,2,1],                               #値\n",
    "       explode = (0.1,0,0.1,0.1),                #扇をずらす\n",
    "       startangle =  0,                          #表示開始角度\n",
    "       shadow = False,                           #影\n",
    "       autopct = lambda x: '{:.1f}'.format(x),   #割合表示フォーマット\n",
    "        labels = {'O', 'A', 'B', 'AB'} )         #ラベル指定"
   ]
  },
  {
   "cell_type": "code",
   "execution_count": 48,
   "metadata": {},
   "outputs": [
    {
     "name": "stdout",
     "output_type": "stream",
     "text": [
      "塗りつぶし\n"
     ]
    },
    {
     "data": {
      "text/plain": [
       "<matplotlib.collections.PolyCollection at 0x7f3d852b7990>"
      ]
     },
     "execution_count": 48,
     "metadata": {},
     "output_type": "execute_result"
    },
    {
     "data": {
      "image/png": "[encoded data removed]",
      "text/plain": [
       "<Figure size 432x288 with 2 Axes>"
      ]
     },
     "metadata": {
      "needs_background": "light"
     },
     "output_type": "display_data"
    }
   ],
   "source": [
    "print('塗りつぶし')\n",
    "plt.subplot(121)\n",
    "x = np.linspace(0, np.pi*2)\n",
    "plt.fill_between(x, \n",
    "                 np.sin(x), \n",
    "                 -np.sin(x), \n",
    "                 alpha = 0.3)\n",
    "plt.subplot(122)\n",
    "plt.ylim(-2,2)\n",
    "x = np.linspace(0, np.pi*8)\n",
    "plt.fill_between(x, \n",
    "                 np.sin(x), \n",
    "                 np.cos(x), \n",
    "                 alpha = 0.9\n",
    "                )"
   ]
  },
  {
   "cell_type": "code",
   "execution_count": 62,
   "metadata": {},
   "outputs": [
    {
     "name": "stdout",
     "output_type": "stream",
     "text": [
      "画像\n"
     ]
    },
    {
     "data": {
      "text/plain": [
       "<matplotlib.image.AxesImage at 0x7f3d84963790>"
      ]
     },
     "execution_count": 62,
     "metadata": {},
     "output_type": "execute_result"
    },
    {
     "data": {
      "image/png": "[encoded data removed]",
      "text/plain": [
       "<Figure size 432x288 with 2 Axes>"
      ]
     },
     "metadata": {
      "needs_background": "light"
     },
     "output_type": "display_data"
    }
   ],
   "source": [
    "print('画像')\n",
    "plt.subplot(121)\n",
    "img1 = np.array([\n",
    "    [0,0,0,0,0],\n",
    "    [0,1,1,1,0],\n",
    "    [0,0,0,0,0],\n",
    "    [0,1,1,1,1],\n",
    "    [0,1,1,1,1]\n",
    "])\n",
    "\n",
    "plt.imshow(img1,\n",
    "          cmap='gray',\n",
    "          interpolation = 'None'\n",
    "          )\n",
    "\n",
    "plt.subplot(122)\n",
    "img2_inv = np.array([\n",
    "    [0,0,0,0,0],\n",
    "    [0,1,1,1,0],\n",
    "    [0,0,0,0,0],\n",
    "    [1,1,1,1,0],\n",
    "    [1,1,1,1,0]\n",
    "])\n",
    "img2 = (img2_inv + 0)%2;  #+0で反転しない、＋１で反転\n",
    "\n",
    "plt.imshow(img2,\n",
    "          cmap='ocean',\n",
    "          interpolation = 'nearest' #Noneで補間してくれる？\n",
    "          )"
   ]
  },
  {
   "cell_type": "markdown",
   "metadata": {},
   "source": [
    "#### 追記：cmap\n",
    "\n",
    "Have colormaps separated into categories:\n",
    "http://matplotlib.org/examples/color/colormaps_reference.html\n"
   ]
  },
  {
   "cell_type": "code",
   "execution_count": 59,
   "metadata": {},
   "outputs": [],
   "source": [
    "cmaps = [('Perceptually Uniform Sequential', [\n",
    "            'viridis', 'plasma', 'inferno', 'magma']),\n",
    "         ('Sequential', [\n",
    "            'Greys', 'Purples', 'Blues', 'Greens', 'Oranges', 'Reds',\n",
    "            'YlOrBr', 'YlOrRd', 'OrRd', 'PuRd', 'RdPu', 'BuPu',\n",
    "            'GnBu', 'PuBu', 'YlGnBu', 'PuBuGn', 'BuGn', 'YlGn']),\n",
    "         ('Sequential (2)', [\n",
    "            'binary', 'gist_yarg', 'gist_gray', 'gray', 'bone', 'pink',\n",
    "            'spring', 'summer', 'autumn', 'winter', 'cool', 'Wistia',\n",
    "            'hot', 'afmhot', 'gist_heat', 'copper']),\n",
    "         ('Diverging', [\n",
    "            'PiYG', 'PRGn', 'BrBG', 'PuOr', 'RdGy', 'RdBu',\n",
    "            'RdYlBu', 'RdYlGn', 'Spectral', 'coolwarm', 'bwr', 'seismic']),\n",
    "         ('Qualitative', [\n",
    "            'Pastel1', 'Pastel2', 'Paired', 'Accent',\n",
    "            'Dark2', 'Set1', 'Set2', 'Set3',\n",
    "            'tab10', 'tab20', 'tab20b', 'tab20c']),\n",
    "         ('Miscellaneous', [\n",
    "            'flag', 'prism', 'ocean', 'gist_earth', 'terrain', 'gist_stern',\n",
    "            'gnuplot', 'gnuplot2', 'CMRmap', 'cubehelix', 'brg', 'hsv',\n",
    "            'gist_rainbow', 'rainbow', 'jet', 'nipy_spectral', 'gist_ncar'])]"
   ]
  },
  {
   "cell_type": "markdown",
   "metadata": {},
   "source": [
    "#### 追記：interpolation\n",
    "https://matplotlib.org/3.1.1/gallery/images_contours_and_fields/interpolation_methods.html\n"
   ]
  },
  {
   "cell_type": "code",
   "execution_count": 64,
   "metadata": {},
   "outputs": [],
   "source": [
    "methods = [None, 'none', 'nearest', 'bilinear', 'bicubic', 'spline16',\n",
    "           'spline36', 'hanning', 'hamming', 'hermite', 'kaiser', 'quadric',\n",
    "           'catrom', 'gaussian', 'bessel', 'mitchell', 'sinc', 'lanczos']"
   ]
  },
  {
   "cell_type": "markdown",
   "metadata": {},
   "source": [
    "## 描画領域"
   ]
  },
  {
   "cell_type": "code",
   "execution_count": 84,
   "metadata": {},
   "outputs": [
    {
     "name": "stdout",
     "output_type": "stream",
     "text": [
      "画像in描画領域\n"
     ]
    },
    {
     "data": {
      "text/plain": [
       "[<matplotlib.lines.Line2D at 0x7f3d83a0fdd0>]"
      ]
     },
     "execution_count": 84,
     "metadata": {},
     "output_type": "execute_result"
    },
    {
     "data": {
      "image/png": "[encoded data removed]",
      "text/plain": [
       "<Figure size 432x216 with 2 Axes>"
      ]
     },
     "metadata": {
      "needs_background": "light"
     },
     "output_type": "display_data"
    }
   ],
   "source": [
    "from IPython.core.pylabtools import figsize\n",
    "figsize(16,4)\n",
    "plt.rcParams['figure.figsize'] = 6,3\n",
    "\n",
    "print('画像in描画領域')\n",
    "plt.subplot(121)\n",
    "x = np.random.rand(100)\n",
    "y = np.random.rand(100)\n",
    "plt.plot(x,y,'o')\n",
    "\n",
    "plt.subplot(122)\n",
    "x = np.random.rand(100)\n",
    "y = np.random.rand(100)\n",
    "plt.plot(x,y,'o')"
   ]
  }
 ],
 "metadata": {
  "kernelspec": {
   "display_name": "Python 3",
   "language": "python",
   "name": "python3"
  },
  "language_info": {
   "codemirror_mode": {
    "name": "ipython",
    "version": 3
   },
   "file_extension": ".py",
   "mimetype": "text/x-python",
   "name": "python",
   "nbconvert_exporter": "python",
   "pygments_lexer": "ipython3",
   "version": "3.7.7"
  }
 },
 "nbformat": 4,
 "nbformat_minor": 4
}
