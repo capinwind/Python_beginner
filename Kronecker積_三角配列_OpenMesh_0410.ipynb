{
 "cells": [
  {
   "cell_type": "markdown",
   "metadata": {},
   "source": [
    "# Kronecker積(product)\n",
    "kron(A,B)  = A(m,n)とB(p,q)の外積　= [a(m,n)B]\n"
   ]
  },
  {
   "cell_type": "code",
   "execution_count": 18,
   "metadata": {
    "scrolled": true
   },
   "outputs": [
    {
     "name": "stdout",
     "output_type": "stream",
     "text": [
      "A= \n",
      "[[1 2 3]\n",
      " [4 5 6]\n",
      " [7 8 9]]\n",
      "B= \n",
      "[[1 2 3]\n",
      " [4 5 6]\n",
      " [7 8 9]]\n",
      "kron(A,B)= \n",
      "[[ 1  2  3  2  4  6  3  6  9]\n",
      " [ 4  5  6  8 10 12 12 15 18]\n",
      " [ 7  8  9 14 16 18 21 24 27]\n",
      " [ 4  8 12  5 10 15  6 12 18]\n",
      " [16 20 24 20 25 30 24 30 36]\n",
      " [28 32 36 35 40 45 42 48 54]\n",
      " [ 7 14 21  8 16 24  9 18 27]\n",
      " [28 35 42 32 40 48 36 45 54]\n",
      " [49 56 63 56 64 72 63 72 81]]\n",
      "D = A*B =\n",
      "[[ 1  4  9]\n",
      " [16 25 36]\n",
      " [49 64 81]]\n",
      "E = A.*B =\n",
      "[[ 30  36  42]\n",
      " [ 66  81  96]\n",
      " [102 126 150]]\n"
     ]
    }
   ],
   "source": [
    "import numpy as np\n",
    "\n",
    "A = np.arange(1,10).reshape(3,3)\n",
    "B = np.arange(1,10).reshape(3,3)\n",
    "print('A= ')\n",
    "print(A)\n",
    "print('B= ')\n",
    "print(B)\n",
    "C = np.kron(A,B)\n",
    "print('kron(A,B)= ')\n",
    "print(C)\n",
    "\n",
    "D = A*B\n",
    "print('D = A*B =')\n",
    "print(D)\n",
    "\n",
    "E = np.dot(A,B)\n",
    "print('E = A.*B =')\n",
    "print(E)"
   ]
  },
  {
   "cell_type": "code",
   "execution_count": 12,
   "metadata": {},
   "outputs": [
    {
     "name": "stdout",
     "output_type": "stream",
     "text": [
      "A= \n",
      "[[1 2 3]\n",
      " [4 5 6]]\n",
      "B= \n",
      "[[1 2]\n",
      " [3 4]]\n",
      "kron(A,B)= \n",
      "[[ 1  2  2  4  3  6]\n",
      " [ 3  4  6  8  9 12]\n",
      " [ 4  8  5 10  6 12]\n",
      " [12 16 15 20 18 24]]\n"
     ]
    },
    {
     "ename": "ValueError",
     "evalue": "operands could not be broadcast together with shapes (2,3) (2,2) ",
     "output_type": "error",
     "traceback": [
      "\u001b[0;31m---------------------------------------------------------------------------\u001b[0m",
      "\u001b[0;31mValueError\u001b[0m                                Traceback (most recent call last)",
      "\u001b[0;32m<ipython-input-12-ace7f9467bf2>\u001b[0m in \u001b[0;36m<module>\u001b[0;34m\u001b[0m\n\u001b[1;32m      8\u001b[0m \u001b[0mprint\u001b[0m\u001b[0;34m(\u001b[0m\u001b[0;34m'kron(A,B)= '\u001b[0m\u001b[0;34m)\u001b[0m\u001b[0;34m\u001b[0m\u001b[0;34m\u001b[0m\u001b[0m\n\u001b[1;32m      9\u001b[0m \u001b[0mprint\u001b[0m\u001b[0;34m(\u001b[0m\u001b[0mC\u001b[0m\u001b[0;34m)\u001b[0m\u001b[0;34m\u001b[0m\u001b[0;34m\u001b[0m\u001b[0m\n\u001b[0;32m---> 10\u001b[0;31m \u001b[0mD\u001b[0m \u001b[0;34m=\u001b[0m \u001b[0mA\u001b[0m\u001b[0;34m*\u001b[0m\u001b[0mB\u001b[0m\u001b[0;34m\u001b[0m\u001b[0;34m\u001b[0m\u001b[0m\n\u001b[0m\u001b[1;32m     11\u001b[0m \u001b[0mprint\u001b[0m\u001b[0;34m(\u001b[0m\u001b[0;34m'D = A*B ='\u001b[0m\u001b[0;34m)\u001b[0m\u001b[0;34m\u001b[0m\u001b[0;34m\u001b[0m\u001b[0m\n\u001b[1;32m     12\u001b[0m \u001b[0mprint\u001b[0m\u001b[0;34m(\u001b[0m\u001b[0mD\u001b[0m\u001b[0;34m)\u001b[0m\u001b[0;34m\u001b[0m\u001b[0;34m\u001b[0m\u001b[0m\n",
      "\u001b[0;31mValueError\u001b[0m: operands could not be broadcast together with shapes (2,3) (2,2) "
     ]
    }
   ],
   "source": [
    "A = np.arange(1,7).reshape(2,3)\n",
    "B = np.arange(1,5).reshape(2,2)\n",
    "print('A= ')\n",
    "print(A)\n",
    "print('B= ')\n",
    "print(B)\n",
    "C = np.kron(A,B)\n",
    "print('kron(A,B)= ')\n",
    "print(C)\n"
   ]
  },
  {
   "cell_type": "markdown",
   "metadata": {},
   "source": [
    "## 三角行列\n",
    "\n",
    "1. tril(a) 対角線以下の三角配列\n",
    "2. triu(a) 対角線以上の三角配列"
   ]
  },
  {
   "cell_type": "code",
   "execution_count": 24,
   "metadata": {},
   "outputs": [
    {
     "name": "stdout",
     "output_type": "stream",
     "text": [
      "tri_low = \n",
      "[[ 1  0  0  0]\n",
      " [ 5  6  0  0]\n",
      " [ 9 10 11  0]]\n",
      "tri_upper = \n",
      "[[ 1  2  3  4]\n",
      " [ 0  6  7  8]\n",
      " [ 0  0 11 12]]\n"
     ]
    }
   ],
   "source": [
    "a = np.arange(1,13).reshape(3,4)\n",
    "\n",
    "print('tri_low = ')\n",
    "print(np.tril(a))\n",
    "print('tri_upper = ')\n",
    "print(np.triu(a))"
   ]
  },
  {
   "cell_type": "markdown",
   "metadata": {},
   "source": [
    "## オープンメッシュ Open mesh\n",
    "\n",
    "\n",
    "1. np.ix_(Rows, Columns) でタプルを返す\n",
    "2. タプルのを配列に入れることで、行列を抽出する。\n",
    "\n",
    "下記の例では、指定のリストで列と行を抽出する\n"
   ]
  },
  {
   "cell_type": "code",
   "execution_count": 38,
   "metadata": {},
   "outputs": [
    {
     "name": "stdout",
     "output_type": "stream",
     "text": [
      "A = \n",
      " [[0.+0.j 0.+1.j 0.+2.j 0.+3.j 0.+4.j]\n",
      " [1.+0.j 1.+1.j 1.+2.j 1.+3.j 1.+4.j]\n",
      " [2.+0.j 2.+1.j 2.+2.j 2.+3.j 2.+4.j]\n",
      " [3.+0.j 3.+1.j 3.+2.j 3.+3.j 3.+4.j]\n",
      " [4.+0.j 4.+1.j 4.+2.j 4.+3.j 4.+4.j]\n",
      " [5.+0.j 5.+1.j 5.+2.j 5.+3.j 5.+4.j]]\n",
      "A[R,C] = \n",
      " [[1.+0.j 1.+2.j 1.+4.j]\n",
      " [3.+0.j 3.+2.j 3.+4.j]]\n",
      "(array([[1],\n",
      "       [3]]),\n",
      " array([[0, 2, 4]]))\n",
      "<class 'tuple'>\n"
     ]
    }
   ],
   "source": [
    "A = np.array([[i+k*1j for k in range(5)] for i in range(6)])\n",
    "print('A = \\n', A)\n",
    "\n",
    "R = [1,3]\n",
    "C = [0,2,4]\n",
    "print('A[R,C] = \\n', A[np.ix_(R,C)])\n",
    "\n",
    "import pprint\n",
    "pprint.pprint(np.ix_(R,C), width=40)\n",
    "print(type(np.ix_(R,C)))"
   ]
  },
  {
   "cell_type": "code",
   "execution_count": null,
   "metadata": {},
   "outputs": [],
   "source": []
  }
 ],
 "metadata": {
  "kernelspec": {
   "display_name": "Python 3",
   "language": "python",
   "name": "python3"
  },
  "language_info": {
   "codemirror_mode": {
    "name": "ipython",
    "version": 3
   },
   "file_extension": ".py",
   "mimetype": "text/x-python",
   "name": "python",
   "nbconvert_exporter": "python",
   "pygments_lexer": "ipython3",
   "version": "3.7.7"
  }
 },
 "nbformat": 4,
 "nbformat_minor": 4
}
