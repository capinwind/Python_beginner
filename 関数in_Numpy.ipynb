{
 "cells": [
  {
   "cell_type": "markdown",
   "metadata": {},
   "source": [
    "# NumPyの関数"
   ]
  },
  {
   "cell_type": "markdown",
   "metadata": {},
   "source": [
    "1. Numpyのデータ構造：ndarray　多次元配列\n",
    "2. ユニバーサル関数とそうでない関数\n",
    "3. 一次元はベクトル、二次元は行列"
   ]
  },
  {
   "cell_type": "markdown",
   "metadata": {},
   "source": [
    "数学定数とユニバーサル関数\n",
    "1. Pi \n",
    "2. e\n",
    "3. euler_gamma"
   ]
  },
  {
   "cell_type": "code",
   "execution_count": 3,
   "metadata": {},
   "outputs": [
    {
     "name": "stdout",
     "output_type": "stream",
     "text": [
      "pi= 3.141592653589793\n",
      "e= 2.718281828459045\n",
      "euler_gamma= 0.5772156649015329\n"
     ]
    }
   ],
   "source": [
    "import numpy as np\n",
    "\n",
    "print('pi=', np.pi)\n",
    "print('e=', np.e)\n",
    "print('euler_gamma=', np.euler_gamma)"
   ]
  },
  {
   "cell_type": "markdown",
   "metadata": {},
   "source": [
    "#### 基礎数学関数（ユニバーサル関数）"
   ]
  },
  {
   "cell_type": "code",
   "execution_count": 8,
   "metadata": {},
   "outputs": [
    {
     "data": {
      "text/plain": [
       "'\\nnp.logaddexp\\nnp.logaddexp2\\nnp.true_devide\\nnp.floor_devide\\nnp.negative\\nnp.power\\nnp.remainder\\nnp.mod\\nnp.fmod\\nnp.absolute\\nnp.rint\\nnp.sign\\nnp.conj\\nnp.exp\\nnp.exp2\\nnp.log\\nnp.log2\\nnp.log10\\nnp.expm1\\nnp.log1p\\nnp.sqrt\\nnp.square\\nnp.reciprocal\\n'"
      ]
     },
     "execution_count": 8,
     "metadata": {},
     "output_type": "execute_result"
    }
   ],
   "source": [
    "np.add(1,1)\n",
    "np.subtract(2,1)\n",
    "np.multiply(2,1)\n",
    "np.divide(2,2)\n",
    "\"\"\"\n",
    "np.logaddexp\n",
    "np.logaddexp2\n",
    "np.true_devide\n",
    "np.floor_devide\n",
    "np.negative\n",
    "np.power\n",
    "np.remainder\n",
    "np.mod\n",
    "np.fmod\n",
    "np.absolute\n",
    "np.rint\n",
    "np.sign\n",
    "np.conj\n",
    "np.exp\n",
    "np.exp2\n",
    "np.log\n",
    "np.log2\n",
    "np.log10\n",
    "np.expm1\n",
    "np.log1p\n",
    "np.sqrt\n",
    "np.square\n",
    "np.reciprocal\n",
    "\"\"\""
   ]
  },
  {
   "cell_type": "code",
   "execution_count": 12,
   "metadata": {},
   "outputs": [
    {
     "name": "stdout",
     "output_type": "stream",
     "text": [
      "2\n",
      "1\n",
      "2\n",
      "1.0\n"
     ]
    },
    {
     "data": {
      "text/plain": [
       "'\\nnp.logaddexp(x1, x2)   #log(exp(x1) + exp(x2))\\nnp.logaddexp2(x1, x2)  #log2(2**x1 + 2**x2).\\nnp.true_devide(x1, x2)  #Returns a true division of the inputs, element-wise.\\nnp.floor_devide(x1, x2) \\nnp.negative(x1, x2) \\nnp.power(x1, x2) \\nnp.remainder(x1, x2) \\nnp.mod(x1, x2) \\nnp.fmod(x1, x2) \\nnp.absolute(x1, x2) \\nnp.rint(x1, x2) \\nnp.sign\\nnp.conj\\nnp.exp\\nnp.exp2\\nnp.log\\nnp.log2\\nnp.log10\\nnp.expm1\\nnp.log1p\\nnp.sqrt\\nnp.square\\nnp.reciprocal\\n'"
      ]
     },
     "execution_count": 12,
     "metadata": {},
     "output_type": "execute_result"
    }
   ],
   "source": [
    "print(np.add(1,1))\n",
    "print(np.subtract(2,1))\n",
    "print(np.multiply(2,1))\n",
    "print(np.divide(2,2))\n",
    "\"\"\"\n",
    "np.logaddexp(x1, x2)   #log(exp(x1) + exp(x2))\n",
    "np.logaddexp2(x1, x2)  #log2(2**x1 + 2**x2).\n",
    "\n"
   ]
  },
  {
   "cell_type": "code",
   "execution_count": 19,
   "metadata": {},
   "outputs": [
    {
     "name": "stdout",
     "output_type": "stream",
     "text": [
      "[0.   0.25 0.5  0.75 1.  ]\n",
      "[0.   0.25 0.5  0.75 1.  ]\n",
      "[0 0 0 0 1]\n",
      "[0 0 0 0 1]\n"
     ]
    }
   ],
   "source": [
    "x = np.arange(5)\n",
    "print(np.true_divide(x, 4))\n",
    "print(x/4)\n",
    "print(np.floor_divide(x, 4))\n",
    "print(x//4)"
   ]
  },
  {
   "cell_type": "code",
   "execution_count": null,
   "metadata": {},
   "outputs": [],
   "source": [
    "\n",
    "np.negative(x1, x2) \n",
    "np.power(x1, x2) \n",
    "np.remainder(x1, x2) \n",
    "np.mod(x1, x2) \n",
    "np.fmod(x1, x2) \n",
    "np.absolute(x1, x2) \n",
    "np.rint(x1, x2) \n",
    "np.sign\n",
    "np.conj\n",
    "np.exp\n",
    "np.exp2\n",
    "np.log\n",
    "np.log2\n",
    "np.log10\n",
    "np.expm1\n",
    "np.log1p\n",
    "np.sqrt\n",
    "np.square\n",
    "np.reciprocal\n",
    "\"\"\""
   ]
  },
  {
   "cell_type": "code",
   "execution_count": 27,
   "metadata": {},
   "outputs": [
    {
     "name": "stdout",
     "output_type": "stream",
     "text": [
      "[[ 5 -5]\n",
      " [-4 -4]]\n"
     ]
    }
   ],
   "source": [
    "print(np.negative([[-5,5],[4,4]]))"
   ]
  },
  {
   "cell_type": "code",
   "execution_count": 31,
   "metadata": {},
   "outputs": [
    {
     "name": "stdout",
     "output_type": "stream",
     "text": [
      "9\n",
      "27\n"
     ]
    }
   ],
   "source": [
    "print(np.power(3,2)) #3**2\n",
    "print(np.power(3,3)) #3**3"
   ]
  },
  {
   "cell_type": "code",
   "execution_count": 39,
   "metadata": {},
   "outputs": [
    {
     "name": "stdout",
     "output_type": "stream",
     "text": [
      "np.remainder\n",
      "0\n",
      "1\n",
      "2\n",
      "0\n",
      "np.mod\n",
      "0\n",
      "1\n",
      "2\n",
      "0\n",
      "np.fmod\n",
      "0\n",
      "1\n",
      "2\n",
      "0\n"
     ]
    }
   ],
   "source": [
    "print('np.remainder')\n",
    "print(np.remainder(10,2))\n",
    "print(np.remainder(10,3))\n",
    "print(np.remainder(10,4))\n",
    "print(np.remainder(10,5))\n",
    "print('np.mod')\n",
    "print(np.mod(10,2))\n",
    "print(np.mod(10,3))\n",
    "print(np.mod(10,4))\n",
    "print(np.mod(10,5))\n",
    "print('np.fmod')\n",
    "print(np.fmod(10,2))\n",
    "print(np.fmod(10,3))\n",
    "print(np.fmod(10,4))\n",
    "print(np.fmod(10,5))"
   ]
  },
  {
   "cell_type": "code",
   "execution_count": null,
   "metadata": {},
   "outputs": [],
   "source": []
  },
  {
   "cell_type": "code",
   "execution_count": 15,
   "metadata": {},
   "outputs": [
    {
     "data": {
      "text/plain": [
       "array([0.  , 0.25, 0.5 , 0.75, 1.  ])"
      ]
     },
     "execution_count": 15,
     "metadata": {},
     "output_type": "execute_result"
    }
   ],
   "source": [
    "np.remainder(x1, x2) \n",
    "np.mod(x1, x2) \n",
    "np.fmod(x1, x2) \n",
    "np.absolute(x1, x2) \n",
    "np.rint(x1, x2) \n",
    "np.sign\n",
    "np.conj\n",
    "np.exp\n",
    "np.exp2\n",
    "np.log\n",
    "np.log2\n",
    "np.log10\n",
    "np.expm1\n",
    "np.log1p\n",
    "np.sqrt\n",
    "np.square\n",
    "np.reciprocal\n",
    "\"\"\""
   ]
  }
 ],
 "metadata": {
  "kernelspec": {
   "display_name": "Python 3",
   "language": "python",
   "name": "python3"
  },
  "language_info": {
   "codemirror_mode": {
    "name": "ipython",
    "version": 3
   },
   "file_extension": ".py",
   "mimetype": "text/x-python",
   "name": "python",
   "nbconvert_exporter": "python",
   "pygments_lexer": "ipython3",
   "version": "3.7.6"
  }
 },
 "nbformat": 4,
 "nbformat_minor": 4
}
