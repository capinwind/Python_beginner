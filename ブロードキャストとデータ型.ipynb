{
 "cells": [
  {
   "cell_type": "markdown",
   "metadata": {},
   "source": [
    "# ブロードキャストとデータ型"
   ]
  },
  {
   "cell_type": "code",
   "execution_count": 1,
   "metadata": {},
   "outputs": [],
   "source": [
    "# -*- coding: utf-8 -*-\n",
    "import numpy as np"
   ]
  },
  {
   "cell_type": "code",
   "execution_count": null,
   "metadata": {},
   "outputs": [],
   "source": [
    "同じ型の場合"
   ]
  },
  {
   "cell_type": "code",
   "execution_count": 4,
   "metadata": {},
   "outputs": [
    {
     "name": "stdout",
     "output_type": "stream",
     "text": [
      "a=  [[ 0  1  2  3]\n",
      " [ 4  5  6  7]\n",
      " [ 8  9 10 11]]\n",
      "a*b  [[  0   1   4   9]\n",
      " [ 16  25  36  49]\n",
      " [ 64  81 100 121]]\n"
     ]
    }
   ],
   "source": [
    "a = np.arange(12).reshape(3,4); print('a= ', a)\n",
    "b = np.arange(12).reshape(3,4); \n",
    "print('a*b ', a*b)"
   ]
  },
  {
   "cell_type": "markdown",
   "metadata": {},
   "source": [
    "同じ型の場合: 配列とスカラーの演算（べき乗）"
   ]
  },
  {
   "cell_type": "code",
   "execution_count": 6,
   "metadata": {},
   "outputs": [
    {
     "name": "stdout",
     "output_type": "stream",
     "text": [
      "a=  [[ 0  1  2  3]\n",
      " [ 4  5  6  7]\n",
      " [ 8  9 10 11]]\n",
      "b=  [[  0   1   4   9]\n",
      " [ 16  25  36  49]\n",
      " [ 64  81 100 121]]\n"
     ]
    }
   ],
   "source": [
    "a = np.arange(12).reshape(3,4); print('a= ', a)\n",
    "b = a**2; \n",
    "print('b= ', b)"
   ]
  },
  {
   "cell_type": "markdown",
   "metadata": {},
   "source": [
    "異なる型の場合 : 次元を合わせる"
   ]
  },
  {
   "cell_type": "code",
   "execution_count": 12,
   "metadata": {},
   "outputs": [
    {
     "name": "stdout",
     "output_type": "stream",
     "text": [
      "a=  [0 1 2 3 4]\n",
      "a.ndim=  1\n",
      "b.ndim=  3\n",
      "a.shape=  (1, 1, 5)\n",
      "b.shape=  (4, 3, 2)\n"
     ]
    }
   ],
   "source": [
    "a = np.arange(5); print('a= ', a)\n",
    "b = np.arange(24).reshape(4,3,2); #print('b= ', b)\n",
    "\n",
    "print(\"a.ndim= \", a.ndim)\n",
    "print(\"b.ndim= \", b.ndim)\n",
    "\n",
    "while a.ndim > b.ndim:\n",
    "    b=b[np.newaxis, :]\n",
    "while b.ndim > a.ndim:\n",
    "    a=a[np.newaxis, :]\n",
    "\n",
    "print('a.shape= ', a.shape)\n",
    "print('b.shape= ', b.shape)"
   ]
  },
  {
   "cell_type": "markdown",
   "metadata": {},
   "source": [
    "#### ブロードキャスト可能かどうか？\n",
    "1. 次元の小さい配列の先頭にnewaxisを追加し、同じ次元にする\n",
    "2. ブロードキャスト可能の条件（or）：\n",
    "(1) 各次元のShapeは同じである\n",
    "(2) 各次元、どちらかが１\n",
    "    \n",
    "　　3-1-4　　　3-1-4\n",
    "　　1-3-1      1-1-3\n",
    "　　○○○     ○○☓"
   ]
  },
  {
   "cell_type": "code",
   "execution_count": 18,
   "metadata": {},
   "outputs": [
    {
     "name": "stdout",
     "output_type": "stream",
     "text": [
      "a=  [[[ 0  1  2  3]]\n",
      "\n",
      " [[ 4  5  6  7]]\n",
      "\n",
      " [[ 8  9 10 11]]]\n",
      "b=  [[[   0]\n",
      "  [ 100]\n",
      "  [1000]]]\n",
      "a+b=  [[[   0    1    2    3]\n",
      "  [ 100  101  102  103]\n",
      "  [1000 1001 1002 1003]]\n",
      "\n",
      " [[   4    5    6    7]\n",
      "  [ 104  105  106  107]\n",
      "  [1004 1005 1006 1007]]\n",
      "\n",
      " [[   8    9   10   11]\n",
      "  [ 108  109  110  111]\n",
      "  [1008 1009 1010 1011]]]\n"
     ]
    }
   ],
   "source": [
    "a = np.arange(12).reshape(3,1,4); print('a= ', a)\n",
    "b = np.array([0,100,1000]).reshape(1,3,1); print('b= ', b)\n",
    "print('a+b= ', a+b)\n",
    "\n",
    "#314 vs 113 case of error\n",
    "#c = np.array([0,100,1000]).reshape(1,1,3); print('c= ', c) \n",
    "#print('a+c= ', a+c)"
   ]
  },
  {
   "cell_type": "markdown",
   "metadata": {},
   "source": [
    "注意！！ブロードキャスト例"
   ]
  },
  {
   "cell_type": "code",
   "execution_count": 29,
   "metadata": {},
   "outputs": [
    {
     "name": "stdout",
     "output_type": "stream",
     "text": [
      "[[ 1  2  3  4  5  6  7  8  9]\n",
      " [ 2  4  6  8 10 12 14 16 18]\n",
      " [ 3  6  9 12 15 18 21 24 27]\n",
      " [ 4  8 12 16 20 24 28 32 36]\n",
      " [ 5 10 15 20 25 30 35 40 45]\n",
      " [ 6 12 18 24 30 36 42 48 54]\n",
      " [ 7 14 21 28 35 42 49 56 63]\n",
      " [ 8 16 24 32 40 48 56 64 72]\n",
      " [ 9 18 27 36 45 54 63 72 81]]\n",
      "(9,)\n",
      "(9, 1)\n",
      "[[ 1  4  9 16]]\n",
      "(4,)\n",
      "(1, 4)\n"
     ]
    }
   ],
   "source": [
    "a=np.arange(1,10)\n",
    "b=np.reshape(a,(9,1))\n",
    "print(a*b)\n",
    "\n",
    "print(a.shape)\n",
    "print(b.shape)\n",
    "\n",
    "c=np.arange(1,5) #.reshape(2,2)\n",
    "d=np.reshape(c,(1,4))\n",
    "print(c*d)\n",
    "print(c.shape)\n",
    "print(d.shape)"
   ]
  },
  {
   "cell_type": "markdown",
   "metadata": {},
   "source": [
    "ブロードキャスト代入不可能の例"
   ]
  },
  {
   "cell_type": "code",
   "execution_count": 38,
   "metadata": {},
   "outputs": [
    {
     "name": "stdout",
     "output_type": "stream",
     "text": [
      "a=  [[ 0  1  2  3]\n",
      " [ 4  5  6  7]\n",
      " [ 8  9 10 11]]\n",
      "b=  [[0]\n",
      " [1]\n",
      " [2]\n",
      " [3]]\n",
      "c=  [ 0 -1 -2 -3]\n",
      "(3, 4)\n",
      "(4, 1)\n",
      "(4,)\n",
      "a*c= [[  0  -1  -4  -9]\n",
      " [  0  -5 -12 -21]\n",
      " [  0  -9 -20 -33]]\n",
      "a=  [[ 0 -1 -2 -3]\n",
      " [ 0 -1 -2 -3]\n",
      " [ 0 -1 -2 -3]]\n",
      "b*c= [[ 0  0  0  0]\n",
      " [ 0 -1 -2 -3]\n",
      " [ 0 -2 -4 -6]\n",
      " [ 0 -3 -6 -9]]\n"
     ]
    },
    {
     "ename": "ValueError",
     "evalue": "could not broadcast input array from shape (4) into shape (4,1)",
     "output_type": "error",
     "traceback": [
      "\u001b[0;31m---------------------------------------------------------------------------\u001b[0m",
      "\u001b[0;31mValueError\u001b[0m                                Traceback (most recent call last)",
      "\u001b[0;32m<ipython-input-38-980a0d537c45>\u001b[0m in \u001b[0;36m<module>\u001b[0;34m\u001b[0m\n\u001b[1;32m     13\u001b[0m \u001b[0;31m#演算OK　代入NG\u001b[0m\u001b[0;34m\u001b[0m\u001b[0;34m\u001b[0m\u001b[0;34m\u001b[0m\u001b[0m\n\u001b[1;32m     14\u001b[0m \u001b[0mprint\u001b[0m\u001b[0;34m(\u001b[0m\u001b[0;34m'b*c='\u001b[0m\u001b[0;34m,\u001b[0m \u001b[0mb\u001b[0m\u001b[0;34m*\u001b[0m\u001b[0mc\u001b[0m\u001b[0;34m)\u001b[0m \u001b[0;31m#ブロードキャスト積　　(3,4) * (4,)\u001b[0m\u001b[0;34m\u001b[0m\u001b[0;34m\u001b[0m\u001b[0m\n\u001b[0;32m---> 15\u001b[0;31m \u001b[0mb\u001b[0m\u001b[0;34m[\u001b[0m\u001b[0;34m:\u001b[0m\u001b[0;34m,\u001b[0m\u001b[0;34m:\u001b[0m\u001b[0;34m]\u001b[0m\u001b[0;34m=\u001b[0m\u001b[0mc\u001b[0m \u001b[0;31m#ブロードキャスト演算\u001b[0m\u001b[0;34m\u001b[0m\u001b[0;34m\u001b[0m\u001b[0m\n\u001b[0m\u001b[1;32m     16\u001b[0m          \u001b[0;31m# ValueError: could not broadcast input array from shape (4) into shape (4,1)\u001b[0m\u001b[0;34m\u001b[0m\u001b[0;34m\u001b[0m\u001b[0;34m\u001b[0m\u001b[0m\n\u001b[1;32m     17\u001b[0m \u001b[0mprint\u001b[0m\u001b[0;34m(\u001b[0m\u001b[0;34m'b= '\u001b[0m\u001b[0;34m,\u001b[0m \u001b[0mb\u001b[0m\u001b[0;34m)\u001b[0m\u001b[0;34m\u001b[0m\u001b[0;34m\u001b[0m\u001b[0m\n",
      "\u001b[0;31mValueError\u001b[0m: could not broadcast input array from shape (4) into shape (4,1)"
     ]
    }
   ],
   "source": [
    "a = np.arange(12).reshape(3,4); print('a= ', a)\n",
    "b = np.arange(4).reshape(4,1); print('b= ', b)\n",
    "c = -np.arange(4); print('c= ', c)\n",
    "print(a.shape)\n",
    "print(b.shape)\n",
    "print(c.shape)\n",
    "\n",
    "#演算OK　代入OK\n",
    "print('a*c=', a*c) #ブロードキャスト積　　(3,4) * (4,) \n",
    "a[:,:]=c #ブロードキャスト演算\n",
    "print('a= ', a)\n",
    "\n",
    "#演算OK　代入NG\n",
    "print('b*c=', b*c) #ブロードキャスト積　　(3,4) * (4,) \n",
    "b[:,:]=c #ブロードキャスト演算 \n",
    "         # ValueError: could not broadcast input array from shape (4) into shape (4,1)\n",
    "print('b= ', b)"
   ]
  },
  {
   "cell_type": "markdown",
   "metadata": {},
   "source": [
    "#### ブロードキャストとIndex配列を組み合わせし、部分行列を自在に切り出す\n",
    "\n",
    "行を切り取る：\n",
    "[[m][n]]\n",
    "Shape [x,1]\n",
    "\n",
    "列を切り取る：\n",
    "[m,n] \n",
    "Shape　[x,]\n",
    "\n",
    "Shape　[x,]→ [x,1]　にするのに、ブロードキャストの出番；R[:,newaxis] :がx, newaxisでないところに１になる"
   ]
  },
  {
   "cell_type": "code",
   "execution_count": 55,
   "metadata": {},
   "outputs": [
    {
     "name": "stdout",
     "output_type": "stream",
     "text": [
      "1. 実部０〜５　虚部０〜４の配列を作る\n",
      "A =  [[0.+0.j 0.+1.j 0.+2.j 0.+3.j 0.+4.j]\n",
      " [1.+0.j 1.+1.j 1.+2.j 1.+3.j 1.+4.j]\n",
      " [2.+0.j 2.+1.j 2.+2.j 2.+3.j 2.+4.j]\n",
      " [3.+0.j 3.+1.j 3.+2.j 3.+3.j 3.+4.j]\n",
      " [4.+0.j 4.+1.j 4.+2.j 4.+3.j 4.+4.j]\n",
      " [5.+0.j 5.+1.j 5.+2.j 5.+3.j 5.+4.j]]\n",
      "　\n",
      "2. 切り取り指示用の配列を作る\n",
      "R =  [1 3]\n",
      "C =  [0 2 4]\n",
      "　\n",
      "3. 切り取り指示用の配列を作る\n",
      "R.shape=  (2,)\n",
      "R[:,np.newaxis].shape=  (2, 1)\n",
      "A[R,C] =  [[1.+0.j 1.+2.j 1.+4.j]\n",
      " [3.+0.j 3.+2.j 3.+4.j]]\n"
     ]
    }
   ],
   "source": [
    "print('1. 実部０〜５　虚部０〜４の配列を作る')\n",
    "A = np.array([[i+k*1j for k in range(5)] for i in range(6)])  #最初は列を増やされ、次に行増やされた\n",
    "print('A = ', A)\n",
    "print('　')\n",
    "print('2. 切り取り指示用の配列を作る')\n",
    "R = np.array([1,3])\n",
    "C = np.array([0,2,4])\n",
    "print('R = ', R)\n",
    "print('C = ', C)\n",
    "print('　')\n",
    "print('3. 切り取り指示用の配列を作る')\n",
    "print('R.shape= ', R.shape)\n",
    "print('R[:,np.newaxis].shape= ', R[:,np.newaxis].shape)\n",
    "print('A[R,C] = ', A[R[:,np.newaxis], C])\n",
    "\n",
    "\n",
    "# print('A[R,C] = ', A[R, C])\n",
    "# IndexError: shape mismatch: indexing arrays could not be broadcast together with shapes (2,) (3,) \n"
   ]
  },
  {
   "cell_type": "code",
   "execution_count": 49,
   "metadata": {},
   "outputs": [],
   "source": []
  },
  {
   "cell_type": "code",
   "execution_count": null,
   "metadata": {},
   "outputs": [],
   "source": []
  }
 ],
 "metadata": {
  "kernelspec": {
   "display_name": "Python 3",
   "language": "python",
   "name": "python3"
  },
  "language_info": {
   "codemirror_mode": {
    "name": "ipython",
    "version": 3
   },
   "file_extension": ".py",
   "mimetype": "text/x-python",
   "name": "python",
   "nbconvert_exporter": "python",
   "pygments_lexer": "ipython3",
   "version": "3.7.7"
  }
 },
 "nbformat": 4,
 "nbformat_minor": 4
}
