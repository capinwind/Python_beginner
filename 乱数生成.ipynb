{
 "cells": [
  {
   "cell_type": "code",
   "execution_count": 6,
   "metadata": {},
   "outputs": [],
   "source": [
    "# -*- coding: utf-8 -*-\n",
    "import numpy as np"
   ]
  },
  {
   "cell_type": "markdown",
   "metadata": {},
   "source": [
    "# random.seed()"
   ]
  },
  {
   "cell_type": "markdown",
   "metadata": {},
   "source": [
    "1. random.seed(n)：乱数生成の種\n",
    "2. random.uniform(l,h)：一様乱数\n",
    "3. random.randint(l,h,size=(m,n))：整数の一様乱数\n",
    "4. random.randn(m,n)：平均０分散１の正規分布に従う乱数\n",
    "5. random.standard_normal：標準正規分布に従う乱数（引数はタプル可）\n",
    "6. random.beta：ベータ分布に従う乱数\n",
    "7. random.binomial：２項分布に従う乱数\n",
    "8. random.poisson：Poisson分布に従う乱数\n",
    "9. random.permutation(range(10)))：ランダムな順列\n",
    "10. random.multivariate_normal：多次元正規分布\n",
    "11. random.choice：一次元配列からのランダムサンプリング"
   ]
  },
  {
   "cell_type": "code",
   "execution_count": 23,
   "metadata": {},
   "outputs": [
    {
     "name": "stdout",
     "output_type": "stream",
     "text": [
      "5.00543404941791\n",
      "[[ -7  -3  -3]\n",
      " [-10  -6  -8]]\n",
      "[[-0.53934796 -0.5833315   1.073201  ]\n",
      " [-0.13702713  0.17086301 -0.59970748]\n",
      " [ 2.65975058  0.99683627 -0.23198063]]\n",
      "[9 5 2 0 8 6 1 7 3 4]\n",
      "[-7 -6  2  7  0 -9]\n",
      "[[  7  -6   8  -2]\n",
      " [  9   4 -10   3]]\n"
     ]
    }
   ],
   "source": [
    "import numpy.random as random\n",
    "random.seed(100)\n",
    "print(random.uniform(5,5.01)) #一様乱数、Seedと範囲決まれば、出力ずーと同じ\n",
    "\n",
    "print(random.randint(-10,0,size=(2,3)))\n",
    "print(random.randn(3,3))\n",
    "print(random.permutation(range(10)))\n",
    "a=np.arange(-10,11)\n",
    "print(random.choice(a,size=6,replace=False,p=None))\n",
    "print(random.choice(a,size=(2,4),replace=True,p=None)) #replace:重複許可\n"
   ]
  },
  {
   "cell_type": "code",
   "execution_count": null,
   "metadata": {},
   "outputs": [],
   "source": []
  },
  {
   "cell_type": "code",
   "execution_count": null,
   "metadata": {},
   "outputs": [],
   "source": []
  },
  {
   "cell_type": "code",
   "execution_count": null,
   "metadata": {},
   "outputs": [],
   "source": []
  },
  {
   "cell_type": "code",
   "execution_count": null,
   "metadata": {},
   "outputs": [],
   "source": []
  }
 ],
 "metadata": {
  "kernelspec": {
   "display_name": "Python 3",
   "language": "python",
   "name": "python3"
  },
  "language_info": {
   "codemirror_mode": {
    "name": "ipython",
    "version": 3
   },
   "file_extension": ".py",
   "mimetype": "text/x-python",
   "name": "python",
   "nbconvert_exporter": "python",
   "pygments_lexer": "ipython3",
   "version": "3.7.6"
  }
 },
 "nbformat": 4,
 "nbformat_minor": 4
}
