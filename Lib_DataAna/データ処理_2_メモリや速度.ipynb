{
 "cells": [
  {
   "cell_type": "markdown",
   "metadata": {},
   "source": [
    "# メモリや速度を効率よくできる？"
   ]
  },
  {
   "cell_type": "markdown",
   "metadata": {},
   "source": [
    "## １．メモリの使用量を確認する"
   ]
  },
  {
   "cell_type": "code",
   "execution_count": 5,
   "metadata": {},
   "outputs": [
    {
     "name": "stdout",
     "output_type": "stream",
     "text": [
      "    y1  y2  y3\n",
      "x1   4   1   1\n",
      "x2   4   4   1\n",
      "x3   4   3   5\n",
      "x4   1   3   5\n"
     ]
    }
   ],
   "source": [
    "import numpy as np\n",
    "import pandas as pd\n",
    "\n",
    "d = pd.DataFrame(np.random.randint(1,6,(4,3)),\n",
    "                index = ['x1', 'x2', 'x3', 'x4'],\n",
    "                columns = ['y1', 'y2', 'y3']) #columns = ['列1', '列2', '列3'])\n",
    "print(d)"
   ]
  },
  {
   "cell_type": "code",
   "execution_count": 7,
   "metadata": {},
   "outputs": [
    {
     "name": "stdout",
     "output_type": "stream",
     "text": [
      "<class 'pandas.core.frame.DataFrame'>\n",
      "Index: 4 entries, x1 to x4\n",
      "Data columns (total 3 columns):\n",
      " #   Column  Non-Null Count  Dtype\n",
      "---  ------  --------------  -----\n",
      " 0   y1      4 non-null      int64\n",
      " 1   y2      4 non-null      int64\n",
      " 2   y3      4 non-null      int64\n",
      "dtypes: int64(3)\n",
      "memory usage: 128.0+ bytes\n"
     ]
    }
   ],
   "source": [
    "d.info() #memory usage: 128.0+ bytes"
   ]
  },
  {
   "cell_type": "code",
   "execution_count": 10,
   "metadata": {},
   "outputs": [
    {
     "name": "stdout",
     "output_type": "stream",
     "text": [
      "Index含む場合:\n",
      "Index    32\n",
      "y1       32\n",
      "y2       32\n",
      "y3       32\n",
      "dtype: int64\n",
      "Index含まない場合:\n",
      "y1    32\n",
      "y2    32\n",
      "y3    32\n",
      "dtype: int64\n"
     ]
    }
   ],
   "source": [
    "print('Index含む場合:')\n",
    "print(d.memory_usage(index=True))\n",
    "print('Index含まない場合:')\n",
    "print(d.memory_usage(index=False))"
   ]
  },
  {
   "cell_type": "markdown",
   "metadata": {},
   "source": [
    "## ヒント\n",
    "\n",
    "* NumPyのテクニックを流用。\n",
    "* コピーではなく、上書きを検討 inplace = True\n",
    "* indexはユニークかつソート済みの方が良い\n",
    "* 文字列データはデフォルトだとobject型、astype('category')でカテゴリ型に変換できる。一覧リスト似たする整数のインデックスで保持されるので、種類が少なければ効率的\n",
    "* DataFrameはSeriesの集合で構成されている。DataFrameを行で処理するのは、Seriesより非効率である\n",
    "\n"
   ]
  }
 ],
 "metadata": {
  "kernelspec": {
   "display_name": "Python 3",
   "language": "python",
   "name": "python3"
  },
  "language_info": {
   "codemirror_mode": {
    "name": "ipython",
    "version": 3
   },
   "file_extension": ".py",
   "mimetype": "text/x-python",
   "name": "python",
   "nbconvert_exporter": "python",
   "pygments_lexer": "ipython3",
   "version": "3.7.7"
  }
 },
 "nbformat": 4,
 "nbformat_minor": 4
}
