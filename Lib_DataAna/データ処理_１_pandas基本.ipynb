{
 "cells": [
  {
   "cell_type": "markdown",
   "metadata": {},
   "source": [
    "# pandas(PANel DAta System)\n",
    "データ分析を支援するためのパッケージ"
   ]
  },
  {
   "cell_type": "markdown",
   "metadata": {},
   "source": [
    "#### データの持ち方：　DataFrame　と　Series"
   ]
  },
  {
   "cell_type": "code",
   "execution_count": 33,
   "metadata": {},
   "outputs": [
    {
     "name": "stdout",
     "output_type": "stream",
     "text": [
      "s_list:\n",
      " 0    A\n",
      "1    B\n",
      "dtype: object\n",
      "s_dict:\n",
      " 0    A\n",
      "1    B\n",
      "dtype: object\n"
     ]
    }
   ],
   "source": [
    "#シリーズ作成\n",
    "import pandas as pd\n",
    "import numpy as np\n",
    "\n",
    "s_list = pd.Series(['A', 'B'])\n",
    "s_dict = pd.Series({0:'A', 1: 'B'})\n",
    "\n",
    "print('s_list:\\n', s_list)\n",
    "print('s_dict:\\n', s_dict)"
   ]
  },
  {
   "cell_type": "code",
   "execution_count": 9,
   "metadata": {},
   "outputs": [
    {
     "name": "stdout",
     "output_type": "stream",
     "text": [
      "d_list:\n",
      "     name  age\n",
      "0  Alice   20\n",
      "1    Bob   24\n",
      "d_dict:\n",
      "     name  age\n",
      "0  Alice   20\n",
      "1    Bob   24\n"
     ]
    }
   ],
   "source": [
    "#データフレーム作成\n",
    "#リストでは一人の情報まとめて入力；　追加ユーザー情報入れるとき\n",
    "#辞書では、情報種類ごとにまとめて入力できる；例えば、新たに趣味の欄を追加するとか\n",
    "\n",
    "d_list = pd.DataFrame([('Alice', 20), ('Bob',24)], columns=['name', 'age'])\n",
    "d_dict = pd.DataFrame({'name': ['Alice', 'Bob'], 'age': [20,24]})\n",
    "print('d_list:\\n', d_list)\n",
    "print('d_dict:\\n', d_dict)"
   ]
  },
  {
   "cell_type": "markdown",
   "metadata": {},
   "source": [
    "#### 属性とメソッド（データフレーム）\n",
    "\n",
    "* 列名\n",
    "* []　Numpyに準じる\n",
    "* 演算　シリーズ同士の演算\n",
    "* T　転置したものを返す\n",
    "* abs　絶対値を返す\n",
    "* append　他のデータフレームとつなげる\n",
    "* apply　各列ごとに関数を適用\n",
    "* boxplot　箱ひげ図\n",
    "* columns 列\n",
    "* copy　複製\n",
    "* corr　**相関係数を返す**\n",
    "* count　要素数\n",
    "* cov　共分散\n",
    "* describe　サマリー\n",
    "* drop　指定されたものを削除\n",
    "* dropna　nanが含まれる**行**を削除\n",
    "* dtypes　型を返す\n",
    "* fillna　欠損値をしてした値で埋める\n",
    "* groupby　指定された列でグループする\n",
    "* head　先頭表示\n",
    "* hist　ヒストグラムを表示\n",
    "* index　インデックス\n",
    "* insert　**列**を追加する\n",
    "* irow　行を返す\n",
    "* iteritems　列のジェネレーター\n",
    "* iterrows　行のジェネレーター\n",
    "* ix　行や列で指定したものを取得や設定\n",
    "* join　列を追加したものを返す\n",
    "* max(min)　最大最小値を返す\n",
    "* mean　平均を返す\n",
    "* median　メディアンを返す\n",
    "* pivot　ピボットテーブルを作成\n",
    "* plot　グラフで表示\n",
    "* prod、product　積を返す\n",
    "* reindex　指定されたインデックスのものを返す\n",
    "* resample　時系列データの再サンプリング\n",
    "* sort_values　ソート\n",
    "* std　標準偏差\n",
    "* sum　合計\n",
    "* tail　最後\n",
    "* to_csv　csv保存\n",
    "* to_dict　辞書に変換\n",
    "* values　データを表す属性（NumPyの配列型に変換）\n",
    "* var　分散"
   ]
  },
  {
   "cell_type": "markdown",
   "metadata": {},
   "source": [
    "#### 属性とメソッド（シリーズデータ）\n",
    "\n",
    "~~* 列名~~\n",
    "* []　Numpyに準じる\n",
    "* 演算　シリーズ同士の演算\n",
    "~~* T　転置したものを返す~~\n",
    "* abs　絶対値を返す\n",
    "* append　他のデータフレームとつなげる\n",
    "* apply　各列ごとに関数を適用\n",
    "* **NEW**argmax(argmin）最大・最小の要素のインデックスを返す; idxmax(min)同様\n",
    "* **NEW**argsort ソート結果のインデックスを返す\n",
    "~~* boxplot　箱ひげ図~~\n",
    "~~* columns 列~~\n",
    "* copy　複製\n",
    "* corr　**相関係数を返す**\n",
    "* count　要素数\n",
    "* cov　共分散\n",
    "* describe　サマリー\n",
    "* **NEW**　dot　内積\n",
    "* drop　指定されたものを削除\n",
    "* dropna　nanが含まれる**行**を削除\n",
    "* dtype**~~s~~**　型を返す\n",
    "* fillna　欠損値をしてした値で埋める\n",
    "* groupby　指定された列でグループする\n",
    "* head　先頭表示\n",
    "* hist　ヒストグラムを表示\n",
    "* index　インデックス\n",
    "* insert　**列**を追加する\n",
    "~~* irow　行を返す~~\n",
    "~~* iteritems　列のジェネレーター~~\n",
    "~~* iterrows　行のジェネレーター~~\n",
    "~~* ix　行や列で指定したものを取得や設定~~\n",
    "~~* join　列を追加したものを返す~~\n",
    "* max(min)　最大最小値を返す\n",
    "* mean　平均を返す\n",
    "* median　メディアンを返す\n",
    "* **NEW**　nunique 重複していない値の数を返す\n",
    "~~* pivot　ピボットテーブルを作成~~\n",
    "* plot　グラフで表示\n",
    "* prod、product　積を返す\n",
    "* reindex　指定されたインデックスのものを返す\n",
    "* resample　時系列データの再サンプリング\n",
    "* round　丸めて返す\n",
    "* sort_values　ソート\n",
    "* std　標準偏差\n",
    "* sum　合計\n",
    "* tail　最後\n",
    "* to_csv　csv保存\n",
    "* to_dict　辞書に変換\n",
    "* unique　ユニークな値を返す\n",
    "* value_cunts　値をインデックスにした度数を返す\n",
    "* values　データを表す属性（NumPyの配列型に変換）\n",
    "* var　分散"
   ]
  },
  {
   "cell_type": "markdown",
   "metadata": {},
   "source": [
    "#### ファイルの入出力"
   ]
  },
  {
   "cell_type": "markdown",
   "metadata": {},
   "source": [
    "※何度も読み込むのであれば、pickleが効率良い\n",
    "\n",
    "* d = pd.read_csv(ファイル名, encoding = 'cp932')\n",
    "* d.to_csv(ファイル名, encoding = 'cp932')\n",
    "\n",
    "* d = pd.read_excel(ファイル名, encoding = 'cp932')\n",
    "* d.to_excel(ファイル名)\n",
    "\n",
    "* d = pd.read_pickle(ファイル名)\n",
    "* d.to_pickle(ファイル名)\n"
   ]
  },
  {
   "cell_type": "markdown",
   "metadata": {},
   "source": [
    "#### データ参照"
   ]
  },
  {
   "cell_type": "code",
   "execution_count": 80,
   "metadata": {},
   "outputs": [
    {
     "name": "stdout",
     "output_type": "stream",
     "text": [
      "    y1  y2  y3\n",
      "x1   3   5   4\n",
      "x2   2   3   3\n",
      "x3   3   3   4\n",
      "x4   1   5   4\n"
     ]
    },
    {
     "data": {
      "text/plain": [
       "y1    3\n",
       "y2    5\n",
       "y3    4\n",
       "Name: x1, dtype: int64"
      ]
     },
     "execution_count": 80,
     "metadata": {},
     "output_type": "execute_result"
    }
   ],
   "source": [
    "d = pd.DataFrame(np.random.randint(1,6,(4,3)),\n",
    "                index = ['x1', 'x2', 'x3', 'x4'],\n",
    "                columns = ['y1', 'y2', 'y3']) #columns = ['列1', '列2', '列3'])\n",
    "print(d)\n",
    "#先頭２行\n",
    "d.head(2)\n",
    "d[:2]\n",
    "d['x1':'x2']\n",
    "\n",
    "#先頭１列\n",
    "d.y１\n",
    "d['y1']\n",
    "\n",
    "#複数列を飛んで選ぶ\n",
    "d[['y1', 'y3']] #error with d[[0,2]] \n",
    "d.iloc[:,[0,2]]\n",
    "\n",
    "#行を選ぶ\n",
    "d.iloc[0] #print('d.iloc[0]: \\n', d.iloc[0])\n",
    "d.iloc[0,:] #print('d.iloc[0,:]: \\n', d.iloc[0,:])\n",
    "\n",
    "#d.ix[1000]  AttributeError: 'DataFrame' object has no attribute 'ix' 新pandasでなくなった\n",
    "\n"
   ]
  },
  {
   "cell_type": "markdown",
   "metadata": {},
   "source": [
    "#### 条件による抽出"
   ]
  },
  {
   "cell_type": "code",
   "execution_count": 75,
   "metadata": {},
   "outputs": [
    {
     "data": {
      "text/html": [
       "<div>\n",
       "<style scoped>\n",
       "    .dataframe tbody tr th:only-of-type {\n",
       "        vertical-align: middle;\n",
       "    }\n",
       "\n",
       "    .dataframe tbody tr th {\n",
       "        vertical-align: top;\n",
       "    }\n",
       "\n",
       "    .dataframe thead th {\n",
       "        text-align: right;\n",
       "    }\n",
       "</style>\n",
       "<table border=\"1\" class=\"dataframe\">\n",
       "  <thead>\n",
       "    <tr style=\"text-align: right;\">\n",
       "      <th></th>\n",
       "      <th>y1</th>\n",
       "      <th>y2</th>\n",
       "      <th>y3</th>\n",
       "    </tr>\n",
       "  </thead>\n",
       "  <tbody>\n",
       "    <tr>\n",
       "      <th>x1</th>\n",
       "      <td>2</td>\n",
       "      <td>1</td>\n",
       "      <td>3</td>\n",
       "    </tr>\n",
       "    <tr>\n",
       "      <th>x2</th>\n",
       "      <td>2</td>\n",
       "      <td>3</td>\n",
       "      <td>3</td>\n",
       "    </tr>\n",
       "    <tr>\n",
       "      <th>x3</th>\n",
       "      <td>2</td>\n",
       "      <td>2</td>\n",
       "      <td>3</td>\n",
       "    </tr>\n",
       "    <tr>\n",
       "      <th>x4</th>\n",
       "      <td>1</td>\n",
       "      <td>1</td>\n",
       "      <td>3</td>\n",
       "    </tr>\n",
       "  </tbody>\n",
       "</table>\n",
       "</div>"
      ],
      "text/plain": [
       "    y1  y2  y3\n",
       "x1   2   1   3\n",
       "x2   2   3   3\n",
       "x3   2   2   3\n",
       "x4   1   1   3"
      ]
     },
     "execution_count": 75,
     "metadata": {},
     "output_type": "execute_result"
    }
   ],
   "source": [
    "d[d['y1']<3]\n",
    "d[d.y1<3]"
   ]
  },
  {
   "cell_type": "code",
   "execution_count": 76,
   "metadata": {},
   "outputs": [
    {
     "data": {
      "text/html": [
       "<div>\n",
       "<style scoped>\n",
       "    .dataframe tbody tr th:only-of-type {\n",
       "        vertical-align: middle;\n",
       "    }\n",
       "\n",
       "    .dataframe tbody tr th {\n",
       "        vertical-align: top;\n",
       "    }\n",
       "\n",
       "    .dataframe thead th {\n",
       "        text-align: right;\n",
       "    }\n",
       "</style>\n",
       "<table border=\"1\" class=\"dataframe\">\n",
       "  <thead>\n",
       "    <tr style=\"text-align: right;\">\n",
       "      <th></th>\n",
       "      <th>y1</th>\n",
       "      <th>y2</th>\n",
       "      <th>y3</th>\n",
       "    </tr>\n",
       "  </thead>\n",
       "  <tbody>\n",
       "    <tr>\n",
       "      <th>x1</th>\n",
       "      <td>2</td>\n",
       "      <td>1</td>\n",
       "      <td>3</td>\n",
       "    </tr>\n",
       "    <tr>\n",
       "      <th>x3</th>\n",
       "      <td>2</td>\n",
       "      <td>2</td>\n",
       "      <td>3</td>\n",
       "    </tr>\n",
       "    <tr>\n",
       "      <th>x4</th>\n",
       "      <td>1</td>\n",
       "      <td>1</td>\n",
       "      <td>3</td>\n",
       "    </tr>\n",
       "  </tbody>\n",
       "</table>\n",
       "</div>"
      ],
      "text/plain": [
       "    y1  y2  y3\n",
       "x1   2   1   3\n",
       "x3   2   2   3\n",
       "x4   1   1   3"
      ]
     },
     "execution_count": 76,
     "metadata": {},
     "output_type": "execute_result"
    }
   ],
   "source": [
    "d[(d.y1<3) & (d.y2<3)]"
   ]
  },
  {
   "cell_type": "code",
   "execution_count": 77,
   "metadata": {},
   "outputs": [
    {
     "data": {
      "text/html": [
       "<div>\n",
       "<style scoped>\n",
       "    .dataframe tbody tr th:only-of-type {\n",
       "        vertical-align: middle;\n",
       "    }\n",
       "\n",
       "    .dataframe tbody tr th {\n",
       "        vertical-align: top;\n",
       "    }\n",
       "\n",
       "    .dataframe thead th {\n",
       "        text-align: right;\n",
       "    }\n",
       "</style>\n",
       "<table border=\"1\" class=\"dataframe\">\n",
       "  <thead>\n",
       "    <tr style=\"text-align: right;\">\n",
       "      <th></th>\n",
       "      <th>y1</th>\n",
       "      <th>y2</th>\n",
       "      <th>y3</th>\n",
       "    </tr>\n",
       "  </thead>\n",
       "  <tbody>\n",
       "    <tr>\n",
       "      <th>x1</th>\n",
       "      <td>2</td>\n",
       "      <td>1</td>\n",
       "      <td>3</td>\n",
       "    </tr>\n",
       "    <tr>\n",
       "      <th>x2</th>\n",
       "      <td>2</td>\n",
       "      <td>3</td>\n",
       "      <td>3</td>\n",
       "    </tr>\n",
       "    <tr>\n",
       "      <th>x3</th>\n",
       "      <td>2</td>\n",
       "      <td>2</td>\n",
       "      <td>3</td>\n",
       "    </tr>\n",
       "    <tr>\n",
       "      <th>x4</th>\n",
       "      <td>1</td>\n",
       "      <td>1</td>\n",
       "      <td>3</td>\n",
       "    </tr>\n",
       "  </tbody>\n",
       "</table>\n",
       "</div>"
      ],
      "text/plain": [
       "    y1  y2  y3\n",
       "x1   2   1   3\n",
       "x2   2   3   3\n",
       "x3   2   2   3\n",
       "x4   1   1   3"
      ]
     },
     "execution_count": 77,
     "metadata": {},
     "output_type": "execute_result"
    }
   ],
   "source": [
    "# Or: |\n",
    "d[(d.y1<3) | (d.y2<3)]"
   ]
  },
  {
   "cell_type": "code",
   "execution_count": 82,
   "metadata": {},
   "outputs": [
    {
     "data": {
      "text/html": [
       "<div>\n",
       "<style scoped>\n",
       "    .dataframe tbody tr th:only-of-type {\n",
       "        vertical-align: middle;\n",
       "    }\n",
       "\n",
       "    .dataframe tbody tr th {\n",
       "        vertical-align: top;\n",
       "    }\n",
       "\n",
       "    .dataframe thead th {\n",
       "        text-align: right;\n",
       "    }\n",
       "</style>\n",
       "<table border=\"1\" class=\"dataframe\">\n",
       "  <thead>\n",
       "    <tr style=\"text-align: right;\">\n",
       "      <th></th>\n",
       "      <th>y1</th>\n",
       "      <th>y2</th>\n",
       "      <th>y3</th>\n",
       "    </tr>\n",
       "  </thead>\n",
       "  <tbody>\n",
       "    <tr>\n",
       "      <th>x1</th>\n",
       "      <td>3</td>\n",
       "      <td>5</td>\n",
       "      <td>4</td>\n",
       "    </tr>\n",
       "    <tr>\n",
       "      <th>x3</th>\n",
       "      <td>3</td>\n",
       "      <td>3</td>\n",
       "      <td>4</td>\n",
       "    </tr>\n",
       "  </tbody>\n",
       "</table>\n",
       "</div>"
      ],
      "text/plain": [
       "    y1  y2  y3\n",
       "x1   3   5   4\n",
       "x3   3   3   4"
      ]
     },
     "execution_count": 82,
     "metadata": {},
     "output_type": "execute_result"
    }
   ],
   "source": [
    "# Not: ~\n",
    "d[~(d.y1<3)]"
   ]
  },
  {
   "cell_type": "markdown",
   "metadata": {},
   "source": [
    "#### 条件による抽出(Query使用)"
   ]
  },
  {
   "cell_type": "code",
   "execution_count": 91,
   "metadata": {},
   "outputs": [
    {
     "data": {
      "text/html": [
       "<div>\n",
       "<style scoped>\n",
       "    .dataframe tbody tr th:only-of-type {\n",
       "        vertical-align: middle;\n",
       "    }\n",
       "\n",
       "    .dataframe tbody tr th {\n",
       "        vertical-align: top;\n",
       "    }\n",
       "\n",
       "    .dataframe thead th {\n",
       "        text-align: right;\n",
       "    }\n",
       "</style>\n",
       "<table border=\"1\" class=\"dataframe\">\n",
       "  <thead>\n",
       "    <tr style=\"text-align: right;\">\n",
       "      <th></th>\n",
       "      <th>y1</th>\n",
       "      <th>y2</th>\n",
       "      <th>y3</th>\n",
       "    </tr>\n",
       "  </thead>\n",
       "  <tbody>\n",
       "    <tr>\n",
       "      <th>x1</th>\n",
       "      <td>3</td>\n",
       "      <td>5</td>\n",
       "      <td>4</td>\n",
       "    </tr>\n",
       "    <tr>\n",
       "      <th>x3</th>\n",
       "      <td>3</td>\n",
       "      <td>3</td>\n",
       "      <td>4</td>\n",
       "    </tr>\n",
       "  </tbody>\n",
       "</table>\n",
       "</div>"
      ],
      "text/plain": [
       "    y1  y2  y3\n",
       "x1   3   5   4\n",
       "x3   3   3   4"
      ]
     },
     "execution_count": 91,
     "metadata": {},
     "output_type": "execute_result"
    }
   ],
   "source": [
    "d.query('y1<3')\n",
    "n = 3\n",
    "d.query('y1<@n') #変数を使う際は@をつける\n",
    "d.query('y1<3 & y2 <4')\n",
    "d.query('y1<3 | y2 <4')\n",
    "d.query('~(y1<3)')"
   ]
  },
  {
   "cell_type": "markdown",
   "metadata": {},
   "source": [
    "#### Where & Mask"
   ]
  },
  {
   "cell_type": "code",
   "execution_count": 95,
   "metadata": {},
   "outputs": [
    {
     "name": "stdout",
     "output_type": "stream",
     "text": [
      "     y1   y2   y3\n",
      "x1  NaN  NaN  NaN\n",
      "x2  2.0  3.0  3.0\n",
      "x3  NaN  NaN  NaN\n",
      "x4  1.0  5.0  4.0\n",
      "     y1   y2   y3\n",
      "x1  3.0  5.0  4.0\n",
      "x2  NaN  NaN  NaN\n",
      "x3  3.0  3.0  4.0\n",
      "x4  NaN  NaN  NaN\n"
     ]
    }
   ],
   "source": [
    "d_w = d.where(d.y1<3)\n",
    "print(d_w)\n",
    "d_m = d.mask(d.y1<3)\n",
    "print(d_m)"
   ]
  },
  {
   "cell_type": "code",
   "execution_count": 100,
   "metadata": {},
   "outputs": [
    {
     "name": "stdout",
     "output_type": "stream",
     "text": [
      "    y1  y2  y3\n",
      "x1 -30 -50 -40\n",
      "x2   2   3   3\n",
      "x3 -30 -30 -40\n",
      "x4   1   5   4\n",
      "     y1   y2   y3\n",
      "x1    3    5    4\n",
      "x2  orz  orz  orz\n",
      "x3    3    3    4\n",
      "x4  orz  orz  orz\n"
     ]
    }
   ],
   "source": [
    "#NaNを値を指定\n",
    "d_w = d.where(d.y1<3, -d*10)\n",
    "print(d_w)\n",
    "d_m = d.mask(d.y1<3, 'orz')\n",
    "print(d_m)"
   ]
  },
  {
   "cell_type": "code",
   "execution_count": 106,
   "metadata": {},
   "outputs": [
    {
     "name": "stdout",
     "output_type": "stream",
     "text": [
      "    y1  y2  y3\n",
      "x1   3   5   4\n",
      "x2   2   3   3\n",
      "x3   3   3   4\n",
      "x4   1   5   4\n",
      "y1が3以下（３含まない）の場合、そのまま；３以上なら、y2の値を入れる\n"
     ]
    },
    {
     "data": {
      "text/plain": [
       "x1    5\n",
       "x2    2\n",
       "x3    3\n",
       "x4    1\n",
       "Name: y1, dtype: int64"
      ]
     },
     "execution_count": 106,
     "metadata": {},
     "output_type": "execute_result"
    }
   ],
   "source": [
    "print(d)\n",
    "print('y1が3以下（３含まない）の場合、そのまま；３以上なら、y2の値を入れる')\n",
    "d.y1.where(d.y1<3, d.y2)"
   ]
  },
  {
   "cell_type": "markdown",
   "metadata": {},
   "source": [
    "#### 列の追加・連結・結合"
   ]
  },
  {
   "cell_type": "markdown",
   "metadata": {},
   "source": [
    "TypeError: assign() takes 1 positional argument but 3 were given\n",
    "    \n",
    "y4 = [6,6,6,6]\n",
    "y5 = [1,1,1,1]\n",
    "d.assign(y4,y5)"
   ]
  },
  {
   "cell_type": "markdown",
   "metadata": {},
   "source": [
    "#### d.assign()　で列を追加したDataFrameを新たに作成、もとのDFは変更されない"
   ]
  },
  {
   "cell_type": "code",
   "execution_count": 115,
   "metadata": {},
   "outputs": [
    {
     "name": "stdout",
     "output_type": "stream",
     "text": [
      "    y1  y2  y3  y4  y5\n",
      "x1   3   5   4   6   1\n",
      "x2   2   3   3   6   1\n",
      "x3   3   3   4   6   1\n",
      "x4   1   5   4   6   2\n",
      "    y1  y2  y3\n",
      "x1   3   5   4\n",
      "x2   2   3   3\n",
      "x3   3   3   4\n",
      "x4   1   5   4\n"
     ]
    }
   ],
   "source": [
    "#d.assign(y4 = [6,6,6,6] ,y5 = [1,1,1,1]) \n",
    "#d.assign(y4 = [6,6,6,6] ,y5 = [1,1,1,2]) #上書きもできる\n",
    "print(d.assign(y4 = [6,6,6,6] ,y5 = [1,1,1,2]))\n",
    "print(d)"
   ]
  },
  {
   "cell_type": "code",
   "execution_count": 120,
   "metadata": {},
   "outputs": [
    {
     "name": "stdout",
     "output_type": "stream",
     "text": [
      "    y1  y2  y3  y4\n",
      "x1   3   5   4   6\n",
      "x2   2   3   3   6\n",
      "x3   3   3   4   6\n",
      "x4   1   5   4   6\n",
      "    y1  y2  y3  y4\n",
      "x1   3   5   4   6\n",
      "x2   2   3   3   6\n",
      "x3   3   3   4   6\n",
      "x4   1   5   4   7\n"
     ]
    }
   ],
   "source": [
    "#もとのDFに追加する場合：\n",
    "d['y4'] = [6,6,6,6]\n",
    "print(d)\n",
    "d['y4'] = [6,6,6,7]\n",
    "print(d)"
   ]
  },
  {
   "cell_type": "code",
   "execution_count": 135,
   "metadata": {},
   "outputs": [
    {
     "data": {
      "text/html": [
       "<div>\n",
       "<style scoped>\n",
       "    .dataframe tbody tr th:only-of-type {\n",
       "        vertical-align: middle;\n",
       "    }\n",
       "\n",
       "    .dataframe tbody tr th {\n",
       "        vertical-align: top;\n",
       "    }\n",
       "\n",
       "    .dataframe thead th {\n",
       "        text-align: right;\n",
       "    }\n",
       "</style>\n",
       "<table border=\"1\" class=\"dataframe\">\n",
       "  <thead>\n",
       "    <tr style=\"text-align: right;\">\n",
       "      <th></th>\n",
       "      <th>y1</th>\n",
       "      <th>y2</th>\n",
       "      <th>y3</th>\n",
       "      <th>y4</th>\n",
       "    </tr>\n",
       "  </thead>\n",
       "  <tbody>\n",
       "    <tr>\n",
       "      <th>x1</th>\n",
       "      <td>3</td>\n",
       "      <td>5</td>\n",
       "      <td>4</td>\n",
       "      <td>6</td>\n",
       "    </tr>\n",
       "    <tr>\n",
       "      <th>x2</th>\n",
       "      <td>2</td>\n",
       "      <td>3</td>\n",
       "      <td>3</td>\n",
       "      <td>6</td>\n",
       "    </tr>\n",
       "    <tr>\n",
       "      <th>x3</th>\n",
       "      <td>3</td>\n",
       "      <td>3</td>\n",
       "      <td>4</td>\n",
       "      <td>6</td>\n",
       "    </tr>\n",
       "    <tr>\n",
       "      <th>x4</th>\n",
       "      <td>1</td>\n",
       "      <td>5</td>\n",
       "      <td>4</td>\n",
       "      <td>7</td>\n",
       "    </tr>\n",
       "    <tr>\n",
       "      <th>x3</th>\n",
       "      <td>3</td>\n",
       "      <td>3</td>\n",
       "      <td>4</td>\n",
       "      <td>6</td>\n",
       "    </tr>\n",
       "    <tr>\n",
       "      <th>x4</th>\n",
       "      <td>1</td>\n",
       "      <td>5</td>\n",
       "      <td>4</td>\n",
       "      <td>7</td>\n",
       "    </tr>\n",
       "  </tbody>\n",
       "</table>\n",
       "</div>"
      ],
      "text/plain": [
       "    y1  y2  y3  y4\n",
       "x1   3   5   4   6\n",
       "x2   2   3   3   6\n",
       "x3   3   3   4   6\n",
       "x4   1   5   4   7\n",
       "x3   3   3   4   6\n",
       "x4   1   5   4   7"
      ]
     },
     "execution_count": 135,
     "metadata": {},
     "output_type": "execute_result"
    }
   ],
   "source": [
    "pd.concat([d[:1],d[-1:]])\n",
    "pd.concat([d[:],d[-1:]])\n",
    "pd.concat([d[:],d[-2:]])"
   ]
  },
  {
   "cell_type": "code",
   "execution_count": 137,
   "metadata": {},
   "outputs": [
    {
     "name": "stdout",
     "output_type": "stream",
     "text": [
      "同じIndexでもエラーにならない\n"
     ]
    },
    {
     "data": {
      "text/html": [
       "<div>\n",
       "<style scoped>\n",
       "    .dataframe tbody tr th:only-of-type {\n",
       "        vertical-align: middle;\n",
       "    }\n",
       "\n",
       "    .dataframe tbody tr th {\n",
       "        vertical-align: top;\n",
       "    }\n",
       "\n",
       "    .dataframe thead th {\n",
       "        text-align: right;\n",
       "    }\n",
       "</style>\n",
       "<table border=\"1\" class=\"dataframe\">\n",
       "  <thead>\n",
       "    <tr style=\"text-align: right;\">\n",
       "      <th></th>\n",
       "      <th>y1</th>\n",
       "      <th>y2</th>\n",
       "      <th>y3</th>\n",
       "      <th>y4</th>\n",
       "    </tr>\n",
       "  </thead>\n",
       "  <tbody>\n",
       "    <tr>\n",
       "      <th>x4</th>\n",
       "      <td>1</td>\n",
       "      <td>5</td>\n",
       "      <td>4</td>\n",
       "      <td>7</td>\n",
       "    </tr>\n",
       "    <tr>\n",
       "      <th>x3</th>\n",
       "      <td>3</td>\n",
       "      <td>3</td>\n",
       "      <td>4</td>\n",
       "      <td>6</td>\n",
       "    </tr>\n",
       "    <tr>\n",
       "      <th>x4</th>\n",
       "      <td>1</td>\n",
       "      <td>5</td>\n",
       "      <td>4</td>\n",
       "      <td>7</td>\n",
       "    </tr>\n",
       "  </tbody>\n",
       "</table>\n",
       "</div>"
      ],
      "text/plain": [
       "    y1  y2  y3  y4\n",
       "x4   1   5   4   7\n",
       "x3   3   3   4   6\n",
       "x4   1   5   4   7"
      ]
     },
     "execution_count": 137,
     "metadata": {},
     "output_type": "execute_result"
    }
   ],
   "source": [
    "print('同じIndexでもエラーにならない')\n",
    "d[1:].append(d[-1:])\n",
    "d[-1:].append(d[-2:])"
   ]
  },
  {
   "cell_type": "code",
   "execution_count": 141,
   "metadata": {},
   "outputs": [
    {
     "name": "stdout",
     "output_type": "stream",
     "text": [
      "Verify_integrity = True にすると、同じIndexだとエラーになる\n"
     ]
    }
   ],
   "source": [
    "print('verify_integrity = True にすると、同じIndexだとエラーになる')\n",
    "# d[-1:].append(d[-2:], verify_integrity = True) #ValueError: Indexes have overlapping values: Index(['x4'], dtype='object')"
   ]
  },
  {
   "cell_type": "code",
   "execution_count": 144,
   "metadata": {},
   "outputs": [
    {
     "name": "stdout",
     "output_type": "stream",
     "text": [
      "ignore_index = True にすると、indexが振り直される\n"
     ]
    },
    {
     "data": {
      "text/html": [
       "<div>\n",
       "<style scoped>\n",
       "    .dataframe tbody tr th:only-of-type {\n",
       "        vertical-align: middle;\n",
       "    }\n",
       "\n",
       "    .dataframe tbody tr th {\n",
       "        vertical-align: top;\n",
       "    }\n",
       "\n",
       "    .dataframe thead th {\n",
       "        text-align: right;\n",
       "    }\n",
       "</style>\n",
       "<table border=\"1\" class=\"dataframe\">\n",
       "  <thead>\n",
       "    <tr style=\"text-align: right;\">\n",
       "      <th></th>\n",
       "      <th>y1</th>\n",
       "      <th>y2</th>\n",
       "      <th>y3</th>\n",
       "      <th>y4</th>\n",
       "    </tr>\n",
       "  </thead>\n",
       "  <tbody>\n",
       "    <tr>\n",
       "      <th>0</th>\n",
       "      <td>1</td>\n",
       "      <td>5</td>\n",
       "      <td>4</td>\n",
       "      <td>7</td>\n",
       "    </tr>\n",
       "    <tr>\n",
       "      <th>1</th>\n",
       "      <td>3</td>\n",
       "      <td>3</td>\n",
       "      <td>4</td>\n",
       "      <td>6</td>\n",
       "    </tr>\n",
       "    <tr>\n",
       "      <th>2</th>\n",
       "      <td>1</td>\n",
       "      <td>5</td>\n",
       "      <td>4</td>\n",
       "      <td>7</td>\n",
       "    </tr>\n",
       "  </tbody>\n",
       "</table>\n",
       "</div>"
      ],
      "text/plain": [
       "   y1  y2  y3  y4\n",
       "0   1   5   4   7\n",
       "1   3   3   4   6\n",
       "2   1   5   4   7"
      ]
     },
     "execution_count": 144,
     "metadata": {},
     "output_type": "execute_result"
    }
   ],
   "source": [
    "print('ignore_index = True にすると、indexが振り直される')\n",
    "d[-1:].append(d[-2:], ignore_index = True )"
   ]
  },
  {
   "cell_type": "code",
   "execution_count": 150,
   "metadata": {},
   "outputs": [
    {
     "data": {
      "text/html": [
       "<div>\n",
       "<style scoped>\n",
       "    .dataframe tbody tr th:only-of-type {\n",
       "        vertical-align: middle;\n",
       "    }\n",
       "\n",
       "    .dataframe tbody tr th {\n",
       "        vertical-align: top;\n",
       "    }\n",
       "\n",
       "    .dataframe thead th {\n",
       "        text-align: right;\n",
       "    }\n",
       "</style>\n",
       "<table border=\"1\" class=\"dataframe\">\n",
       "  <thead>\n",
       "    <tr style=\"text-align: right;\">\n",
       "      <th></th>\n",
       "      <th>y1</th>\n",
       "      <th>y2</th>\n",
       "      <th>y3</th>\n",
       "      <th>y4</th>\n",
       "    </tr>\n",
       "  </thead>\n",
       "  <tbody>\n",
       "    <tr>\n",
       "      <th>0</th>\n",
       "      <td>1</td>\n",
       "      <td>5</td>\n",
       "      <td>4</td>\n",
       "      <td>7</td>\n",
       "    </tr>\n",
       "    <tr>\n",
       "      <th>1</th>\n",
       "      <td>3</td>\n",
       "      <td>3</td>\n",
       "      <td>4</td>\n",
       "      <td>6</td>\n",
       "    </tr>\n",
       "    <tr>\n",
       "      <th>2</th>\n",
       "      <td>1</td>\n",
       "      <td>5</td>\n",
       "      <td>4</td>\n",
       "      <td>7</td>\n",
       "    </tr>\n",
       "  </tbody>\n",
       "</table>\n",
       "</div>"
      ],
      "text/plain": [
       "   y1  y2  y3  y4\n",
       "0   1   5   4   7\n",
       "1   3   3   4   6\n",
       "2   1   5   4   7"
      ]
     },
     "execution_count": 150,
     "metadata": {},
     "output_type": "execute_result"
    }
   ],
   "source": [
    "d[-1:].append(d[-2:], verify_integrity = True, ignore_index = True)"
   ]
  },
  {
   "cell_type": "code",
   "execution_count": 160,
   "metadata": {},
   "outputs": [
    {
     "name": "stdout",
     "output_type": "stream",
     "text": [
      "列の結合：axis=1\n"
     ]
    },
    {
     "data": {
      "text/html": [
       "<div>\n",
       "<style scoped>\n",
       "    .dataframe tbody tr th:only-of-type {\n",
       "        vertical-align: middle;\n",
       "    }\n",
       "\n",
       "    .dataframe tbody tr th {\n",
       "        vertical-align: top;\n",
       "    }\n",
       "\n",
       "    .dataframe thead th {\n",
       "        text-align: right;\n",
       "    }\n",
       "</style>\n",
       "<table border=\"1\" class=\"dataframe\">\n",
       "  <thead>\n",
       "    <tr style=\"text-align: right;\">\n",
       "      <th></th>\n",
       "      <th>y1</th>\n",
       "      <th>y4</th>\n",
       "      <th>y3</th>\n",
       "    </tr>\n",
       "  </thead>\n",
       "  <tbody>\n",
       "    <tr>\n",
       "      <th>x1</th>\n",
       "      <td>3</td>\n",
       "      <td>6</td>\n",
       "      <td>4</td>\n",
       "    </tr>\n",
       "    <tr>\n",
       "      <th>x2</th>\n",
       "      <td>2</td>\n",
       "      <td>6</td>\n",
       "      <td>3</td>\n",
       "    </tr>\n",
       "    <tr>\n",
       "      <th>x3</th>\n",
       "      <td>3</td>\n",
       "      <td>6</td>\n",
       "      <td>4</td>\n",
       "    </tr>\n",
       "    <tr>\n",
       "      <th>x4</th>\n",
       "      <td>1</td>\n",
       "      <td>7</td>\n",
       "      <td>4</td>\n",
       "    </tr>\n",
       "  </tbody>\n",
       "</table>\n",
       "</div>"
      ],
      "text/plain": [
       "    y1  y4  y3\n",
       "x1   3   6   4\n",
       "x2   2   6   3\n",
       "x3   3   6   4\n",
       "x4   1   7   4"
      ]
     },
     "execution_count": 160,
     "metadata": {},
     "output_type": "execute_result"
    }
   ],
   "source": [
    "print('列の結合：axis=1')\n",
    "pd.concat([d.iloc[:,[0]], d.iloc[:,[-1,-2]]],axis = 1)"
   ]
  },
  {
   "cell_type": "code",
   "execution_count": 167,
   "metadata": {},
   "outputs": [
    {
     "name": "stdout",
     "output_type": "stream",
     "text": [
      "    y4\n",
      "x1   6\n",
      "x2   6\n",
      "x3   6\n",
      "x4   7\n",
      "    y4\n",
      "x1   6\n",
      "    y4\n",
      "x0 NaN\n",
      "     y4\n",
      "x1  6.0\n",
      "x0  NaN\n",
      "    y1  y2  y3  y4\n",
      "x1   3   5   4   6\n",
      "x2   2   3   3   6\n",
      "x3   3   3   4   6\n",
      "x4   1   5   4   7\n"
     ]
    }
   ],
   "source": [
    "print(d.iloc[:,[-1]])\n",
    "print(d.iloc[:,[-1]].reindex(['x1']))\n",
    "print(d.iloc[:,[-1]].reindex(['x0']))\n",
    "print(d.iloc[:,[-1]].reindex(['x1','x0']))\n",
    "\n",
    "print(d)"
   ]
  },
  {
   "cell_type": "code",
   "execution_count": 168,
   "metadata": {},
   "outputs": [
    {
     "name": "stdout",
     "output_type": "stream",
     "text": [
      "reindexで追加したものや消されたものはNaNになる\n"
     ]
    },
    {
     "data": {
      "text/html": [
       "<div>\n",
       "<style scoped>\n",
       "    .dataframe tbody tr th:only-of-type {\n",
       "        vertical-align: middle;\n",
       "    }\n",
       "\n",
       "    .dataframe tbody tr th {\n",
       "        vertical-align: top;\n",
       "    }\n",
       "\n",
       "    .dataframe thead th {\n",
       "        text-align: right;\n",
       "    }\n",
       "</style>\n",
       "<table border=\"1\" class=\"dataframe\">\n",
       "  <thead>\n",
       "    <tr style=\"text-align: right;\">\n",
       "      <th></th>\n",
       "      <th>y1</th>\n",
       "      <th>y4</th>\n",
       "    </tr>\n",
       "  </thead>\n",
       "  <tbody>\n",
       "    <tr>\n",
       "      <th>x1</th>\n",
       "      <td>3.0</td>\n",
       "      <td>6.0</td>\n",
       "    </tr>\n",
       "    <tr>\n",
       "      <th>x2</th>\n",
       "      <td>2.0</td>\n",
       "      <td>NaN</td>\n",
       "    </tr>\n",
       "    <tr>\n",
       "      <th>x3</th>\n",
       "      <td>3.0</td>\n",
       "      <td>NaN</td>\n",
       "    </tr>\n",
       "    <tr>\n",
       "      <th>x4</th>\n",
       "      <td>1.0</td>\n",
       "      <td>NaN</td>\n",
       "    </tr>\n",
       "    <tr>\n",
       "      <th>x0</th>\n",
       "      <td>NaN</td>\n",
       "      <td>NaN</td>\n",
       "    </tr>\n",
       "  </tbody>\n",
       "</table>\n",
       "</div>"
      ],
      "text/plain": [
       "     y1   y4\n",
       "x1  3.0  6.0\n",
       "x2  2.0  NaN\n",
       "x3  3.0  NaN\n",
       "x4  1.0  NaN\n",
       "x0  NaN  NaN"
      ]
     },
     "execution_count": 168,
     "metadata": {},
     "output_type": "execute_result"
    }
   ],
   "source": [
    "print('reindexで追加したものや消されたものはNaNになる')\n",
    "pd.concat([d.iloc[:,[0]], d.iloc[:,[-1]].reindex(['x1','x0'])],axis = 1)"
   ]
  },
  {
   "cell_type": "code",
   "execution_count": 171,
   "metadata": {},
   "outputs": [
    {
     "name": "stdout",
     "output_type": "stream",
     "text": [
      "join = innerを指定すると、NaNは連結されない\n"
     ]
    },
    {
     "data": {
      "text/html": [
       "<div>\n",
       "<style scoped>\n",
       "    .dataframe tbody tr th:only-of-type {\n",
       "        vertical-align: middle;\n",
       "    }\n",
       "\n",
       "    .dataframe tbody tr th {\n",
       "        vertical-align: top;\n",
       "    }\n",
       "\n",
       "    .dataframe thead th {\n",
       "        text-align: right;\n",
       "    }\n",
       "</style>\n",
       "<table border=\"1\" class=\"dataframe\">\n",
       "  <thead>\n",
       "    <tr style=\"text-align: right;\">\n",
       "      <th></th>\n",
       "      <th>y1</th>\n",
       "      <th>y4</th>\n",
       "    </tr>\n",
       "  </thead>\n",
       "  <tbody>\n",
       "    <tr>\n",
       "      <th>x1</th>\n",
       "      <td>3</td>\n",
       "      <td>6.0</td>\n",
       "    </tr>\n",
       "  </tbody>\n",
       "</table>\n",
       "</div>"
      ],
      "text/plain": [
       "    y1   y4\n",
       "x1   3  6.0"
      ]
     },
     "execution_count": 171,
     "metadata": {},
     "output_type": "execute_result"
    }
   ],
   "source": [
    "print('join = ''inner''を指定すると、NaNは連結されない')\n",
    "pd.concat([d.iloc[:,[0]], d.iloc[:,[-1]].reindex(['x1','x0'])],axis = 1, join = 'inner')"
   ]
  },
  {
   "cell_type": "code",
   "execution_count": 178,
   "metadata": {},
   "outputs": [
    {
     "name": "stdout",
     "output_type": "stream",
     "text": [
      "join_axesにindexを指定すると、その範囲だけ連結される\n",
      "ただし、最新のPandasでは、join_axesがなくなったみたい\n"
     ]
    }
   ],
   "source": [
    "print('join_axesにindexを指定すると、その範囲だけ連結される')\n",
    "print('ただし、最新のPandasでは、join_axesがなくなったみたい')\n",
    "#pd.concat([d.iloc[:,[0]], d.iloc[:,[-1]].reindex(['x1','x0'])],axis = 1, join_axes = [d.index])"
   ]
  },
  {
   "cell_type": "markdown",
   "metadata": {},
   "source": [
    "#### 追記：　pd.concat（）\n",
    "* 複数のDataFrameまたはSeriesを連結する。\n",
    "\n",
    "pd.concat([df1, df2, series1 ...], \n",
    "          axis=連結する方向, (0 / 1)\n",
    "          sort=並び替えの実施有無, (True / False)\n",
    "          join=連結方法, (outer/inner)\n",
    "          ignore_index=連結したIndexの破棄の実施有無, (True / False)\n",
    "          keys=MultiIndexに新たに追加する値のリスト,\n",
    "          levels=MultiIndexに新たに追加する値のlevels,\n",
    "          verify_integrity=連結したIndexの値の重複チェックの実施有無)\n",
    "\n",
    "* 引数のaxisは、連結方向を指定します。\n",
    "  * axis=0とすると、列のIndex値に基づき列をマージし、行を連結をします。\n",
    "  * axis=1とすると、行のIndex値に基づき行をマージし、列を連結をします。\n",
    "\n",
    "* 引数のsortは、連結した行名/列名の並び替えの実施有無を設定します。\n",
    "\n",
    "* 引数のjoinは、連結方法を設定します。\n",
    "  * joinにouterを指定すると、連結するDataFrameいずれかに存在するIndex値のみ残して連結させます。\n",
    "  * joinにinnerを指定すると、連結するDataFrame全てに存在するIndex値のみ残して連結させます。\n",
    "\n",
    "* 引数のignore_indexは、連結したIndex値の破棄の実施有無を設定します。\n",
    "  * ignore_indexをTrueにすると、連結した元のIndexを破棄して、RangeIndexに置換します。\n",
    "\n",
    "* 引数のkeysを設定すると、連結した行/列のIndexをkeysの値を元にMultiIndexとします。\n",
    "* 引数にlevelsを設定すると、keysを用いて生成したMultiIndexのlevelsを設定できます。\n",
    "\n",
    "* 引数のverify_integrityをTrueにすると、連結したIndexの値に重複がないかチェックを行います。"
   ]
  },
  {
   "cell_type": "markdown",
   "metadata": {},
   "source": [
    "## merge & join　ー　同じキー同士で結合する\n",
    "\n",
    "* merge はキーを指定できる\n",
    "* join　はキーを指定せずにindexを使う"
   ]
  },
  {
   "cell_type": "code",
   "execution_count": 183,
   "metadata": {},
   "outputs": [
    {
     "name": "stdout",
     "output_type": "stream",
     "text": [
      "    y1  y2  y3  y4\n",
      "x1   3   5   4   6\n",
      "x2   2   3   3   6\n",
      "x3   3   3   4   6\n",
      "x4   1   5   4   7\n",
      "    y1  y2\n",
      "x1   3   5\n",
      "x2   2   3\n",
      "x3   3   3\n",
      "    y2  y3  y4\n",
      "x2   3   3   6\n",
      "x3   3   4   6\n",
      "x4   5   4   7\n"
     ]
    }
   ],
   "source": [
    "print(d)\n",
    "print(d.iloc[:3, :2]) #第３行まで、第２列まで\n",
    "print(d.iloc[1:,1:])#第１行から、第１列から"
   ]
  },
  {
   "cell_type": "code",
   "execution_count": 184,
   "metadata": {},
   "outputs": [
    {
     "data": {
      "text/html": [
       "<div>\n",
       "<style scoped>\n",
       "    .dataframe tbody tr th:only-of-type {\n",
       "        vertical-align: middle;\n",
       "    }\n",
       "\n",
       "    .dataframe tbody tr th {\n",
       "        vertical-align: top;\n",
       "    }\n",
       "\n",
       "    .dataframe thead th {\n",
       "        text-align: right;\n",
       "    }\n",
       "</style>\n",
       "<table border=\"1\" class=\"dataframe\">\n",
       "  <thead>\n",
       "    <tr style=\"text-align: right;\">\n",
       "      <th></th>\n",
       "      <th>y1</th>\n",
       "      <th>y2</th>\n",
       "      <th>y3</th>\n",
       "      <th>y4</th>\n",
       "    </tr>\n",
       "  </thead>\n",
       "  <tbody>\n",
       "    <tr>\n",
       "      <th>x1</th>\n",
       "      <td>3.0</td>\n",
       "      <td>5</td>\n",
       "      <td>NaN</td>\n",
       "      <td>NaN</td>\n",
       "    </tr>\n",
       "    <tr>\n",
       "      <th>x2</th>\n",
       "      <td>2.0</td>\n",
       "      <td>3</td>\n",
       "      <td>NaN</td>\n",
       "      <td>NaN</td>\n",
       "    </tr>\n",
       "    <tr>\n",
       "      <th>x3</th>\n",
       "      <td>3.0</td>\n",
       "      <td>3</td>\n",
       "      <td>NaN</td>\n",
       "      <td>NaN</td>\n",
       "    </tr>\n",
       "    <tr>\n",
       "      <th>x2</th>\n",
       "      <td>NaN</td>\n",
       "      <td>3</td>\n",
       "      <td>3.0</td>\n",
       "      <td>6.0</td>\n",
       "    </tr>\n",
       "    <tr>\n",
       "      <th>x3</th>\n",
       "      <td>NaN</td>\n",
       "      <td>3</td>\n",
       "      <td>4.0</td>\n",
       "      <td>6.0</td>\n",
       "    </tr>\n",
       "    <tr>\n",
       "      <th>x4</th>\n",
       "      <td>NaN</td>\n",
       "      <td>5</td>\n",
       "      <td>4.0</td>\n",
       "      <td>7.0</td>\n",
       "    </tr>\n",
       "  </tbody>\n",
       "</table>\n",
       "</div>"
      ],
      "text/plain": [
       "     y1  y2   y3   y4\n",
       "x1  3.0   5  NaN  NaN\n",
       "x2  2.0   3  NaN  NaN\n",
       "x3  3.0   3  NaN  NaN\n",
       "x2  NaN   3  3.0  6.0\n",
       "x3  NaN   3  4.0  6.0\n",
       "x4  NaN   5  4.0  7.0"
      ]
     },
     "execution_count": 184,
     "metadata": {},
     "output_type": "execute_result"
    }
   ],
   "source": [
    "pd.concat([d.iloc[:3, :2], d.iloc[1:,1:]], ignore_index = False)"
   ]
  },
  {
   "cell_type": "code",
   "execution_count": 185,
   "metadata": {},
   "outputs": [
    {
     "data": {
      "text/html": [
       "<div>\n",
       "<style scoped>\n",
       "    .dataframe tbody tr th:only-of-type {\n",
       "        vertical-align: middle;\n",
       "    }\n",
       "\n",
       "    .dataframe tbody tr th {\n",
       "        vertical-align: top;\n",
       "    }\n",
       "\n",
       "    .dataframe thead th {\n",
       "        text-align: right;\n",
       "    }\n",
       "</style>\n",
       "<table border=\"1\" class=\"dataframe\">\n",
       "  <thead>\n",
       "    <tr style=\"text-align: right;\">\n",
       "      <th></th>\n",
       "      <th>y1</th>\n",
       "      <th>y2</th>\n",
       "      <th>y3</th>\n",
       "      <th>y4</th>\n",
       "    </tr>\n",
       "  </thead>\n",
       "  <tbody>\n",
       "    <tr>\n",
       "      <th>0</th>\n",
       "      <td>3.0</td>\n",
       "      <td>5</td>\n",
       "      <td>NaN</td>\n",
       "      <td>NaN</td>\n",
       "    </tr>\n",
       "    <tr>\n",
       "      <th>1</th>\n",
       "      <td>2.0</td>\n",
       "      <td>3</td>\n",
       "      <td>NaN</td>\n",
       "      <td>NaN</td>\n",
       "    </tr>\n",
       "    <tr>\n",
       "      <th>2</th>\n",
       "      <td>3.0</td>\n",
       "      <td>3</td>\n",
       "      <td>NaN</td>\n",
       "      <td>NaN</td>\n",
       "    </tr>\n",
       "    <tr>\n",
       "      <th>3</th>\n",
       "      <td>NaN</td>\n",
       "      <td>3</td>\n",
       "      <td>3.0</td>\n",
       "      <td>6.0</td>\n",
       "    </tr>\n",
       "    <tr>\n",
       "      <th>4</th>\n",
       "      <td>NaN</td>\n",
       "      <td>3</td>\n",
       "      <td>4.0</td>\n",
       "      <td>6.0</td>\n",
       "    </tr>\n",
       "    <tr>\n",
       "      <th>5</th>\n",
       "      <td>NaN</td>\n",
       "      <td>5</td>\n",
       "      <td>4.0</td>\n",
       "      <td>7.0</td>\n",
       "    </tr>\n",
       "  </tbody>\n",
       "</table>\n",
       "</div>"
      ],
      "text/plain": [
       "    y1  y2   y3   y4\n",
       "0  3.0   5  NaN  NaN\n",
       "1  2.0   3  NaN  NaN\n",
       "2  3.0   3  NaN  NaN\n",
       "3  NaN   3  3.0  6.0\n",
       "4  NaN   3  4.0  6.0\n",
       "5  NaN   5  4.0  7.0"
      ]
     },
     "execution_count": 185,
     "metadata": {},
     "output_type": "execute_result"
    }
   ],
   "source": [
    "print('concatの場合')\n",
    "pd.concat([d.iloc[:3, :2], d.iloc[1:,1:]], ignore_index = True)"
   ]
  },
  {
   "cell_type": "code",
   "execution_count": 192,
   "metadata": {},
   "outputs": [
    {
     "name": "stdout",
     "output_type": "stream",
     "text": [
      "mergeの場合\n",
      "２つの行列は[]で囲まなくても良い\n",
      "on=y2でy2をキーにして、連結する；３が重複しているため、複製される\n"
     ]
    },
    {
     "data": {
      "text/html": [
       "<div>\n",
       "<style scoped>\n",
       "    .dataframe tbody tr th:only-of-type {\n",
       "        vertical-align: middle;\n",
       "    }\n",
       "\n",
       "    .dataframe tbody tr th {\n",
       "        vertical-align: top;\n",
       "    }\n",
       "\n",
       "    .dataframe thead th {\n",
       "        text-align: right;\n",
       "    }\n",
       "</style>\n",
       "<table border=\"1\" class=\"dataframe\">\n",
       "  <thead>\n",
       "    <tr style=\"text-align: right;\">\n",
       "      <th></th>\n",
       "      <th>y1</th>\n",
       "      <th>y2</th>\n",
       "      <th>y3</th>\n",
       "      <th>y4</th>\n",
       "    </tr>\n",
       "  </thead>\n",
       "  <tbody>\n",
       "    <tr>\n",
       "      <th>0</th>\n",
       "      <td>3</td>\n",
       "      <td>5</td>\n",
       "      <td>4</td>\n",
       "      <td>7</td>\n",
       "    </tr>\n",
       "    <tr>\n",
       "      <th>1</th>\n",
       "      <td>2</td>\n",
       "      <td>3</td>\n",
       "      <td>3</td>\n",
       "      <td>6</td>\n",
       "    </tr>\n",
       "    <tr>\n",
       "      <th>2</th>\n",
       "      <td>2</td>\n",
       "      <td>3</td>\n",
       "      <td>4</td>\n",
       "      <td>6</td>\n",
       "    </tr>\n",
       "    <tr>\n",
       "      <th>3</th>\n",
       "      <td>3</td>\n",
       "      <td>3</td>\n",
       "      <td>3</td>\n",
       "      <td>6</td>\n",
       "    </tr>\n",
       "    <tr>\n",
       "      <th>4</th>\n",
       "      <td>3</td>\n",
       "      <td>3</td>\n",
       "      <td>4</td>\n",
       "      <td>6</td>\n",
       "    </tr>\n",
       "  </tbody>\n",
       "</table>\n",
       "</div>"
      ],
      "text/plain": [
       "   y1  y2  y3  y4\n",
       "0   3   5   4   7\n",
       "1   2   3   3   6\n",
       "2   2   3   4   6\n",
       "3   3   3   3   6\n",
       "4   3   3   4   6"
      ]
     },
     "execution_count": 192,
     "metadata": {},
     "output_type": "execute_result"
    }
   ],
   "source": [
    "print('mergeの場合')\n",
    "print('２つの行列は[]で囲まなくても良い')\n",
    "print('on=''y2''でy2をキーにして、連結する；３が重複しているため、複製される')\n",
    "pd.merge(d.iloc[:3, :2], d.iloc[1:,1:], on = 'y2')"
   ]
  },
  {
   "cell_type": "code",
   "execution_count": 202,
   "metadata": {},
   "outputs": [
    {
     "name": "stdout",
     "output_type": "stream",
     "text": [
      "on=y3だとキーエラーになる\n"
     ]
    },
    {
     "data": {
      "text/html": [
       "<div>\n",
       "<style scoped>\n",
       "    .dataframe tbody tr th:only-of-type {\n",
       "        vertical-align: middle;\n",
       "    }\n",
       "\n",
       "    .dataframe tbody tr th {\n",
       "        vertical-align: top;\n",
       "    }\n",
       "\n",
       "    .dataframe thead th {\n",
       "        text-align: right;\n",
       "    }\n",
       "</style>\n",
       "<table border=\"1\" class=\"dataframe\">\n",
       "  <thead>\n",
       "    <tr style=\"text-align: right;\">\n",
       "      <th></th>\n",
       "      <th>y1</th>\n",
       "      <th>y2_x</th>\n",
       "      <th>y3</th>\n",
       "      <th>y2_y</th>\n",
       "      <th>y4</th>\n",
       "    </tr>\n",
       "  </thead>\n",
       "  <tbody>\n",
       "    <tr>\n",
       "      <th>0</th>\n",
       "      <td>3</td>\n",
       "      <td>5</td>\n",
       "      <td>4</td>\n",
       "      <td>3</td>\n",
       "      <td>6</td>\n",
       "    </tr>\n",
       "    <tr>\n",
       "      <th>1</th>\n",
       "      <td>3</td>\n",
       "      <td>5</td>\n",
       "      <td>4</td>\n",
       "      <td>5</td>\n",
       "      <td>7</td>\n",
       "    </tr>\n",
       "    <tr>\n",
       "      <th>2</th>\n",
       "      <td>3</td>\n",
       "      <td>3</td>\n",
       "      <td>4</td>\n",
       "      <td>3</td>\n",
       "      <td>6</td>\n",
       "    </tr>\n",
       "    <tr>\n",
       "      <th>3</th>\n",
       "      <td>3</td>\n",
       "      <td>3</td>\n",
       "      <td>4</td>\n",
       "      <td>5</td>\n",
       "      <td>7</td>\n",
       "    </tr>\n",
       "    <tr>\n",
       "      <th>4</th>\n",
       "      <td>2</td>\n",
       "      <td>3</td>\n",
       "      <td>3</td>\n",
       "      <td>3</td>\n",
       "      <td>6</td>\n",
       "    </tr>\n",
       "  </tbody>\n",
       "</table>\n",
       "</div>"
      ],
      "text/plain": [
       "   y1  y2_x  y3  y2_y  y4\n",
       "0   3     5   4     3   6\n",
       "1   3     5   4     5   7\n",
       "2   3     3   4     3   6\n",
       "3   3     3   4     5   7\n",
       "4   2     3   3     3   6"
      ]
     },
     "execution_count": 202,
     "metadata": {},
     "output_type": "execute_result"
    }
   ],
   "source": [
    "print('on=''y3''だとキーエラーになる')\n",
    "# pd.merge(d.iloc[:3, :2], d.iloc[1:,1:], on = 'y3')\n",
    "\n",
    "pd.merge(d.iloc[:3, :3], d.iloc[1:,1:], on = 'y3', how = 'outer')"
   ]
  },
  {
   "cell_type": "markdown",
   "metadata": {},
   "source": [
    "#### 追記： mergeの結合方法\n",
    "howで指定できる\n",
    "* inner : 内部結合。既定。両方含まれるキーのみ残す\n",
    "* left  : 左部結合。最初のデータのキーをすべて残す\n",
    "* right : 右部結合。２つ目のデータのキーをすべて残す\n",
    "* outer : 完全外部結合。すべてのキー残す"
   ]
  },
  {
   "cell_type": "markdown",
   "metadata": {},
   "source": [
    "## 欠損値処理"
   ]
  },
  {
   "cell_type": "code",
   "execution_count": 210,
   "metadata": {},
   "outputs": [
    {
     "data": {
      "text/html": [
       "<div>\n",
       "<style scoped>\n",
       "    .dataframe tbody tr th:only-of-type {\n",
       "        vertical-align: middle;\n",
       "    }\n",
       "\n",
       "    .dataframe tbody tr th {\n",
       "        vertical-align: top;\n",
       "    }\n",
       "\n",
       "    .dataframe thead th {\n",
       "        text-align: right;\n",
       "    }\n",
       "</style>\n",
       "<table border=\"1\" class=\"dataframe\">\n",
       "  <thead>\n",
       "    <tr style=\"text-align: right;\">\n",
       "      <th></th>\n",
       "      <th>y1</th>\n",
       "      <th>y2</th>\n",
       "      <th>y3</th>\n",
       "      <th>y4</th>\n",
       "    </tr>\n",
       "  </thead>\n",
       "  <tbody>\n",
       "    <tr>\n",
       "      <th>x1</th>\n",
       "      <td>3.0</td>\n",
       "      <td>5</td>\n",
       "      <td>4</td>\n",
       "      <td>6</td>\n",
       "    </tr>\n",
       "    <tr>\n",
       "      <th>x2</th>\n",
       "      <td>2.0</td>\n",
       "      <td>3</td>\n",
       "      <td>3</td>\n",
       "      <td>6</td>\n",
       "    </tr>\n",
       "    <tr>\n",
       "      <th>x3</th>\n",
       "      <td>3.0</td>\n",
       "      <td>3</td>\n",
       "      <td>4</td>\n",
       "      <td>6</td>\n",
       "    </tr>\n",
       "    <tr>\n",
       "      <th>x4</th>\n",
       "      <td>NaN</td>\n",
       "      <td>5</td>\n",
       "      <td>4</td>\n",
       "      <td>7</td>\n",
       "    </tr>\n",
       "  </tbody>\n",
       "</table>\n",
       "</div>"
      ],
      "text/plain": [
       "     y1  y2  y3  y4\n",
       "x1  3.0   5   4   6\n",
       "x2  2.0   3   3   6\n",
       "x3  3.0   3   4   6\n",
       "x4  NaN   5   4   7"
      ]
     },
     "execution_count": 210,
     "metadata": {},
     "output_type": "execute_result"
    }
   ],
   "source": [
    "#数値１をNaN非数値に変更せよ\n",
    "d[d==1] = np.nan\n",
    "d"
   ]
  },
  {
   "cell_type": "code",
   "execution_count": 214,
   "metadata": {},
   "outputs": [
    {
     "data": {
      "text/plain": [
       "y1    1\n",
       "y2    0\n",
       "y3    0\n",
       "y4    0\n",
       "dtype: int64"
      ]
     },
     "execution_count": 214,
     "metadata": {},
     "output_type": "execute_result"
    }
   ],
   "source": [
    "d.shape[0]\n",
    "d.shape[0] - d.count() #列ごとの欠損値をカウント"
   ]
  },
  {
   "cell_type": "code",
   "execution_count": 216,
   "metadata": {},
   "outputs": [
    {
     "data": {
      "text/plain": [
       "x1    0\n",
       "x2    0\n",
       "x3    0\n",
       "x4    1\n",
       "dtype: int64"
      ]
     },
     "execution_count": 216,
     "metadata": {},
     "output_type": "execute_result"
    }
   ],
   "source": [
    "d.shape[0]\n",
    "d.shape[0] - d.count(axis = 1) #行ごとの欠損値をカウント"
   ]
  },
  {
   "cell_type": "code",
   "execution_count": 221,
   "metadata": {},
   "outputs": [
    {
     "data": {
      "text/plain": [
       "(       y1     y2     y3     y4\n",
       " x1  False  False  False  False\n",
       " x2  False  False  False  False\n",
       " x3  False  False  False  False\n",
       " x4   True  False  False  False,\n",
       " <bound method DataFrame.isnull of      y1  y2  y3  y4\n",
       " x1  3.0   5   4   6\n",
       " x2  2.0   3   3   6\n",
       " x3  3.0   3   4   6\n",
       " x4  NaN   5   4   7>)"
      ]
     },
     "execution_count": 221,
     "metadata": {},
     "output_type": "execute_result"
    }
   ],
   "source": [
    "e_ = d.isnull\n",
    "e = d.isnull()\n",
    "e, e_"
   ]
  },
  {
   "cell_type": "code",
   "execution_count": 225,
   "metadata": {},
   "outputs": [
    {
     "data": {
      "text/plain": [
       "(y1    1\n",
       " y2    0\n",
       " y3    0\n",
       " y4    0\n",
       " dtype: int64,\n",
       " x1    0\n",
       " x2    0\n",
       " x3    0\n",
       " x4    1\n",
       " dtype: int64)"
      ]
     },
     "execution_count": 225,
     "metadata": {},
     "output_type": "execute_result"
    }
   ],
   "source": [
    "e.sum(), e.sum(axis = 1)"
   ]
  },
  {
   "cell_type": "code",
   "execution_count": 233,
   "metadata": {},
   "outputs": [
    {
     "name": "stdout",
     "output_type": "stream",
     "text": [
      "1. num でダミを用意\n",
      "2. groupbyで集計\n",
      "3. tolistで型変換　Index →　List\n"
     ]
    },
    {
     "data": {
      "text/html": [
       "<div>\n",
       "<style scoped>\n",
       "    .dataframe tbody tr th:only-of-type {\n",
       "        vertical-align: middle;\n",
       "    }\n",
       "\n",
       "    .dataframe tbody tr th {\n",
       "        vertical-align: top;\n",
       "    }\n",
       "\n",
       "    .dataframe thead th {\n",
       "        text-align: right;\n",
       "    }\n",
       "</style>\n",
       "<table border=\"1\" class=\"dataframe\">\n",
       "  <thead>\n",
       "    <tr style=\"text-align: right;\">\n",
       "      <th></th>\n",
       "      <th></th>\n",
       "      <th></th>\n",
       "      <th></th>\n",
       "      <th>num</th>\n",
       "    </tr>\n",
       "    <tr>\n",
       "      <th>y1</th>\n",
       "      <th>y2</th>\n",
       "      <th>y3</th>\n",
       "      <th>y4</th>\n",
       "      <th></th>\n",
       "    </tr>\n",
       "  </thead>\n",
       "  <tbody>\n",
       "    <tr>\n",
       "      <th>False</th>\n",
       "      <th>False</th>\n",
       "      <th>False</th>\n",
       "      <th>False</th>\n",
       "      <td>3</td>\n",
       "    </tr>\n",
       "    <tr>\n",
       "      <th>True</th>\n",
       "      <th>False</th>\n",
       "      <th>False</th>\n",
       "      <th>False</th>\n",
       "      <td>1</td>\n",
       "    </tr>\n",
       "  </tbody>\n",
       "</table>\n",
       "</div>"
      ],
      "text/plain": [
       "                         num\n",
       "y1    y2    y3    y4        \n",
       "False False False False    3\n",
       "True  False False False    1"
      ]
     },
     "execution_count": 233,
     "metadata": {},
     "output_type": "execute_result"
    }
   ],
   "source": [
    "e['num'] = 1  #要素が１のダミーを用意する\n",
    "e.groupby(d.columns.tolist()).sum() #groupbyで集計\n"
   ]
  },
  {
   "cell_type": "code",
   "execution_count": 252,
   "metadata": {},
   "outputs": [
    {
     "name": "stdout",
     "output_type": "stream",
     "text": [
      "1. num でダミを用意\n"
     ]
    },
    {
     "data": {
      "text/html": [
       "<div>\n",
       "<style scoped>\n",
       "    .dataframe tbody tr th:only-of-type {\n",
       "        vertical-align: middle;\n",
       "    }\n",
       "\n",
       "    .dataframe tbody tr th {\n",
       "        vertical-align: top;\n",
       "    }\n",
       "\n",
       "    .dataframe thead th {\n",
       "        text-align: right;\n",
       "    }\n",
       "</style>\n",
       "<table border=\"1\" class=\"dataframe\">\n",
       "  <thead>\n",
       "    <tr style=\"text-align: right;\">\n",
       "      <th></th>\n",
       "      <th>y1</th>\n",
       "      <th>y2</th>\n",
       "      <th>y3</th>\n",
       "      <th>y4</th>\n",
       "      <th>num</th>\n",
       "    </tr>\n",
       "  </thead>\n",
       "  <tbody>\n",
       "    <tr>\n",
       "      <th>x1</th>\n",
       "      <td>False</td>\n",
       "      <td>False</td>\n",
       "      <td>False</td>\n",
       "      <td>False</td>\n",
       "      <td>1</td>\n",
       "    </tr>\n",
       "    <tr>\n",
       "      <th>x2</th>\n",
       "      <td>False</td>\n",
       "      <td>False</td>\n",
       "      <td>False</td>\n",
       "      <td>False</td>\n",
       "      <td>1</td>\n",
       "    </tr>\n",
       "    <tr>\n",
       "      <th>x3</th>\n",
       "      <td>False</td>\n",
       "      <td>False</td>\n",
       "      <td>False</td>\n",
       "      <td>False</td>\n",
       "      <td>1</td>\n",
       "    </tr>\n",
       "    <tr>\n",
       "      <th>x4</th>\n",
       "      <td>True</td>\n",
       "      <td>False</td>\n",
       "      <td>False</td>\n",
       "      <td>False</td>\n",
       "      <td>1</td>\n",
       "    </tr>\n",
       "  </tbody>\n",
       "</table>\n",
       "</div>"
      ],
      "text/plain": [
       "       y1     y2     y3     y4  num\n",
       "x1  False  False  False  False    1\n",
       "x2  False  False  False  False    1\n",
       "x3  False  False  False  False    1\n",
       "x4   True  False  False  False    1"
      ]
     },
     "execution_count": 252,
     "metadata": {},
     "output_type": "execute_result"
    }
   ],
   "source": [
    "print('1. num でダミを用意')\n",
    "e['num'] = 1 \n",
    "e"
   ]
  },
  {
   "cell_type": "code",
   "execution_count": 253,
   "metadata": {},
   "outputs": [
    {
     "name": "stdout",
     "output_type": "stream",
     "text": [
      "2. groupbyで集計\n",
      "3. tolistで型変換　Index →　List\n",
      "['y1', 'y2', 'y3', 'y4']\n",
      "<pandas.core.groupby.generic.DataFrameGroupBy object at 0x7fea2859d550>\n",
      "                         num\n",
      "y1    y2    y3    y4        \n",
      "False False False False    3\n",
      "True  False False False    1\n",
      "<class 'pandas.core.frame.DataFrame'>\n",
      "*****\n",
      "y1     y2     y3     y4   \n",
      "False  False  False  False    3\n",
      "True   False  False  False    1\n",
      "Name: num, dtype: int64\n"
     ]
    }
   ],
   "source": [
    "print('2. groupbyで集計')\n",
    "print('3. tolistで型変換　Index →　List')\n",
    "d.columns\n",
    "l_tmp = d.columns.tolist()\n",
    "print(l_tmp)\n",
    "g_tmp = e.groupby(l_tmp)\n",
    "print(g_tmp)\n",
    "s_tmp = g_tmp.sum()\n",
    "print(s_tmp)\n",
    "print(type(s_tmp))\n",
    "print('*****')\n",
    "print(s_tmp.num)"
   ]
  },
  {
   "cell_type": "markdown",
   "metadata": {},
   "source": [
    "## 欠損値の処理方法\n",
    "* dropna: 欠損値の含まれる**行**を**削除**する。axis=1で指定すると、欠損値が含まれる列を削除\n",
    "* fillna: 欠損値を**埋める**。\n",
    "\n",
    "**どちらも新たにオブジェクトを作成される。元のDFを書き換える場合：　inplace=True**"
   ]
  },
  {
   "cell_type": "code",
   "execution_count": 258,
   "metadata": {},
   "outputs": [
    {
     "name": "stdout",
     "output_type": "stream",
     "text": [
      "欠損値のあるデータもう一度確認しよう\n",
      "     y1  y2  y3  y4\n",
      "x1  3.0   5   4   6\n",
      "x2  2.0   3   3   6\n",
      "x3  3.0   3   4   6\n",
      "x4  NaN   5   4   7\n",
      "欠損値の行削除\n",
      "     y1  y2  y3  y4\n",
      "x1  3.0   5   4   6\n",
      "x2  2.0   3   3   6\n",
      "x3  3.0   3   4   6\n",
      "欠損値の列削除\n",
      "    y2  y3  y4\n",
      "x1   5   4   6\n",
      "x2   3   3   6\n",
      "x3   3   4   6\n",
      "x4   5   4   7\n",
      "欠損値の穴埋め: 0代入\n",
      "     y1  y2  y3  y4\n",
      "x1  3.0   5   4   6\n",
      "x2  2.0   3   3   6\n",
      "x3  3.0   3   4   6\n",
      "x4  0.0   5   4   7\n",
      "欠損値の穴埋め: 平均値代入(列の平均？)\n",
      "          y1  y2  y3  y4\n",
      "x1  3.000000   5   4   6\n",
      "x2  2.000000   3   3   6\n",
      "x3  3.000000   3   4   6\n",
      "x4  2.666667   5   4   7\n"
     ]
    }
   ],
   "source": [
    "print('欠損値のあるデータもう一度確認しよう')\n",
    "print(d)\n",
    "\n",
    "print('欠損値の行削除')\n",
    "print(d.dropna())\n",
    "\n",
    "print('欠損値の列削除')\n",
    "print(d.dropna(axis=1))\n",
    "\n",
    "print('欠損値の穴埋め: 0代入')\n",
    "print(d.fillna(0))\n",
    "\n",
    "print('欠損値の穴埋め: 平均値代入(列の平均？)')\n",
    "print(d.fillna(d.mean()))"
   ]
  },
  {
   "cell_type": "markdown",
   "metadata": {},
   "source": [
    "## その他の機能"
   ]
  },
  {
   "cell_type": "markdown",
   "metadata": {},
   "source": [
    "#### unique"
   ]
  },
  {
   "cell_type": "code",
   "execution_count": 261,
   "metadata": {},
   "outputs": [
    {
     "name": "stdout",
     "output_type": "stream",
     "text": [
      "x1    5\n",
      "x2    3\n",
      "x3    3\n",
      "x4    5\n",
      "Name: y2, dtype: int64\n",
      "[5 3]\n"
     ]
    }
   ],
   "source": [
    "print(d.y2)\n",
    "print(d.y2.unique())"
   ]
  },
  {
   "cell_type": "markdown",
   "metadata": {},
   "source": [
    "#### value_counts：回数カウント　"
   ]
  },
  {
   "cell_type": "code",
   "execution_count": 264,
   "metadata": {},
   "outputs": [
    {
     "data": {
      "text/plain": [
       "3    2\n",
       "5    2\n",
       "Name: y2, dtype: int64"
      ]
     },
     "execution_count": 264,
     "metadata": {},
     "output_type": "execute_result"
    }
   ],
   "source": [
    "d.y2.value_counts() # 3-2times, 5-2 times"
   ]
  },
  {
   "cell_type": "markdown",
   "metadata": {},
   "source": [
    "#### sort_values：ソート"
   ]
  },
  {
   "cell_type": "code",
   "execution_count": 266,
   "metadata": {},
   "outputs": [
    {
     "name": "stdout",
     "output_type": "stream",
     "text": [
      "x1    5\n",
      "x2    3\n",
      "x3    3\n",
      "x4    5\n",
      "Name: y2, dtype: int64\n",
      "x2    3\n",
      "x3    3\n",
      "x1    5\n",
      "x4    5\n",
      "Name: y2, dtype: int64\n"
     ]
    }
   ],
   "source": [
    "print(d.y2)\n",
    "print(d.y2.sort_values())"
   ]
  },
  {
   "cell_type": "code",
   "execution_count": 270,
   "metadata": {},
   "outputs": [
    {
     "name": "stdout",
     "output_type": "stream",
     "text": [
      "     y1  y2  y3  y4\n",
      "x2  2.0   3   3   6\n",
      "x1  3.0   5   4   6\n",
      "x3  3.0   3   4   6\n",
      "x4  NaN   5   4   7\n"
     ]
    }
   ],
   "source": [
    "print(d.sort_values('y1'))"
   ]
  },
  {
   "cell_type": "code",
   "execution_count": 275,
   "metadata": {},
   "outputs": [
    {
     "name": "stdout",
     "output_type": "stream",
     "text": [
      "     y1  y2  y3  y4\n",
      "x2  2.0   3   3   6\n",
      "x3  3.0   3   4   6\n",
      "x1  3.0   5   4   6\n",
      "x4  NaN   5   4   7\n"
     ]
    }
   ],
   "source": [
    "print(d.sort_values(['y1','y2']))"
   ]
  },
  {
   "cell_type": "markdown",
   "metadata": {},
   "source": [
    "#### sort_index：インデックスソート"
   ]
  },
  {
   "cell_type": "code",
   "execution_count": 278,
   "metadata": {},
   "outputs": [
    {
     "data": {
      "text/html": [
       "<div>\n",
       "<style scoped>\n",
       "    .dataframe tbody tr th:only-of-type {\n",
       "        vertical-align: middle;\n",
       "    }\n",
       "\n",
       "    .dataframe tbody tr th {\n",
       "        vertical-align: top;\n",
       "    }\n",
       "\n",
       "    .dataframe thead th {\n",
       "        text-align: right;\n",
       "    }\n",
       "</style>\n",
       "<table border=\"1\" class=\"dataframe\">\n",
       "  <thead>\n",
       "    <tr style=\"text-align: right;\">\n",
       "      <th></th>\n",
       "      <th>y1</th>\n",
       "      <th>y2</th>\n",
       "      <th>y3</th>\n",
       "      <th>y4</th>\n",
       "    </tr>\n",
       "  </thead>\n",
       "  <tbody>\n",
       "    <tr>\n",
       "      <th>x1</th>\n",
       "      <td>3.0</td>\n",
       "      <td>5</td>\n",
       "      <td>4</td>\n",
       "      <td>6</td>\n",
       "    </tr>\n",
       "    <tr>\n",
       "      <th>x2</th>\n",
       "      <td>2.0</td>\n",
       "      <td>3</td>\n",
       "      <td>3</td>\n",
       "      <td>6</td>\n",
       "    </tr>\n",
       "    <tr>\n",
       "      <th>x3</th>\n",
       "      <td>3.0</td>\n",
       "      <td>3</td>\n",
       "      <td>4</td>\n",
       "      <td>6</td>\n",
       "    </tr>\n",
       "    <tr>\n",
       "      <th>x4</th>\n",
       "      <td>NaN</td>\n",
       "      <td>5</td>\n",
       "      <td>4</td>\n",
       "      <td>7</td>\n",
       "    </tr>\n",
       "  </tbody>\n",
       "</table>\n",
       "</div>"
      ],
      "text/plain": [
       "     y1  y2  y3  y4\n",
       "x1  3.0   5   4   6\n",
       "x2  2.0   3   3   6\n",
       "x3  3.0   3   4   6\n",
       "x4  NaN   5   4   7"
      ]
     },
     "execution_count": 278,
     "metadata": {},
     "output_type": "execute_result"
    }
   ],
   "source": [
    "d.sort_index()"
   ]
  },
  {
   "cell_type": "markdown",
   "metadata": {},
   "source": [
    "#### 順序リストでソート\n",
    "pd.Categoricalを使うことができる。第2引数に順序リストを指定して、Seriesを作り直して、sort_valuesを呼ぶ"
   ]
  },
  {
   "cell_type": "code",
   "execution_count": 282,
   "metadata": {},
   "outputs": [
    {
     "data": {
      "text/html": [
       "<div>\n",
       "<style scoped>\n",
       "    .dataframe tbody tr th:only-of-type {\n",
       "        vertical-align: middle;\n",
       "    }\n",
       "\n",
       "    .dataframe tbody tr th {\n",
       "        vertical-align: top;\n",
       "    }\n",
       "\n",
       "    .dataframe thead th {\n",
       "        text-align: right;\n",
       "    }\n",
       "</style>\n",
       "<table border=\"1\" class=\"dataframe\">\n",
       "  <thead>\n",
       "    <tr style=\"text-align: right;\">\n",
       "      <th></th>\n",
       "      <th>week</th>\n",
       "    </tr>\n",
       "  </thead>\n",
       "  <tbody>\n",
       "    <tr>\n",
       "      <th>2</th>\n",
       "      <td>Fri</td>\n",
       "    </tr>\n",
       "    <tr>\n",
       "      <th>1</th>\n",
       "      <td>Mon</td>\n",
       "    </tr>\n",
       "    <tr>\n",
       "      <th>3</th>\n",
       "      <td>Sun</td>\n",
       "    </tr>\n",
       "    <tr>\n",
       "      <th>0</th>\n",
       "      <td>Thu</td>\n",
       "    </tr>\n",
       "  </tbody>\n",
       "</table>\n",
       "</div>"
      ],
      "text/plain": [
       "  week\n",
       "2  Fri\n",
       "1  Mon\n",
       "3  Sun\n",
       "0  Thu"
      ]
     },
     "execution_count": 282,
     "metadata": {},
     "output_type": "execute_result"
    }
   ],
   "source": [
    "e = pd.DataFrame({'week': ['Thu', 'Mon', 'Fri', 'Sun']}) #本では、'week'；　正しくは　'week':\n",
    "e.sort_values('week')"
   ]
  },
  {
   "cell_type": "code",
   "execution_count": 284,
   "metadata": {},
   "outputs": [
    {
     "data": {
      "text/html": [
       "<div>\n",
       "<style scoped>\n",
       "    .dataframe tbody tr th:only-of-type {\n",
       "        vertical-align: middle;\n",
       "    }\n",
       "\n",
       "    .dataframe tbody tr th {\n",
       "        vertical-align: top;\n",
       "    }\n",
       "\n",
       "    .dataframe thead th {\n",
       "        text-align: right;\n",
       "    }\n",
       "</style>\n",
       "<table border=\"1\" class=\"dataframe\">\n",
       "  <thead>\n",
       "    <tr style=\"text-align: right;\">\n",
       "      <th></th>\n",
       "      <th>week</th>\n",
       "    </tr>\n",
       "  </thead>\n",
       "  <tbody>\n",
       "    <tr>\n",
       "      <th>3</th>\n",
       "      <td>Sun</td>\n",
       "    </tr>\n",
       "    <tr>\n",
       "      <th>1</th>\n",
       "      <td>Mon</td>\n",
       "    </tr>\n",
       "    <tr>\n",
       "      <th>0</th>\n",
       "      <td>Thu</td>\n",
       "    </tr>\n",
       "    <tr>\n",
       "      <th>2</th>\n",
       "      <td>Fri</td>\n",
       "    </tr>\n",
       "  </tbody>\n",
       "</table>\n",
       "</div>"
      ],
      "text/plain": [
       "  week\n",
       "3  Sun\n",
       "1  Mon\n",
       "0  Thu\n",
       "2  Fri"
      ]
     },
     "execution_count": 284,
     "metadata": {},
     "output_type": "execute_result"
    }
   ],
   "source": [
    "e.week = pd.Categorical(e.week, ['Sun', 'Mon', 'Tue', 'Wed', 'Thu', 'Fri', 'Sat']) # e.week のための専用順序リスト\n",
    "e.sort_values('week')"
   ]
  },
  {
   "cell_type": "markdown",
   "metadata": {},
   "source": [
    "#### drop_duplicates - 重複を削除"
   ]
  },
  {
   "cell_type": "code",
   "execution_count": 290,
   "metadata": {},
   "outputs": [
    {
     "name": "stdout",
     "output_type": "stream",
     "text": [
      "     y1  y2  y3  y4\n",
      "x1  3.0   5   4   6\n",
      "x2  2.0   3   3   6\n",
      "x3  3.0   3   4   6\n",
      "x4  NaN   5   4   7\n",
      "     y1  y2  y3  y4\n",
      "x1  3.0   5   4   6\n",
      "x2  2.0   3   3   6\n"
     ]
    }
   ],
   "source": [
    "print(d)\n",
    "\n",
    "print(d.drop_duplicates(subset = 'y2')) #y2の値について、x1とx4が同じ、x4が削除された。x2とx3が同じで、x3が削除された。"
   ]
  },
  {
   "cell_type": "markdown",
   "metadata": {},
   "source": [
    "#### 重複があった場合、残るのは：\n",
    " * default: 最初の要素。上記の例を参照\n",
    " * keep = 'last' で最後の要素をキープすることも可能\n",
    " * inplace = True で元データを上書きすることは可能"
   ]
  },
  {
   "cell_type": "code",
   "execution_count": 294,
   "metadata": {},
   "outputs": [
    {
     "name": "stdout",
     "output_type": "stream",
     "text": [
      "     y1  y2  y3  y4\n",
      "x3  3.0   3   4   6\n",
      "x4  NaN   5   4   7\n",
      "None\n",
      "     y1  y2  y3  y4\n",
      "x3  3.0   3   4   6\n",
      "x4  NaN   5   4   7\n"
     ]
    }
   ],
   "source": [
    "print(d.drop_duplicates(subset = 'y2', keep = 'last')) \n",
    "\n",
    "d2=d\n",
    "print(d2.drop_duplicates(subset = 'y2', keep = 'last', inplace = True)) \n",
    "print(d2)"
   ]
  },
  {
   "cell_type": "markdown",
   "metadata": {},
   "source": [
    "## 型変換"
   ]
  },
  {
   "cell_type": "markdown",
   "metadata": {},
   "source": [
    "* **型確認：　dtypes for DataFrame; dtype for Series data**\n",
    "* **型変換：　apply(**type**)　や　astype(**type**)で**"
   ]
  },
  {
   "cell_type": "code",
   "execution_count": 302,
   "metadata": {},
   "outputs": [
    {
     "name": "stdout",
     "output_type": "stream",
     "text": [
      "int64\n",
      "float64\n",
      "int64\n",
      "質問：float32などビット指示はどうする？？？\n"
     ]
    }
   ],
   "source": [
    "print(d.y3.dtype)\n",
    "print(d.y3.apply(float).dtype)\n",
    "print(d.y3.astype(int).dtype)\n",
    "\n",
    "print('質問：float32などビット指示はどうする？？？')"
   ]
  },
  {
   "cell_type": "markdown",
   "metadata": {},
   "source": [
    "* **to_datetime で文字列から時刻に**\n",
    "* **to_numeric で文字列から数字に**"
   ]
  },
  {
   "cell_type": "code",
   "execution_count": 316,
   "metadata": {},
   "outputs": [
    {
     "name": "stdout",
     "output_type": "stream",
     "text": [
      "0    2020/1/1\n",
      "dtype: object\n",
      "0   2020-01-01\n",
      "dtype: datetime64[ns]\n",
      "0    2020.1\n",
      "dtype: float64\n"
     ]
    }
   ],
   "source": [
    "print(pd.Series(['2020/1/1']))\n",
    "print(pd.to_datetime(pd.Series(['2020/1/1'])))\n",
    "print(pd.to_numeric(pd.Series(['2020.1'])))"
   ]
  },
  {
   "cell_type": "markdown",
   "metadata": {},
   "source": [
    "#### pipe\n",
    "\n",
    "関数f(x, ...)のxがPandasデータの場合、x.pipe(f,...)と書き換えて、処理を一行に繋げられる"
   ]
  },
  {
   "cell_type": "code",
   "execution_count": 320,
   "metadata": {},
   "outputs": [
    {
     "name": "stdout",
     "output_type": "stream",
     "text": [
      "0    2020\n",
      "dtype: int64\n",
      "0    2020\n",
      "dtype: int64\n"
     ]
    }
   ],
   "source": [
    "print(pd.to_numeric(pd.Series(['2020'])))\n",
    "\n",
    "print(pd.Series(['2020']).pipe(pd.to_numeric))"
   ]
  }
 ],
 "metadata": {
  "kernelspec": {
   "display_name": "Python 3",
   "language": "python",
   "name": "python3"
  },
  "language_info": {
   "codemirror_mode": {
    "name": "ipython",
    "version": 3
   },
   "file_extension": ".py",
   "mimetype": "text/x-python",
   "name": "python",
   "nbconvert_exporter": "python",
   "pygments_lexer": "ipython3",
   "version": "3.7.7"
  }
 },
 "nbformat": 4,
 "nbformat_minor": 4
}
