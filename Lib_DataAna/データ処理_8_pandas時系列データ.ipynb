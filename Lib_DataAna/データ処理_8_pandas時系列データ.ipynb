{
 "cells": [
  {
   "cell_type": "code",
   "execution_count": 3,
   "metadata": {},
   "outputs": [],
   "source": [
    "import pandas as pd\n",
    "import numpy as np"
   ]
  },
  {
   "cell_type": "markdown",
   "metadata": {},
   "source": [
    "#### pandasで時系列データを扱う際に、Indexは時刻型(datetime)型にする"
   ]
  },
  {
   "cell_type": "markdown",
   "metadata": {},
   "source": [
    "#### 1. 時刻を計算して設定する場合。date_range　で時刻を設定する\n",
    "* start / end / periods の中で2つを指定する\n",
    "* freq で時間の刻み幅を指定（D -日、　minー分）\n"
   ]
  },
  {
   "cell_type": "code",
   "execution_count": 32,
   "metadata": {},
   "outputs": [
    {
     "data": {
      "text/html": [
       "<div>\n",
       "<style scoped>\n",
       "    .dataframe tbody tr th:only-of-type {\n",
       "        vertical-align: middle;\n",
       "    }\n",
       "\n",
       "    .dataframe tbody tr th {\n",
       "        vertical-align: top;\n",
       "    }\n",
       "\n",
       "    .dataframe thead th {\n",
       "        text-align: right;\n",
       "    }\n",
       "</style>\n",
       "<table border=\"1\" class=\"dataframe\">\n",
       "  <thead>\n",
       "    <tr style=\"text-align: right;\">\n",
       "      <th></th>\n",
       "      <th>0</th>\n",
       "    </tr>\n",
       "  </thead>\n",
       "  <tbody>\n",
       "    <tr>\n",
       "      <th>2016-01-02 00:00:00</th>\n",
       "      <td>0</td>\n",
       "    </tr>\n",
       "    <tr>\n",
       "      <th>2016-01-02 01:00:00</th>\n",
       "      <td>1</td>\n",
       "    </tr>\n",
       "    <tr>\n",
       "      <th>2016-01-02 02:00:00</th>\n",
       "      <td>2</td>\n",
       "    </tr>\n",
       "    <tr>\n",
       "      <th>2016-01-02 03:00:00</th>\n",
       "      <td>3</td>\n",
       "    </tr>\n",
       "    <tr>\n",
       "      <th>2016-01-02 04:00:00</th>\n",
       "      <td>4</td>\n",
       "    </tr>\n",
       "    <tr>\n",
       "      <th>...</th>\n",
       "      <td>...</td>\n",
       "    </tr>\n",
       "    <tr>\n",
       "      <th>2016-01-04 19:00:00</th>\n",
       "      <td>67</td>\n",
       "    </tr>\n",
       "    <tr>\n",
       "      <th>2016-01-04 20:00:00</th>\n",
       "      <td>68</td>\n",
       "    </tr>\n",
       "    <tr>\n",
       "      <th>2016-01-04 21:00:00</th>\n",
       "      <td>69</td>\n",
       "    </tr>\n",
       "    <tr>\n",
       "      <th>2016-01-04 22:00:00</th>\n",
       "      <td>70</td>\n",
       "    </tr>\n",
       "    <tr>\n",
       "      <th>2016-01-04 23:00:00</th>\n",
       "      <td>71</td>\n",
       "    </tr>\n",
       "  </tbody>\n",
       "</table>\n",
       "<p>72 rows × 1 columns</p>\n",
       "</div>"
      ],
      "text/plain": [
       "                      0\n",
       "2016-01-02 00:00:00   0\n",
       "2016-01-02 01:00:00   1\n",
       "2016-01-02 02:00:00   2\n",
       "2016-01-02 03:00:00   3\n",
       "2016-01-02 04:00:00   4\n",
       "...                  ..\n",
       "2016-01-04 19:00:00  67\n",
       "2016-01-04 20:00:00  68\n",
       "2016-01-04 21:00:00  69\n",
       "2016-01-04 22:00:00  70\n",
       "2016-01-04 23:00:00  71\n",
       "\n",
       "[72 rows x 1 columns]"
      ]
     },
     "execution_count": 32,
     "metadata": {},
     "output_type": "execute_result"
    }
   ],
   "source": [
    "#d = pd.read_csv(ファイル名)\n",
    "\n",
    "d = pd.DataFrame(np.arange(72))\n",
    "d.index = pd.date_range(start = '2016/1/2', periods = len(d), freq = '60min')\n",
    "d"
   ]
  },
  {
   "cell_type": "markdown",
   "metadata": {},
   "source": [
    "#### 一つの列に日時が入っている場合\n",
    "時刻が入ってるcsvファイルを読み込み\n",
    "\n",
    "1. 指定列がIndexとなり、DFから削除される。　parse_dates を指定しないと、文字列になってしまう\n",
    "  *d = pd.read_csv(ファイル名, parse_dates = [列番号], index_col = 列番号)"
   ]
  },
  {
   "cell_type": "markdown",
   "metadata": {},
   "source": [
    "d = pd.read_csv(ファイル名, parse_dates = [列番号], index_col = 列番号)"
   ]
  },
  {
   "cell_type": "markdown",
   "metadata": {},
   "source": [
    "#### 一つの列に日時が入っている場合２\n",
    "時刻が入ってるDataFrameにindexを指定"
   ]
  },
  {
   "cell_type": "markdown",
   "metadata": {},
   "source": [
    "d = pd.read_csv(ファイル名)   \n",
    "d.index = pd.to_datetime(d.DATETIME) # 仮にDATETIMEという列に時刻が入ってて、それを時刻型に変更して、インデックスにする   \n",
    "d.drop('DATETIME', axis = 1, inplace = True) #元の列を削除する"
   ]
  },
  {
   "cell_type": "markdown",
   "metadata": {},
   "source": [
    "#### 一つの列に日時が入っていて、加工する場合"
   ]
  },
  {
   "cell_type": "markdown",
   "metadata": {},
   "source": [
    "d = pd.read_csv(ファイル名)  \n",
    "d.index = pd.to_datetime(d.DT.str[2:]) # 仮にDTという列に文字列が入ってて、先頭２文字を削除して日時変換すると、このようにコードを書く   \n",
    "d.drop('DT', axis = 1, inplace = True) #元の列を削除する"
   ]
  },
  {
   "cell_type": "markdown",
   "metadata": {},
   "source": [
    "#### 複数の列を使って指定する場合\n",
    "例えば、DATEという列に日付が、TIMEという列に時間が入っているならば、"
   ]
  },
  {
   "cell_type": "markdown",
   "metadata": {},
   "source": [
    "d = pd.read_csv(ファイル名)   \n",
    "d.index = pd.to_datetime(d.DATE + ' ' + d.TIME) "
   ]
  },
  {
   "cell_type": "markdown",
   "metadata": {},
   "source": [
    "または、CSVファイルを読み込むときに複数列を指定することもできる"
   ]
  },
  {
   "cell_type": "markdown",
   "metadata": {},
   "source": [
    "d = pd.read_csv(ファイル名,　parse_dates = [['DATE', 'TIME']], index_col = 'DATETIME')"
   ]
  },
  {
   "cell_type": "markdown",
   "metadata": {},
   "source": [
    "時系列データのIndexは時刻の型(Timestamp型)になっている。\n",
    "このデータをCSV保存して、parse_datesを指定せずに、もう一度読み込むと、文字列になってしまう\n",
    "\n",
    "pickle形式を用いれば、保存前と同じ型で読み込むことができる"
   ]
  },
  {
   "cell_type": "markdown",
   "metadata": {},
   "source": [
    "#### 時系列データのメソッド\n",
    "\n",
    "* asfreq 時間感覚を指定して取り出す、数値以外の列も有効\n",
    "* at_time 指定時間を取り出す\n",
    "* between_time 指定した範囲の時間を取り出す\n",
    "* tshift indexを次のindexで置き換える\n",
    "* resample 時間間隔を変更する、数値以外の列は削除される"
   ]
  },
  {
   "cell_type": "code",
   "execution_count": 58,
   "metadata": {},
   "outputs": [
    {
     "data": {
      "text/plain": [
       "pandas.core.frame.DataFrame"
      ]
     },
     "execution_count": 58,
     "metadata": {},
     "output_type": "execute_result"
    }
   ],
   "source": [
    "type(d)"
   ]
  },
  {
   "cell_type": "code",
   "execution_count": 74,
   "metadata": {},
   "outputs": [
    {
     "name": "stdout",
     "output_type": "stream",
     "text": [
      "例１：　１月２日の１２時台\n",
      "方法１\n",
      "                      0\n",
      "2016-01-04 00:00:00  48\n",
      "2016-01-04 01:00:00  49\n",
      "2016-01-04 02:00:00  50\n",
      "2016-01-04 03:00:00  51\n",
      "2016-01-04 04:00:00  52\n",
      "2016-01-04 05:00:00  53\n",
      "2016-01-04 06:00:00  54\n",
      "2016-01-04 07:00:00  55\n",
      "2016-01-04 08:00:00  56\n",
      "2016-01-04 09:00:00  57\n",
      "2016-01-04 10:00:00  58\n",
      "2016-01-04 11:00:00  59\n",
      "2016-01-04 12:00:00  60\n",
      "2016-01-04 13:00:00  61\n",
      "2016-01-04 14:00:00  62\n",
      "2016-01-04 15:00:00  63\n",
      "2016-01-04 16:00:00  64\n",
      "2016-01-04 17:00:00  65\n",
      "2016-01-04 18:00:00  66\n",
      "2016-01-04 19:00:00  67\n",
      "2016-01-04 20:00:00  68\n",
      "2016-01-04 21:00:00  69\n",
      "2016-01-04 22:00:00  70\n",
      "2016-01-04 23:00:00  71\n",
      "方法２\n",
      "                      0\n",
      "2016-01-02 12:00:00  12\n"
     ]
    }
   ],
   "source": [
    "print('例１：　１月２日の１２時台')\n",
    "\n",
    "print('方法１')\n",
    "#print(d['2016-1-2 12:00:00']) #KeyError: '2016-1-2 12:00:00'\n",
    "print(d['2016-01-04'])  #問題ありません\n",
    "#print(d['2016-01-04 12:00:00']) #KeyError\n",
    "#print(d.datetime(2016,1,4,12)) #KeyError\n",
    "print('方法２')\n",
    "print(d[(d.index.day == 2) & (d.index.hour == 12)])"
   ]
  },
  {
   "cell_type": "code",
   "execution_count": null,
   "metadata": {},
   "outputs": [],
   "source": []
  },
  {
   "cell_type": "code",
   "execution_count": 77,
   "metadata": {},
   "outputs": [
    {
     "name": "stdout",
     "output_type": "stream",
     "text": [
      "例２：１月2日から１月3日まで\n",
      "方法１\n",
      "                      0\n",
      "2016-01-02 23:00:00  23\n",
      "2016-01-03 00:00:00  24\n",
      "2016-01-03 01:00:00  25\n",
      "2016-01-03 02:00:00  26\n",
      "2016-01-03 03:00:00  27\n",
      "2016-01-03 04:00:00  28\n",
      "2016-01-03 05:00:00  29\n",
      "                      0\n",
      "2016-01-02 23:00:00  23\n",
      "2016-01-03 00:00:00  24\n",
      "2016-01-03 01:00:00  25\n",
      "2016-01-03 02:00:00  26\n",
      "2016-01-03 03:00:00  27\n",
      "2016-01-03 04:00:00  28\n",
      "2016-01-03 05:00:00  29\n",
      "方法２\n",
      "                      0\n",
      "2016-01-02 00:00:00   0\n",
      "2016-01-02 01:00:00   1\n",
      "2016-01-02 02:00:00   2\n",
      "2016-01-02 03:00:00   3\n",
      "2016-01-02 04:00:00   4\n",
      "2016-01-02 05:00:00   5\n",
      "2016-01-02 06:00:00   6\n",
      "2016-01-02 07:00:00   7\n",
      "2016-01-02 08:00:00   8\n",
      "2016-01-02 09:00:00   9\n",
      "2016-01-02 10:00:00  10\n",
      "2016-01-02 11:00:00  11\n",
      "2016-01-02 12:00:00  12\n",
      "2016-01-02 13:00:00  13\n",
      "2016-01-02 14:00:00  14\n",
      "2016-01-02 15:00:00  15\n",
      "2016-01-02 16:00:00  16\n",
      "2016-01-02 17:00:00  17\n",
      "2016-01-02 18:00:00  18\n",
      "2016-01-02 19:00:00  19\n",
      "2016-01-02 20:00:00  20\n",
      "2016-01-02 21:00:00  21\n",
      "2016-01-02 22:00:00  22\n",
      "2016-01-02 23:00:00  23\n",
      "2016-01-03 00:00:00  24\n",
      "2016-01-03 01:00:00  25\n",
      "2016-01-03 02:00:00  26\n",
      "2016-01-03 03:00:00  27\n",
      "2016-01-03 04:00:00  28\n",
      "2016-01-03 05:00:00  29\n",
      "2016-01-03 06:00:00  30\n",
      "2016-01-03 07:00:00  31\n",
      "2016-01-03 08:00:00  32\n",
      "2016-01-03 09:00:00  33\n",
      "2016-01-03 10:00:00  34\n",
      "2016-01-03 11:00:00  35\n",
      "2016-01-03 12:00:00  36\n",
      "2016-01-03 13:00:00  37\n",
      "2016-01-03 14:00:00  38\n",
      "2016-01-03 15:00:00  39\n",
      "2016-01-03 16:00:00  40\n",
      "2016-01-03 17:00:00  41\n",
      "2016-01-03 18:00:00  42\n",
      "2016-01-03 19:00:00  43\n",
      "2016-01-03 20:00:00  44\n",
      "2016-01-03 21:00:00  45\n",
      "2016-01-03 22:00:00  46\n",
      "2016-01-03 23:00:00  47\n"
     ]
    }
   ],
   "source": [
    "print('例２：１月2日から１月3日まで')\n",
    "\n",
    "print('方法１')\n",
    "print(d['2016/1/2 23':'2016.1.3 05'])\n",
    "\n",
    "#print(d['2016/1/2 23':'2016.1.3 5'])\n",
    "# DateParseError: Unknown datetime string format, unable to parse: 2016.1.3 5\n",
    "\n",
    "print(d['2016-1-2 23:00:00':'2016-1-3 5:00:00'])\n",
    "\n",
    "print('方法２')\n",
    "print(d[(d.index.day >= 2) & (d.index.day < 4)])"
   ]
  },
  {
   "cell_type": "code",
   "execution_count": 81,
   "metadata": {},
   "outputs": [
    {
     "name": "stdout",
     "output_type": "stream",
     "text": [
      "例３：任意の日の12:00\n",
      "方法１\n",
      "                      0\n",
      "2016-01-02 12:00:00  12\n",
      "2016-01-03 12:00:00  36\n",
      "2016-01-04 12:00:00  60\n",
      "方法２\n",
      "                      0\n",
      "2016-01-02 12:00:00  12\n",
      "2016-01-03 12:00:00  36\n",
      "2016-01-04 12:00:00  60\n"
     ]
    }
   ],
   "source": [
    "print('例３：任意の日の12:00')\n",
    "\n",
    "print('方法１')\n",
    "print(d.at_time('12:00'))\n",
    "#print(d.at_time['12:00']) #[]ではありません\n",
    "\n",
    "\n",
    "print('方法２')\n",
    "print(d[(d.index.hour == 12) & (d.index.minute ==0)])"
   ]
  },
  {
   "cell_type": "code",
   "execution_count": 83,
   "metadata": {},
   "outputs": [
    {
     "name": "stdout",
     "output_type": "stream",
     "text": [
      "例４：任意の日の10:00から11：59\n",
      "方法１\n",
      "                      0\n",
      "2016-01-02 10:00:00  10\n",
      "2016-01-02 11:00:00  11\n",
      "2016-01-03 10:00:00  34\n",
      "2016-01-03 11:00:00  35\n",
      "2016-01-04 10:00:00  58\n",
      "2016-01-04 11:00:00  59\n",
      "方法２\n",
      "                      0\n",
      "2016-01-02 10:00:00  10\n",
      "2016-01-02 11:00:00  11\n",
      "2016-01-03 10:00:00  34\n",
      "2016-01-03 11:00:00  35\n",
      "2016-01-04 10:00:00  58\n",
      "2016-01-04 11:00:00  59\n"
     ]
    }
   ],
   "source": [
    "print('例４：任意の日の10:00から11：59')\n",
    "\n",
    "print('方法１')\n",
    "print(d.between_time('10:00', '11:59'))\n",
    "\n",
    "print('方法２')\n",
    "print(d[(d.index.hour >= 10) & (d.index.hour < 12)])"
   ]
  },
  {
   "cell_type": "markdown",
   "metadata": {},
   "source": [
    "#### shift\n",
    "shiftを用いるとデータをずらすことができる\n",
    "tshiftを用いると時刻をずらすことができる\n"
   ]
  },
  {
   "cell_type": "code",
   "execution_count": 84,
   "metadata": {},
   "outputs": [
    {
     "name": "stdout",
     "output_type": "stream",
     "text": [
      "例：前の時刻との差分の値\n"
     ]
    },
    {
     "data": {
      "text/html": [
       "<div>\n",
       "<style scoped>\n",
       "    .dataframe tbody tr th:only-of-type {\n",
       "        vertical-align: middle;\n",
       "    }\n",
       "\n",
       "    .dataframe tbody tr th {\n",
       "        vertical-align: top;\n",
       "    }\n",
       "\n",
       "    .dataframe thead th {\n",
       "        text-align: right;\n",
       "    }\n",
       "</style>\n",
       "<table border=\"1\" class=\"dataframe\">\n",
       "  <thead>\n",
       "    <tr style=\"text-align: right;\">\n",
       "      <th></th>\n",
       "      <th>0</th>\n",
       "    </tr>\n",
       "  </thead>\n",
       "  <tbody>\n",
       "    <tr>\n",
       "      <th>2016-01-02 00:00:00</th>\n",
       "      <td>0.0</td>\n",
       "    </tr>\n",
       "    <tr>\n",
       "      <th>2016-01-02 01:00:00</th>\n",
       "      <td>1.0</td>\n",
       "    </tr>\n",
       "    <tr>\n",
       "      <th>2016-01-02 02:00:00</th>\n",
       "      <td>1.0</td>\n",
       "    </tr>\n",
       "    <tr>\n",
       "      <th>2016-01-02 03:00:00</th>\n",
       "      <td>1.0</td>\n",
       "    </tr>\n",
       "    <tr>\n",
       "      <th>2016-01-02 04:00:00</th>\n",
       "      <td>1.0</td>\n",
       "    </tr>\n",
       "    <tr>\n",
       "      <th>...</th>\n",
       "      <td>...</td>\n",
       "    </tr>\n",
       "    <tr>\n",
       "      <th>2016-01-04 20:00:00</th>\n",
       "      <td>1.0</td>\n",
       "    </tr>\n",
       "    <tr>\n",
       "      <th>2016-01-04 21:00:00</th>\n",
       "      <td>1.0</td>\n",
       "    </tr>\n",
       "    <tr>\n",
       "      <th>2016-01-04 22:00:00</th>\n",
       "      <td>1.0</td>\n",
       "    </tr>\n",
       "    <tr>\n",
       "      <th>2016-01-04 23:00:00</th>\n",
       "      <td>1.0</td>\n",
       "    </tr>\n",
       "    <tr>\n",
       "      <th>2016-01-05 00:00:00</th>\n",
       "      <td>0.0</td>\n",
       "    </tr>\n",
       "  </tbody>\n",
       "</table>\n",
       "<p>73 rows × 1 columns</p>\n",
       "</div>"
      ],
      "text/plain": [
       "                       0\n",
       "2016-01-02 00:00:00  0.0\n",
       "2016-01-02 01:00:00  1.0\n",
       "2016-01-02 02:00:00  1.0\n",
       "2016-01-02 03:00:00  1.0\n",
       "2016-01-02 04:00:00  1.0\n",
       "...                  ...\n",
       "2016-01-04 20:00:00  1.0\n",
       "2016-01-04 21:00:00  1.0\n",
       "2016-01-04 22:00:00  1.0\n",
       "2016-01-04 23:00:00  1.0\n",
       "2016-01-05 00:00:00  0.0\n",
       "\n",
       "[73 rows x 1 columns]"
      ]
     },
     "execution_count": 84,
     "metadata": {},
     "output_type": "execute_result"
    }
   ],
   "source": [
    "print('例：前の時刻との差分の値')\n",
    "\n",
    "(d-d.shift(1)).fillna(0)\n",
    "\n",
    "(d-d.tshift(1)).fillna(0) #時間幅が同じ場合"
   ]
  }
 ],
 "metadata": {
  "kernelspec": {
   "display_name": "Python 3",
   "language": "python",
   "name": "python3"
  },
  "language_info": {
   "codemirror_mode": {
    "name": "ipython",
    "version": 3
   },
   "file_extension": ".py",
   "mimetype": "text/x-python",
   "name": "python",
   "nbconvert_exporter": "python",
   "pygments_lexer": "ipython3",
   "version": "3.7.7"
  }
 },
 "nbformat": 4,
 "nbformat_minor": 4
}
