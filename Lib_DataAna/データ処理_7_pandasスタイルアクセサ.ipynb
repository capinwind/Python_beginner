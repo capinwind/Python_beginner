{
 "cells": [
  {
   "cell_type": "markdown",
   "metadata": {},
   "source": [
    "# アクセサ\n",
    "\n",
    "アクセサとは、オブジェクト指向プログラミング用語で、メンバ変数にアクセスできるように用意されたメソッドであり、メンバ変数のように利用できる。\n",
    "\n",
    "    文字列アクセサ\n",
    "    時刻アクセサ\n",
    "    スタイルアクセサ"
   ]
  },
  {
   "cell_type": "markdown",
   "metadata": {},
   "source": [
    "## 第3編 スタイルアクセサ style"
   ]
  },
  {
   "cell_type": "code",
   "execution_count": 6,
   "metadata": {},
   "outputs": [],
   "source": [
    "import pandas as pd\n",
    "import numpy as np\n",
    "from pandas import DataFrame as DF"
   ]
  },
  {
   "cell_type": "code",
   "execution_count": 10,
   "metadata": {},
   "outputs": [
    {
     "data": {
      "text/html": [
       "<div>\n",
       "<style scoped>\n",
       "    .dataframe tbody tr th:only-of-type {\n",
       "        vertical-align: middle;\n",
       "    }\n",
       "\n",
       "    .dataframe tbody tr th {\n",
       "        vertical-align: top;\n",
       "    }\n",
       "\n",
       "    .dataframe thead th {\n",
       "        text-align: right;\n",
       "    }\n",
       "</style>\n",
       "<table border=\"1\" class=\"dataframe\">\n",
       "  <thead>\n",
       "    <tr style=\"text-align: right;\">\n",
       "      <th></th>\n",
       "      <th>a</th>\n",
       "      <th>b</th>\n",
       "      <th>c</th>\n",
       "      <th>d</th>\n",
       "    </tr>\n",
       "  </thead>\n",
       "  <tbody>\n",
       "    <tr>\n",
       "      <th>0</th>\n",
       "      <td>0.435995</td>\n",
       "      <td>0.025926</td>\n",
       "      <td>0.549662</td>\n",
       "      <td>0.435322</td>\n",
       "    </tr>\n",
       "    <tr>\n",
       "      <th>1</th>\n",
       "      <td>0.420368</td>\n",
       "      <td>0.330335</td>\n",
       "      <td>NaN</td>\n",
       "      <td>0.619271</td>\n",
       "    </tr>\n",
       "    <tr>\n",
       "      <th>2</th>\n",
       "      <td>0.299655</td>\n",
       "      <td>0.266827</td>\n",
       "      <td>0.621134</td>\n",
       "      <td>0.529142</td>\n",
       "    </tr>\n",
       "  </tbody>\n",
       "</table>\n",
       "</div>"
      ],
      "text/plain": [
       "          a         b         c         d\n",
       "0  0.435995  0.025926  0.549662  0.435322\n",
       "1  0.420368  0.330335       NaN  0.619271\n",
       "2  0.299655  0.266827  0.621134  0.529142"
      ]
     },
     "execution_count": 10,
     "metadata": {},
     "output_type": "execute_result"
    }
   ],
   "source": [
    "np.random.seed(2)\n",
    "d = DF(np.random.rand(3,4), columns = ['a', 'b', 'c', 'd'])\n",
    "#d.ix[1,2] = np.nan  #AttributeError: 'DataFrame' object has no attribute 'ix'\n",
    "d.iloc[1,2] = np.nan #used iloc instead of ix\n",
    "d"
   ]
  },
  {
   "cell_type": "markdown",
   "metadata": {},
   "source": [
    "#### highlight_null　で欠損値を確認する"
   ]
  },
  {
   "cell_type": "code",
   "execution_count": 13,
   "metadata": {},
   "outputs": [
    {
     "data": {
      "text/html": [
       "<style  type=\"text/css\" >\n",
       "    #T_7848ca12_8091_11ea_ac92_319ff9ddc348row1_col2 {\n",
       "            background-color:  red;\n",
       "        }</style><table id=\"T_7848ca12_8091_11ea_ac92_319ff9ddc348\" ><thead>    <tr>        <th class=\"blank level0\" ></th>        <th class=\"col_heading level0 col0\" >a</th>        <th class=\"col_heading level0 col1\" >b</th>        <th class=\"col_heading level0 col2\" >c</th>        <th class=\"col_heading level0 col3\" >d</th>    </tr></thead><tbody>\n",
       "                <tr>\n",
       "                        <th id=\"T_7848ca12_8091_11ea_ac92_319ff9ddc348level0_row0\" class=\"row_heading level0 row0\" >0</th>\n",
       "                        <td id=\"T_7848ca12_8091_11ea_ac92_319ff9ddc348row0_col0\" class=\"data row0 col0\" >0.435995</td>\n",
       "                        <td id=\"T_7848ca12_8091_11ea_ac92_319ff9ddc348row0_col1\" class=\"data row0 col1\" >0.025926</td>\n",
       "                        <td id=\"T_7848ca12_8091_11ea_ac92_319ff9ddc348row0_col2\" class=\"data row0 col2\" >0.549662</td>\n",
       "                        <td id=\"T_7848ca12_8091_11ea_ac92_319ff9ddc348row0_col3\" class=\"data row0 col3\" >0.435322</td>\n",
       "            </tr>\n",
       "            <tr>\n",
       "                        <th id=\"T_7848ca12_8091_11ea_ac92_319ff9ddc348level0_row1\" class=\"row_heading level0 row1\" >1</th>\n",
       "                        <td id=\"T_7848ca12_8091_11ea_ac92_319ff9ddc348row1_col0\" class=\"data row1 col0\" >0.420368</td>\n",
       "                        <td id=\"T_7848ca12_8091_11ea_ac92_319ff9ddc348row1_col1\" class=\"data row1 col1\" >0.330335</td>\n",
       "                        <td id=\"T_7848ca12_8091_11ea_ac92_319ff9ddc348row1_col2\" class=\"data row1 col2\" >nan</td>\n",
       "                        <td id=\"T_7848ca12_8091_11ea_ac92_319ff9ddc348row1_col3\" class=\"data row1 col3\" >0.619271</td>\n",
       "            </tr>\n",
       "            <tr>\n",
       "                        <th id=\"T_7848ca12_8091_11ea_ac92_319ff9ddc348level0_row2\" class=\"row_heading level0 row2\" >2</th>\n",
       "                        <td id=\"T_7848ca12_8091_11ea_ac92_319ff9ddc348row2_col0\" class=\"data row2 col0\" >0.299655</td>\n",
       "                        <td id=\"T_7848ca12_8091_11ea_ac92_319ff9ddc348row2_col1\" class=\"data row2 col1\" >0.266827</td>\n",
       "                        <td id=\"T_7848ca12_8091_11ea_ac92_319ff9ddc348row2_col2\" class=\"data row2 col2\" >0.621134</td>\n",
       "                        <td id=\"T_7848ca12_8091_11ea_ac92_319ff9ddc348row2_col3\" class=\"data row2 col3\" >0.529142</td>\n",
       "            </tr>\n",
       "    </tbody></table>"
      ],
      "text/plain": [
       "<pandas.io.formats.style.Styler at 0x7f34243fc750>"
      ]
     },
     "execution_count": 13,
     "metadata": {},
     "output_type": "execute_result"
    }
   ],
   "source": [
    "d.style.highlight_null()"
   ]
  },
  {
   "cell_type": "markdown",
   "metadata": {},
   "source": [
    "#### highlight_max　で最大値を確認する"
   ]
  },
  {
   "cell_type": "code",
   "execution_count": 17,
   "metadata": {},
   "outputs": [
    {
     "data": {
      "text/html": [
       "<style  type=\"text/css\" >\n",
       "    #T_bcc05732_8091_11ea_ac92_319ff9ddc348row0_col0 {\n",
       "            background-color:  yellow;\n",
       "        }    #T_bcc05732_8091_11ea_ac92_319ff9ddc348row1_col1 {\n",
       "            background-color:  yellow;\n",
       "        }    #T_bcc05732_8091_11ea_ac92_319ff9ddc348row1_col3 {\n",
       "            background-color:  yellow;\n",
       "        }    #T_bcc05732_8091_11ea_ac92_319ff9ddc348row2_col2 {\n",
       "            background-color:  yellow;\n",
       "        }</style><table id=\"T_bcc05732_8091_11ea_ac92_319ff9ddc348\" ><thead>    <tr>        <th class=\"blank level0\" ></th>        <th class=\"col_heading level0 col0\" >a</th>        <th class=\"col_heading level0 col1\" >b</th>        <th class=\"col_heading level0 col2\" >c</th>        <th class=\"col_heading level0 col3\" >d</th>    </tr></thead><tbody>\n",
       "                <tr>\n",
       "                        <th id=\"T_bcc05732_8091_11ea_ac92_319ff9ddc348level0_row0\" class=\"row_heading level0 row0\" >0</th>\n",
       "                        <td id=\"T_bcc05732_8091_11ea_ac92_319ff9ddc348row0_col0\" class=\"data row0 col0\" >0.435995</td>\n",
       "                        <td id=\"T_bcc05732_8091_11ea_ac92_319ff9ddc348row0_col1\" class=\"data row0 col1\" >0.025926</td>\n",
       "                        <td id=\"T_bcc05732_8091_11ea_ac92_319ff9ddc348row0_col2\" class=\"data row0 col2\" >0.549662</td>\n",
       "                        <td id=\"T_bcc05732_8091_11ea_ac92_319ff9ddc348row0_col3\" class=\"data row0 col3\" >0.435322</td>\n",
       "            </tr>\n",
       "            <tr>\n",
       "                        <th id=\"T_bcc05732_8091_11ea_ac92_319ff9ddc348level0_row1\" class=\"row_heading level0 row1\" >1</th>\n",
       "                        <td id=\"T_bcc05732_8091_11ea_ac92_319ff9ddc348row1_col0\" class=\"data row1 col0\" >0.420368</td>\n",
       "                        <td id=\"T_bcc05732_8091_11ea_ac92_319ff9ddc348row1_col1\" class=\"data row1 col1\" >0.330335</td>\n",
       "                        <td id=\"T_bcc05732_8091_11ea_ac92_319ff9ddc348row1_col2\" class=\"data row1 col2\" >nan</td>\n",
       "                        <td id=\"T_bcc05732_8091_11ea_ac92_319ff9ddc348row1_col3\" class=\"data row1 col3\" >0.619271</td>\n",
       "            </tr>\n",
       "            <tr>\n",
       "                        <th id=\"T_bcc05732_8091_11ea_ac92_319ff9ddc348level0_row2\" class=\"row_heading level0 row2\" >2</th>\n",
       "                        <td id=\"T_bcc05732_8091_11ea_ac92_319ff9ddc348row2_col0\" class=\"data row2 col0\" >0.299655</td>\n",
       "                        <td id=\"T_bcc05732_8091_11ea_ac92_319ff9ddc348row2_col1\" class=\"data row2 col1\" >0.266827</td>\n",
       "                        <td id=\"T_bcc05732_8091_11ea_ac92_319ff9ddc348row2_col2\" class=\"data row2 col2\" >0.621134</td>\n",
       "                        <td id=\"T_bcc05732_8091_11ea_ac92_319ff9ddc348row2_col3\" class=\"data row2 col3\" >0.529142</td>\n",
       "            </tr>\n",
       "    </tbody></table>"
      ],
      "text/plain": [
       "<pandas.io.formats.style.Styler at 0x7f3423acd1d0>"
      ]
     },
     "execution_count": 17,
     "metadata": {},
     "output_type": "execute_result"
    }
   ],
   "source": [
    "d.style.highlight_max()  #各列"
   ]
  },
  {
   "cell_type": "code",
   "execution_count": 18,
   "metadata": {},
   "outputs": [
    {
     "data": {
      "text/html": [
       "<style  type=\"text/css\" >\n",
       "    #T_c10c87fc_8091_11ea_ac92_319ff9ddc348row0_col2 {\n",
       "            background-color:  yellow;\n",
       "        }    #T_c10c87fc_8091_11ea_ac92_319ff9ddc348row1_col3 {\n",
       "            background-color:  yellow;\n",
       "        }    #T_c10c87fc_8091_11ea_ac92_319ff9ddc348row2_col2 {\n",
       "            background-color:  yellow;\n",
       "        }</style><table id=\"T_c10c87fc_8091_11ea_ac92_319ff9ddc348\" ><thead>    <tr>        <th class=\"blank level0\" ></th>        <th class=\"col_heading level0 col0\" >a</th>        <th class=\"col_heading level0 col1\" >b</th>        <th class=\"col_heading level0 col2\" >c</th>        <th class=\"col_heading level0 col3\" >d</th>    </tr></thead><tbody>\n",
       "                <tr>\n",
       "                        <th id=\"T_c10c87fc_8091_11ea_ac92_319ff9ddc348level0_row0\" class=\"row_heading level0 row0\" >0</th>\n",
       "                        <td id=\"T_c10c87fc_8091_11ea_ac92_319ff9ddc348row0_col0\" class=\"data row0 col0\" >0.435995</td>\n",
       "                        <td id=\"T_c10c87fc_8091_11ea_ac92_319ff9ddc348row0_col1\" class=\"data row0 col1\" >0.025926</td>\n",
       "                        <td id=\"T_c10c87fc_8091_11ea_ac92_319ff9ddc348row0_col2\" class=\"data row0 col2\" >0.549662</td>\n",
       "                        <td id=\"T_c10c87fc_8091_11ea_ac92_319ff9ddc348row0_col3\" class=\"data row0 col3\" >0.435322</td>\n",
       "            </tr>\n",
       "            <tr>\n",
       "                        <th id=\"T_c10c87fc_8091_11ea_ac92_319ff9ddc348level0_row1\" class=\"row_heading level0 row1\" >1</th>\n",
       "                        <td id=\"T_c10c87fc_8091_11ea_ac92_319ff9ddc348row1_col0\" class=\"data row1 col0\" >0.420368</td>\n",
       "                        <td id=\"T_c10c87fc_8091_11ea_ac92_319ff9ddc348row1_col1\" class=\"data row1 col1\" >0.330335</td>\n",
       "                        <td id=\"T_c10c87fc_8091_11ea_ac92_319ff9ddc348row1_col2\" class=\"data row1 col2\" >nan</td>\n",
       "                        <td id=\"T_c10c87fc_8091_11ea_ac92_319ff9ddc348row1_col3\" class=\"data row1 col3\" >0.619271</td>\n",
       "            </tr>\n",
       "            <tr>\n",
       "                        <th id=\"T_c10c87fc_8091_11ea_ac92_319ff9ddc348level0_row2\" class=\"row_heading level0 row2\" >2</th>\n",
       "                        <td id=\"T_c10c87fc_8091_11ea_ac92_319ff9ddc348row2_col0\" class=\"data row2 col0\" >0.299655</td>\n",
       "                        <td id=\"T_c10c87fc_8091_11ea_ac92_319ff9ddc348row2_col1\" class=\"data row2 col1\" >0.266827</td>\n",
       "                        <td id=\"T_c10c87fc_8091_11ea_ac92_319ff9ddc348row2_col2\" class=\"data row2 col2\" >0.621134</td>\n",
       "                        <td id=\"T_c10c87fc_8091_11ea_ac92_319ff9ddc348row2_col3\" class=\"data row2 col3\" >0.529142</td>\n",
       "            </tr>\n",
       "    </tbody></table>"
      ],
      "text/plain": [
       "<pandas.io.formats.style.Styler at 0x7f343018d550>"
      ]
     },
     "execution_count": 18,
     "metadata": {},
     "output_type": "execute_result"
    }
   ],
   "source": [
    "d.style.highlight_max(axis =1)  #各行"
   ]
  },
  {
   "cell_type": "code",
   "execution_count": 19,
   "metadata": {},
   "outputs": [
    {
     "data": {
      "text/html": [
       "<style  type=\"text/css\" >\n",
       "    #T_13aad25c_8092_11ea_ac92_319ff9ddc348row0_col1 {\n",
       "            background-color:  yellow;\n",
       "        }    #T_13aad25c_8092_11ea_ac92_319ff9ddc348row0_col2 {\n",
       "            background-color:  yellow;\n",
       "        }    #T_13aad25c_8092_11ea_ac92_319ff9ddc348row0_col3 {\n",
       "            background-color:  yellow;\n",
       "        }    #T_13aad25c_8092_11ea_ac92_319ff9ddc348row2_col0 {\n",
       "            background-color:  yellow;\n",
       "        }</style><table id=\"T_13aad25c_8092_11ea_ac92_319ff9ddc348\" ><thead>    <tr>        <th class=\"blank level0\" ></th>        <th class=\"col_heading level0 col0\" >a</th>        <th class=\"col_heading level0 col1\" >b</th>        <th class=\"col_heading level0 col2\" >c</th>        <th class=\"col_heading level0 col3\" >d</th>    </tr></thead><tbody>\n",
       "                <tr>\n",
       "                        <th id=\"T_13aad25c_8092_11ea_ac92_319ff9ddc348level0_row0\" class=\"row_heading level0 row0\" >0</th>\n",
       "                        <td id=\"T_13aad25c_8092_11ea_ac92_319ff9ddc348row0_col0\" class=\"data row0 col0\" >0.435995</td>\n",
       "                        <td id=\"T_13aad25c_8092_11ea_ac92_319ff9ddc348row0_col1\" class=\"data row0 col1\" >0.025926</td>\n",
       "                        <td id=\"T_13aad25c_8092_11ea_ac92_319ff9ddc348row0_col2\" class=\"data row0 col2\" >0.549662</td>\n",
       "                        <td id=\"T_13aad25c_8092_11ea_ac92_319ff9ddc348row0_col3\" class=\"data row0 col3\" >0.435322</td>\n",
       "            </tr>\n",
       "            <tr>\n",
       "                        <th id=\"T_13aad25c_8092_11ea_ac92_319ff9ddc348level0_row1\" class=\"row_heading level0 row1\" >1</th>\n",
       "                        <td id=\"T_13aad25c_8092_11ea_ac92_319ff9ddc348row1_col0\" class=\"data row1 col0\" >0.420368</td>\n",
       "                        <td id=\"T_13aad25c_8092_11ea_ac92_319ff9ddc348row1_col1\" class=\"data row1 col1\" >0.330335</td>\n",
       "                        <td id=\"T_13aad25c_8092_11ea_ac92_319ff9ddc348row1_col2\" class=\"data row1 col2\" >nan</td>\n",
       "                        <td id=\"T_13aad25c_8092_11ea_ac92_319ff9ddc348row1_col3\" class=\"data row1 col3\" >0.619271</td>\n",
       "            </tr>\n",
       "            <tr>\n",
       "                        <th id=\"T_13aad25c_8092_11ea_ac92_319ff9ddc348level0_row2\" class=\"row_heading level0 row2\" >2</th>\n",
       "                        <td id=\"T_13aad25c_8092_11ea_ac92_319ff9ddc348row2_col0\" class=\"data row2 col0\" >0.299655</td>\n",
       "                        <td id=\"T_13aad25c_8092_11ea_ac92_319ff9ddc348row2_col1\" class=\"data row2 col1\" >0.266827</td>\n",
       "                        <td id=\"T_13aad25c_8092_11ea_ac92_319ff9ddc348row2_col2\" class=\"data row2 col2\" >0.621134</td>\n",
       "                        <td id=\"T_13aad25c_8092_11ea_ac92_319ff9ddc348row2_col3\" class=\"data row2 col3\" >0.529142</td>\n",
       "            </tr>\n",
       "    </tbody></table>"
      ],
      "text/plain": [
       "<pandas.io.formats.style.Styler at 0x7f3423acd7d0>"
      ]
     },
     "execution_count": 19,
     "metadata": {},
     "output_type": "execute_result"
    }
   ],
   "source": [
    "d.style.highlight_min()"
   ]
  },
  {
   "cell_type": "markdown",
   "metadata": {},
   "source": [
    "#### applymap で**セル**のスタイルを指定する。0.3以下のセルを太字にする\n",
    "セル"
   ]
  },
  {
   "cell_type": "code",
   "execution_count": 22,
   "metadata": {},
   "outputs": [
    {
     "data": {
      "text/html": [
       "<style  type=\"text/css\" >\n",
       "    #T_0f0d2df6_8094_11ea_ac92_319ff9ddc348row0_col1 {\n",
       "            font-weight:  bold;\n",
       "        }    #T_0f0d2df6_8094_11ea_ac92_319ff9ddc348row2_col0 {\n",
       "            font-weight:  bold;\n",
       "        }    #T_0f0d2df6_8094_11ea_ac92_319ff9ddc348row2_col1 {\n",
       "            font-weight:  bold;\n",
       "        }</style><table id=\"T_0f0d2df6_8094_11ea_ac92_319ff9ddc348\" ><thead>    <tr>        <th class=\"blank level0\" ></th>        <th class=\"col_heading level0 col0\" >a</th>        <th class=\"col_heading level0 col1\" >b</th>        <th class=\"col_heading level0 col2\" >c</th>        <th class=\"col_heading level0 col3\" >d</th>    </tr></thead><tbody>\n",
       "                <tr>\n",
       "                        <th id=\"T_0f0d2df6_8094_11ea_ac92_319ff9ddc348level0_row0\" class=\"row_heading level0 row0\" >0</th>\n",
       "                        <td id=\"T_0f0d2df6_8094_11ea_ac92_319ff9ddc348row0_col0\" class=\"data row0 col0\" >0.435995</td>\n",
       "                        <td id=\"T_0f0d2df6_8094_11ea_ac92_319ff9ddc348row0_col1\" class=\"data row0 col1\" >0.025926</td>\n",
       "                        <td id=\"T_0f0d2df6_8094_11ea_ac92_319ff9ddc348row0_col2\" class=\"data row0 col2\" >0.549662</td>\n",
       "                        <td id=\"T_0f0d2df6_8094_11ea_ac92_319ff9ddc348row0_col3\" class=\"data row0 col3\" >0.435322</td>\n",
       "            </tr>\n",
       "            <tr>\n",
       "                        <th id=\"T_0f0d2df6_8094_11ea_ac92_319ff9ddc348level0_row1\" class=\"row_heading level0 row1\" >1</th>\n",
       "                        <td id=\"T_0f0d2df6_8094_11ea_ac92_319ff9ddc348row1_col0\" class=\"data row1 col0\" >0.420368</td>\n",
       "                        <td id=\"T_0f0d2df6_8094_11ea_ac92_319ff9ddc348row1_col1\" class=\"data row1 col1\" >0.330335</td>\n",
       "                        <td id=\"T_0f0d2df6_8094_11ea_ac92_319ff9ddc348row1_col2\" class=\"data row1 col2\" >nan</td>\n",
       "                        <td id=\"T_0f0d2df6_8094_11ea_ac92_319ff9ddc348row1_col3\" class=\"data row1 col3\" >0.619271</td>\n",
       "            </tr>\n",
       "            <tr>\n",
       "                        <th id=\"T_0f0d2df6_8094_11ea_ac92_319ff9ddc348level0_row2\" class=\"row_heading level0 row2\" >2</th>\n",
       "                        <td id=\"T_0f0d2df6_8094_11ea_ac92_319ff9ddc348row2_col0\" class=\"data row2 col0\" >0.299655</td>\n",
       "                        <td id=\"T_0f0d2df6_8094_11ea_ac92_319ff9ddc348row2_col1\" class=\"data row2 col1\" >0.266827</td>\n",
       "                        <td id=\"T_0f0d2df6_8094_11ea_ac92_319ff9ddc348row2_col2\" class=\"data row2 col2\" >0.621134</td>\n",
       "                        <td id=\"T_0f0d2df6_8094_11ea_ac92_319ff9ddc348row2_col3\" class=\"data row2 col3\" >0.529142</td>\n",
       "            </tr>\n",
       "    </tbody></table>"
      ],
      "text/plain": [
       "<pandas.io.formats.style.Styler at 0x7f3423ac74d0>"
      ]
     },
     "execution_count": 22,
     "metadata": {},
     "output_type": "execute_result"
    }
   ],
   "source": [
    "#d.style.applymap(lambda s: 'font-weight: bold' if s < 0.3)  #SyntaxError: invalid syntax;  else '' が必要だった\n",
    "d.style.applymap(lambda s: 'font-weight: bold' if s < 0.3 else '')"
   ]
  },
  {
   "cell_type": "markdown",
   "metadata": {},
   "source": [
    "#### apply で列に対してセルのスタイルを指定する。0.3以下のセルを太字にする  →日本語の意味がわからない\n",
    "列"
   ]
  },
  {
   "cell_type": "code",
   "execution_count": 31,
   "metadata": {},
   "outputs": [
    {
     "data": {
      "text/plain": [
       "0    0.025926\n",
       "1    0.330335\n",
       "2    0.266827\n",
       "Name: b, dtype: float64"
      ]
     },
     "execution_count": 31,
     "metadata": {},
     "output_type": "execute_result"
    }
   ],
   "source": [
    "d['b']"
   ]
  },
  {
   "cell_type": "code",
   "execution_count": 33,
   "metadata": {},
   "outputs": [
    {
     "data": {
      "text/html": [
       "<style  type=\"text/css\" >\n",
       "    #T_e9654a38_8094_11ea_ac92_319ff9ddc348row0_col1 {\n",
       "            font-weight:  bold;\n",
       "        }    #T_e9654a38_8094_11ea_ac92_319ff9ddc348row2_col0 {\n",
       "            font-weight:  bold;\n",
       "        }    #T_e9654a38_8094_11ea_ac92_319ff9ddc348row2_col1 {\n",
       "            font-weight:  bold;\n",
       "        }</style><table id=\"T_e9654a38_8094_11ea_ac92_319ff9ddc348\" ><thead>    <tr>        <th class=\"blank level0\" ></th>        <th class=\"col_heading level0 col0\" >a</th>        <th class=\"col_heading level0 col1\" >b</th>        <th class=\"col_heading level0 col2\" >c</th>        <th class=\"col_heading level0 col3\" >d</th>    </tr></thead><tbody>\n",
       "                <tr>\n",
       "                        <th id=\"T_e9654a38_8094_11ea_ac92_319ff9ddc348level0_row0\" class=\"row_heading level0 row0\" >0</th>\n",
       "                        <td id=\"T_e9654a38_8094_11ea_ac92_319ff9ddc348row0_col0\" class=\"data row0 col0\" >0.435995</td>\n",
       "                        <td id=\"T_e9654a38_8094_11ea_ac92_319ff9ddc348row0_col1\" class=\"data row0 col1\" >0.025926</td>\n",
       "                        <td id=\"T_e9654a38_8094_11ea_ac92_319ff9ddc348row0_col2\" class=\"data row0 col2\" >0.549662</td>\n",
       "                        <td id=\"T_e9654a38_8094_11ea_ac92_319ff9ddc348row0_col3\" class=\"data row0 col3\" >0.435322</td>\n",
       "            </tr>\n",
       "            <tr>\n",
       "                        <th id=\"T_e9654a38_8094_11ea_ac92_319ff9ddc348level0_row1\" class=\"row_heading level0 row1\" >1</th>\n",
       "                        <td id=\"T_e9654a38_8094_11ea_ac92_319ff9ddc348row1_col0\" class=\"data row1 col0\" >0.420368</td>\n",
       "                        <td id=\"T_e9654a38_8094_11ea_ac92_319ff9ddc348row1_col1\" class=\"data row1 col1\" >0.330335</td>\n",
       "                        <td id=\"T_e9654a38_8094_11ea_ac92_319ff9ddc348row1_col2\" class=\"data row1 col2\" >nan</td>\n",
       "                        <td id=\"T_e9654a38_8094_11ea_ac92_319ff9ddc348row1_col3\" class=\"data row1 col3\" >0.619271</td>\n",
       "            </tr>\n",
       "            <tr>\n",
       "                        <th id=\"T_e9654a38_8094_11ea_ac92_319ff9ddc348level0_row2\" class=\"row_heading level0 row2\" >2</th>\n",
       "                        <td id=\"T_e9654a38_8094_11ea_ac92_319ff9ddc348row2_col0\" class=\"data row2 col0\" >0.299655</td>\n",
       "                        <td id=\"T_e9654a38_8094_11ea_ac92_319ff9ddc348row2_col1\" class=\"data row2 col1\" >0.266827</td>\n",
       "                        <td id=\"T_e9654a38_8094_11ea_ac92_319ff9ddc348row2_col2\" class=\"data row2 col2\" >0.621134</td>\n",
       "                        <td id=\"T_e9654a38_8094_11ea_ac92_319ff9ddc348row2_col3\" class=\"data row2 col3\" >0.529142</td>\n",
       "            </tr>\n",
       "    </tbody></table>"
      ],
      "text/plain": [
       "<pandas.io.formats.style.Styler at 0x7f342378aa10>"
      ]
     },
     "execution_count": 33,
     "metadata": {},
     "output_type": "execute_result"
    }
   ],
   "source": [
    "d.style.apply(lambda s: ['font-weight: bold' if c < 0.3 else '' for c in s])\n"
   ]
  }
 ],
 "metadata": {
  "kernelspec": {
   "display_name": "Python 3",
   "language": "python",
   "name": "python3"
  },
  "language_info": {
   "codemirror_mode": {
    "name": "ipython",
    "version": 3
   },
   "file_extension": ".py",
   "mimetype": "text/x-python",
   "name": "python",
   "nbconvert_exporter": "python",
   "pygments_lexer": "ipython3",
   "version": "3.7.7"
  }
 },
 "nbformat": 4,
 "nbformat_minor": 4
}
