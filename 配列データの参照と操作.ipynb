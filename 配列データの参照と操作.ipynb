{
 "cells": [
  {
   "cell_type": "code",
   "execution_count": 1,
   "metadata": {},
   "outputs": [],
   "source": [
    "import numpy as np"
   ]
  },
  {
   "cell_type": "markdown",
   "metadata": {},
   "source": [
    "配列データの参照"
   ]
  },
  {
   "cell_type": "code",
   "execution_count": 13,
   "metadata": {},
   "outputs": [
    {
     "name": "stdout",
     "output_type": "stream",
     "text": [
      "a=  [0 1 2 3 4 5 6 7 8 9]\n",
      "a=  [  0   1   2   3   4   5   6 100   8   9]\n",
      "b=  [[ 1  2  3  4]\n",
      " [ 5  6  7  8]\n",
      " [ 9 10 11 12]]\n",
      "b=  [[ 1  2  3 11]\n",
      " [ 5  6  7  8]\n",
      " [ 9 10  4 12]]\n"
     ]
    }
   ],
   "source": [
    "a = np.arange(10); print('a= ', a)\n",
    "a[-3]=100; print('a= ', a)\n",
    "\n",
    "b=np.array([[1,2,3,4],[5,6,7,8],[9,10,11,12]]); print('b= ', b)\n",
    "\n",
    "b[0,-1], b[2,-2] = b[2,-2], b[0,-1]; print('b= ', b)"
   ]
  },
  {
   "cell_type": "markdown",
   "metadata": {},
   "source": [
    "# スライス"
   ]
  },
  {
   "cell_type": "code",
   "execution_count": 18,
   "metadata": {},
   "outputs": [
    {
     "name": "stdout",
     "output_type": "stream",
     "text": [
      "[ 0  1  2  3  4  5  6  7  8  9 10 11 12 13 14 15 16 17 18 19]\n",
      "[ 0  1 -1  3 -2  5 -3  7 -4  9 -5 11 -6 13 -7 15 -8 17 -9 19]\n"
     ]
    }
   ],
   "source": [
    "a=np.arange(20)\n",
    "b=-np.arange(10)\n",
    "print(a)\n",
    "\n",
    "a[0:20:2]=b\n",
    "print(a)"
   ]
  },
  {
   "cell_type": "code",
   "execution_count": 35,
   "metadata": {},
   "outputs": [
    {
     "name": "stdout",
     "output_type": "stream",
     "text": [
      "a=  [0 1 2 3 4 5 6 7 8 9]\n",
      "b=  [[  0  -1  -2  -3]\n",
      " [ -4  -5  -6  -7]\n",
      " [ -8  -9 -10 -11]]\n",
      "aを反対並びにする\n",
      "a_rev=  [9 8 7 6 5 4 3 2 1 0]\n",
      "b_2: 特定の行をスライス\n",
      "b_2=  [ -8  -9 -10 -11]\n",
      "(4,)\n",
      "b3: 特定の列をスライス ※一行になってしまう\n",
      "b3=  [ -3  -7 -11]\n",
      "(3,)\n"
     ]
    }
   ],
   "source": [
    "#他のスライス例\n",
    "\n",
    "#スライス表記を代入演算可能だが、型が異なると、ブロードキャストが行われる。\n",
    "\n",
    "a=np.arange(10); print('a= ', a)\n",
    "b=-np.arange(12).reshape(3,4); print('b= ', b)\n",
    "\n",
    "\n",
    "print('aを反対並びにする')\n",
    "a_rev=a[::-1]   #反対並び\n",
    "print('a_rev= ', a_rev)\n",
    "\n",
    "print('b_2: 特定の行をスライス')\n",
    "b_2 = b[2,:]; print('b_2= ', b_2);print(b_2.shape)\n",
    "print('b3: 特定の列をスライス ※一行になってしまう')\n",
    "b3 = b[:,3]; print('b3= ', b3);print(b3.shape)"
   ]
  },
  {
   "cell_type": "markdown",
   "metadata": {},
   "source": [
    "# reshape"
   ]
  },
  {
   "cell_type": "code",
   "execution_count": 44,
   "metadata": {},
   "outputs": [
    {
     "name": "stdout",
     "output_type": "stream",
     "text": [
      "a=  [ 0  1  2  3  4  5  6  7  8  9 10 11 12 13 14]\n",
      "a=  [[ 0  1  2  3  4]\n",
      " [ 5  6  7  8  9]\n",
      " [10 11 12 13 14]]\n",
      "b=  [[ 0  1  2]\n",
      " [ 3  4  5]\n",
      " [ 6  7  8]\n",
      " [ 9 10 11]\n",
      " [12 13 14]]\n",
      "b=  [[ 0  1  2]\n",
      " [ 3  4  5]\n",
      " [ 6  7  8]\n",
      " [ 9 10 11]\n",
      " [12 13 14]]\n",
      "b=  [[ 0  1  2]\n",
      " [ 3  4  5]\n",
      " [ 6  7  8]\n",
      " [ 9 10 11]\n",
      " [12 13 14]]\n",
      "c1=  [ 0  1  2  3  4  5  6  7  8  9 10 11 12 13 14]\n",
      "c2=  [ 0  1  2  3  4  5  6  7  8  9 10 11 12 13 14]\n",
      "c3=  [[ 0  1  2  3  4  5  6  7  8  9 10 11 12 13 14]]\n"
     ]
    }
   ],
   "source": [
    "a = np.arange(15); print('a= ', a)\n",
    "a.shape=(3,5); print('a= ', a)\n",
    "\n",
    "b=a.reshape(5,3); print('b= ', b)\n",
    "b=np.reshape(a,(5,3)); print('b= ', b)\n",
    "\n",
    "b=a.reshape((5,3)); print('b= ', b)\n",
    "# b=a.reshape((6,-1)); print('b= ', b) #数が合わないと、エラーになる\n",
    "c1=a.reshape(-1); print('c1= ', c1)\n",
    "c2=a.reshape((-1,)); print('c2= ', c2)\n",
    "c3=a.reshape((1,-1)); print('c3= ', c3)\n"
   ]
  },
  {
   "cell_type": "markdown",
   "metadata": {},
   "source": [
    "reshapeで型の変形"
   ]
  },
  {
   "cell_type": "code",
   "execution_count": 46,
   "metadata": {},
   "outputs": [
    {
     "name": "stdout",
     "output_type": "stream",
     "text": [
      "a=  [[ 0  1  2  3]\n",
      " [ 4  5  6  7]\n",
      " [ 8  9 10 11]]\n",
      "b=  [[ 0  1  2  3  4  5]\n",
      " [ 6  7  8  9 10 11]]\n",
      "b=  [ 0  1  2  3  4  5  6  7  8  9 10 11]\n"
     ]
    }
   ],
   "source": [
    "a = np.arange(12).reshape(3,4); print('a= ', a)\n",
    "\n",
    "b=a.reshape(-1,6); print('b= ', b)\n",
    "\n",
    "b=a.reshape(-1); print('b= ', b)"
   ]
  },
  {
   "cell_type": "markdown",
   "metadata": {},
   "source": [
    "# newaxis"
   ]
  },
  {
   "cell_type": "code",
   "execution_count": 55,
   "metadata": {},
   "outputs": [
    {
     "name": "stdout",
     "output_type": "stream",
     "text": [
      "a=  [0 1 2 3 4]\n",
      "a.shape=  (5,)\n",
      "a=  [[0 1 2 3 4]]\n",
      "a.shape=  (1, 5)\n",
      "a=  [0 1 2 3 4]\n",
      "a.shape=  (5,)\n",
      "a=  [[0]\n",
      " [1]\n",
      " [2]\n",
      " [3]\n",
      " [4]]\n",
      "a.shape=  (5, 1)\n",
      "a=  [0 1 2 3 4]\n",
      "a.shape=  (5,)\n",
      "a=  [[[0]\n",
      "  [1]\n",
      "  [2]\n",
      "  [3]\n",
      "  [4]]]\n",
      "a.shape=  (1, 5, 1)\n"
     ]
    }
   ],
   "source": [
    "a = np.arange(5); print('a= ', a);print('a.shape= ', a.shape)\n",
    "\n",
    "a=a[np.newaxis,:]; \n",
    "print('a= ', a);print('a.shape= ', a.shape)\n",
    "\n",
    "a = np.arange(5); print('a= ', a);print('a.shape= ', a.shape)\n",
    "a=a[:,np.newaxis]; \n",
    "print('a= ', a);print('a.shape= ', a.shape)\n",
    "\n",
    "a = np.arange(5); print('a= ', a);print('a.shape= ', a.shape)\n",
    "a=a[np.newaxis,:, np.newaxis]; \n",
    "print('a= ', a);print('a.shape= ', a.shape)\n"
   ]
  },
  {
   "cell_type": "markdown",
   "metadata": {},
   "source": [
    "# ravel\n",
    "\n",
    "配列を一次元にする、reshape(-1)相当"
   ]
  },
  {
   "cell_type": "code",
   "execution_count": 58,
   "metadata": {},
   "outputs": [
    {
     "name": "stdout",
     "output_type": "stream",
     "text": [
      "a=  [[ 0  1  2  3]\n",
      " [ 4  5  6  7]\n",
      " [ 8  9 10 11]]\n",
      "a.ravel=  [ 0  1  2  3  4  5  6  7  8  9 10 11]\n",
      "a=  [[ 0  1  2  3]\n",
      " [ 4  5  6  7]\n",
      " [ 8  9 10 11]]\n",
      "a.reshape=  [ 0  1  2  3  4  5  6  7  8  9 10 11]\n"
     ]
    }
   ],
   "source": [
    "a = np.arange(12).reshape(3,4); print('a= ', a)\n",
    "\n",
    "print('a.ravel= ', a.ravel())\n",
    "\n",
    "a = np.arange(12).reshape(3,4); print('a= ', a)\n",
    "print('a.reshape= ', a.reshape(-1))"
   ]
  },
  {
   "cell_type": "markdown",
   "metadata": {},
   "source": [
    "# index array"
   ]
  },
  {
   "cell_type": "code",
   "execution_count": 66,
   "metadata": {},
   "outputs": [
    {
     "name": "stdout",
     "output_type": "stream",
     "text": [
      "[ 5  7  7 10  0]\n",
      "[[ 6  3]\n",
      " [14 13]]\n"
     ]
    }
   ],
   "source": [
    "#index番号で値を読み取る\n",
    "#Indexがマイナスの場合、後ろから読み取る\n",
    "\n",
    "a=np.arange(15)\n",
    "print(a[np.array([5,7,7,-5,0])]) #([ * * * ]) index\n",
    "print(a[np.array([[6,3],[-1,-2]])])\n"
   ]
  },
  {
   "cell_type": "code",
   "execution_count": 70,
   "metadata": {},
   "outputs": [
    {
     "name": "stdout",
     "output_type": "stream",
     "text": [
      "a=  [[ 0  1  2  3  4]\n",
      " [ 5  6  7  8  9]\n",
      " [10 11 12 13 14]\n",
      " [15 16 17 18 19]]\n",
      "x:  [ 0  2 -3]\n",
      "y:  [2 1 4]\n",
      "a[x,y]=  [ 2 11  9]\n"
     ]
    }
   ],
   "source": [
    "a = np.arange(20).reshape(4,5); print('a= ', a)\n",
    "\n",
    "x=np.array([0,2,-3]); print('x: ', x) \n",
    "y=np.array([2,1,4]); print('y: ', y)\n",
    "print('a[x,y]= ', a[x,y]); #a[0,2], a[2,1], a[-3,4]を返す"
   ]
  },
  {
   "cell_type": "markdown",
   "metadata": {},
   "source": [
    "Bool 配列"
   ]
  },
  {
   "cell_type": "code",
   "execution_count": 83,
   "metadata": {},
   "outputs": [
    {
     "name": "stdout",
     "output_type": "stream",
     "text": [
      "a=  [-5. -4. -3. -2. -1.  0.  1.  2.  3.  4.  5.]\n",
      "a2=  [-5 -4 -3 -2 -1  0  1  2  3  4  5]\n",
      "b=  <generator object <genexpr> at 0x7f09508a74d0>\n",
      "c=  [False False False False False False  True  True  True  True  True]\n",
      "[1. 2. 3. 4. 5.]\n"
     ]
    }
   ],
   "source": [
    "#特定の条件に満たすセルを取り出すのに使える\n",
    "\n",
    "a=np.linspace(-5,5,11); print('a= ', a)\n",
    "a2=np.arange(-5,6); print('a2= ', a2)\n",
    "\n",
    "b=np.array(x>0 for x in a);print('b= ', b)\n",
    "c=np.array([x>0 for x in a]);print('c= ', c)\n",
    "\n",
    "# print(a[b]) 　　エラー：　IndexError: arrays used as indices must be of integer (or boolean) type\n",
    "print(a[c])"
   ]
  },
  {
   "cell_type": "code",
   "execution_count": 93,
   "metadata": {},
   "outputs": [
    {
     "name": "stdout",
     "output_type": "stream",
     "text": [
      "a=  [[ 0.  1.  2.  3.]\n",
      " [ 4.  5.  6.  7.]\n",
      " [ 8.  9. 10. 11.]\n",
      " [12. 13. 14. 15.]]\n",
      "a[b]=  [[ 0.  1.  2.  3.]\n",
      " [ 4.  5.  6.  7.]\n",
      " [ 8.  9. 10. 11.]]\n",
      "a[:,b]=  [[ 0.  1.  2.]\n",
      " [ 4.  5.  6.]\n",
      " [ 8.  9. 10.]\n",
      " [12. 13. 14.]]\n"
     ]
    }
   ],
   "source": [
    "a=np.linspace(0,15,16).reshape(4,4); print('a= ', a)\n",
    "\n",
    "b=np.array([True, True, True, False]);print('a[b]= ', a[b])\n",
    "\n",
    "b=np.array([True, True, True, False]);print('a[:,b]= ', a[:,b])"
   ]
  }
 ],
 "metadata": {
  "kernelspec": {
   "display_name": "Python 3",
   "language": "python",
   "name": "python3"
  },
  "language_info": {
   "codemirror_mode": {
    "name": "ipython",
    "version": 3
   },
   "file_extension": ".py",
   "mimetype": "text/x-python",
   "name": "python",
   "nbconvert_exporter": "python",
   "pygments_lexer": "ipython3",
   "version": "3.7.7"
  }
 },
 "nbformat": 4,
 "nbformat_minor": 4
}
